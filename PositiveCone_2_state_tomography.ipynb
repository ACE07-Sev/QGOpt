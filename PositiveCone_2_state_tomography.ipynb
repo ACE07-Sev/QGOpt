{
 "cells": [
  {
   "cell_type": "code",
   "execution_count": 1,
   "metadata": {},
   "outputs": [],
   "source": [
    "import tensorflow as tf\n",
    "import matplotlib.pyplot as plt\n",
    "from math import sqrt\n",
    "import QGOpt as qgo"
   ]
  },
  {
   "cell_type": "markdown",
   "metadata": {},
   "source": [
    "#### Parameters of an experiment."
   ]
  },
  {
   "cell_type": "code",
   "execution_count": 3,
   "metadata": {},
   "outputs": [],
   "source": [
    "#=============================================#\n",
    "num_of_qubits = 3  # number of qubits\n",
    "num_of_meas = 100000  # number of measurements\n",
    "#=============================================#"
   ]
  },
  {
   "cell_type": "markdown",
   "metadata": {},
   "source": [
    "#### Many qubits IC POVM."
   ]
  },
  {
   "cell_type": "code",
   "execution_count": 4,
   "metadata": {},
   "outputs": [],
   "source": [
    "def kron(A, B):\n",
    "    \"\"\"Kronecker product of two tensors\n",
    "    Args:\n",
    "        A: tf tensor of shape (q, n, k)\n",
    "        B: tf tensor of shape (p, m, l)\n",
    "    Returns:\n",
    "        tf tensor of shape (q * p, n * m, k * l)\"\"\"\n",
    "    AB = tf.tensordot(A, B, axes=0)\n",
    "    AB = tf.transpose(AB, (0, 3, 1, 4, 2, 5))\n",
    "    shape = AB.shape\n",
    "    AB = tf.reshape(AB, (shape[0] * shape[1],\n",
    "                         shape[2] * shape[3],\n",
    "                         shape[4] * shape[5]))\n",
    "    return AB\n",
    "\n",
    "# Pauli matrices\n",
    "sigma_x = tf.constant([[0, 1], [1, 0]], dtype=tf.complex128)\n",
    "sigma_y = tf.constant([[0 + 0j, -1j], [1j, 0 + 0j]], dtype=tf.complex128)\n",
    "sigma_z = tf.constant([[1, 0], [0, -1]], dtype=tf.complex128)\n",
    "\n",
    "# All Pauli matrices in one tensor\n",
    "sigma = tf.concat([sigma_x[tf.newaxis],\n",
    "                   sigma_y[tf.newaxis],\n",
    "                   sigma_z[tf.newaxis]], axis=0)\n",
    "\n",
    "# coordinates of thetrahedron peaks\n",
    "s0 = tf.constant([0, 0, 1], dtype=tf.complex128)\n",
    "s1 = tf.constant([2 * sqrt(2) / 3, 0, -1/3], dtype=tf.complex128)\n",
    "s2 = tf.constant([-sqrt(2) / 3, sqrt(2 / 3), -1 / 3], dtype=tf.complex128)\n",
    "s3 = tf.constant([-sqrt(2) / 3, -sqrt(2 / 3), -1 / 3], dtype=tf.complex128)\n",
    "\n",
    "# coordinates of thetrahedron peaks in one tensor\n",
    "s = tf.concat([s0[tf.newaxis],\n",
    "               s1[tf.newaxis],\n",
    "               s2[tf.newaxis],\n",
    "               s3[tf.newaxis]], axis=0)\n",
    "\n",
    "# One qubit thetrahedral POVM\n",
    "M = 0.25 * (tf.eye(2, dtype=tf.complex128) + tf.tensordot(s, sigma, axes=1))\n",
    "\n",
    "# Many qubits POVM\n",
    "Mmq = M\n",
    "for _ in range(num_of_qubits - 1):\n",
    "    Mmq = kron(Mmq, M)"
   ]
  },
  {
   "cell_type": "markdown",
   "metadata": {},
   "source": [
    "#### Data set generation (measurement outcomes simulation)."
   ]
  },
  {
   "cell_type": "code",
   "execution_count": 6,
   "metadata": {},
   "outputs": [],
   "source": [
    "# Random density matrix\n",
    "rho = tf.random.normal((2 ** num_of_qubits, 2 ** num_of_qubits, 2), dtype=tf.float64)\n",
    "rho = qgo.manifolds.real_to_complex(rho)\n",
    "rho = tf.linalg.adjoint(rho) @ rho\n",
    "rho_true = rho / tf.linalg.trace(rho)\n",
    "\n",
    "# Measurements simulation\n",
    "P = tf.cast(tf.einsum('ijk,kj->i', Mmq, rho), dtype=tf.float64)\n",
    "eps = tf.random.uniform((num_of_meas,\n",
    "                         2 ** (2 * num_of_qubits)),\n",
    "                        dtype=tf.float64)\n",
    "eps = -tf.math.log(-tf.math.log(eps))\n",
    "ind_set = tf.math.argmax(eps + tf.math.log(P), axis=-1)\n",
    "\n",
    "# Data set (projectors came true)\n",
    "M_set = tf.gather_nd(Mmq, ind_set[:, tf.newaxis])"
   ]
  },
  {
   "cell_type": "markdown",
   "metadata": {},
   "source": [
    "#### Optimization loop maximizes the logarithmic likelihood function."
   ]
  },
  {
   "cell_type": "code",
   "execution_count": 8,
   "metadata": {},
   "outputs": [],
   "source": [
    "# Parameters of learning\n",
    "#=========================================#\n",
    "lr = 0.3  # learning rate\n",
    "num_of_iter = 2000  # number of iterations\n",
    "#=========================================#\n",
    "\n",
    "# Initial density matrix\n",
    "rho = tf.random.normal((2 ** num_of_qubits, 2 ** num_of_qubits, 2), dtype=tf.float64)\n",
    "rho = qgo.manifolds.real_to_complex(rho)\n",
    "rho = tf.linalg.adjoint(rho) @ rho\n",
    "rho = rho / tf.linalg.trace(rho)\n",
    "rho_var = tf.Variable(qgo.manifolds.complex_to_real(rho))  # tf Variable to be trained\n",
    "\n",
    "# optimizer initialization\n",
    "m = qgo.manifolds.PositiveCone() # S++ manifold\n",
    "opt = qgo.optimizers.RAdam(m, lr) # riemannian optimizer\n",
    "\n",
    "dist = []  # to be filled by trace distance vs iteration\n",
    "losses = []  # to be filled by loss vs iteration\n",
    "\n",
    "for _ in range(num_of_iter):\n",
    "    with tf.GradientTape() as tape:\n",
    "        rho_var_c = qgo.manifolds.real_to_complex(rho_var)\n",
    "        rho_var_c = rho_var_c / tf.linalg.trace(rho_var_c)\n",
    "        p = tf.cast(tf.tensordot(tf.reshape(M_set, (num_of_meas, -1)),\n",
    "                                 tf.reshape(tf.transpose(rho_var_c), (-1,)), axes=1), dtype=tf.float64)\n",
    "        loss = -tf.reduce_mean(tf.math.log(p))  # negatibe log likelihood\n",
    "    grad = tape.gradient(loss, rho_var)  # gradient\n",
    "    opt.apply_gradients(zip([grad], [rho_var]))  # optimization step\n",
    "    losses.append(loss)\n",
    "    dist.append(0.5 * tf.reduce_sum(tf.abs(tf.linalg.eigvalsh(rho_var_c - rho_true))))"
   ]
  },
  {
   "cell_type": "markdown",
   "metadata": {},
   "source": [
    "#### Plotting of trace distance between the true state and the reconstructed state."
   ]
  },
  {
   "cell_type": "code",
   "execution_count": 9,
   "metadata": {},
   "outputs": [
    {
     "data": {
      "image/png": "[encoded data removed]",
      "text/plain": [
       "<Figure size 432x288 with 1 Axes>"
      ]
     },
     "metadata": {
      "needs_background": "light"
     },
     "output_type": "display_data"
    }
   ],
   "source": [
    "plt.plot(dist, 'b')\n",
    "plt.yscale('log')\n",
    "plt.ylabel(r'$|\\Delta\\varrho|$')\n",
    "plt.xlabel('iter')\n",
    "plt.savefig('trace_dist.pdf')"
   ]
  },
  {
   "cell_type": "markdown",
   "metadata": {},
   "source": [
    "#### Plotting negative log likelihood."
   ]
  },
  {
   "cell_type": "code",
   "execution_count": 10,
   "metadata": {},
   "outputs": [
    {
     "data": {
      "text/plain": [
       "Text(0, 0.5, '$|\\\\log P[X|\\\\rho] - \\\\log P[X|\\\\rho_{\\\\rm true}]|$')"
      ]
     },
     "execution_count": 10,
     "metadata": {},
     "output_type": "execute_result"
    },
    {
     "data": {
      "image/png": "[encoded data removed]",
      "text/plain": [
       "<Figure size 432x288 with 1 Axes>"
      ]
     },
     "metadata": {
      "needs_background": "light"
     },
     "output_type": "display_data"
    },
    {
     "data": {
      "image/png": "[encoded data removed]",
      "text/plain": [
       "<Figure size 432x288 with 1 Axes>"
      ]
     },
     "metadata": {
      "needs_background": "light"
     },
     "output_type": "display_data"
    }
   ],
   "source": [
    "# True value of log likelihood (on real dens. matrix)\n",
    "true_llh = -tf.reduce_mean(tf.math.log(tf.cast(tf.linalg.trace(rho_true @ M_set),\n",
    "                                               dtype=tf.float64)))\n",
    "true_llh = true_llh * tf.ones(len(losses), dtype=tf.float64)\n",
    "\n",
    "# Plotting\n",
    "fig = plt.figure()\n",
    "plt.plot(losses, 'b')\n",
    "plt.plot(true_llh, 'r--')\n",
    "plt.xlabel('iter')\n",
    "plt.legend([r'$-\\log P[X|\\rho]$',\n",
    "            r'$-\\log P[X|\\rho_{\\rm true}]$'])\n",
    "\n",
    "fig = plt.figure()\n",
    "plt.plot(tf.abs(tf.convert_to_tensor(losses) - true_llh), 'b')\n",
    "plt.yscale('log')\n",
    "plt.xlabel('iter')\n",
    "plt.ylabel(r'$|\\log P[X|\\rho] - \\log P[X|\\rho_{\\rm true}]|$')"
   ]
  }
 ],
 "metadata": {
  "kernelspec": {
   "display_name": "Python 3",
   "language": "python",
   "name": "python3"
  },
  "language_info": {
   "codemirror_mode": {
    "name": "ipython",
    "version": 3
   },
   "file_extension": ".py",
   "mimetype": "text/x-python",
   "name": "python",
   "nbconvert_exporter": "python",
   "pygments_lexer": "ipython3",
   "version": "3.7.4"
  }
 },
 "nbformat": 4,
 "nbformat_minor": 2
}
