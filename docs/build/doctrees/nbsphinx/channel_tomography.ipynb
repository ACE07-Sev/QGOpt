{
 "cells": [
  {
   "cell_type": "markdown",
   "metadata": {
    "id": "yCpENKsOeRKt"
   },
   "source": [
    "# Quantum channel tomography\n",
    "\n",
    "One can open this notebook in Google Colab (is recommended)\n",
    "\n",
    "[![Open In Colab](https://colab.research.google.com/assets/colab-badge.svg)](https://colab.research.google.com/github/LuchnikovI/QGOpt/blob/master/docs/build/doctrees/nbsphinx/channel_tomography.ipynb)\n",
    "\n",
    "In this tutorial, we perform quantum channel tomography via Riemannian optimization. First two blocks of code (1. Many-qubit, informationally complete, positive operator-valued measure (IC POVM) and 2. Data set generation (measurement outcomes simulation)) are refered to data generation, third bock dedicated to tomography of a channel. \n",
    "\n",
    "First, one needs to import all necessary libraries."
   ]
  },
  {
   "cell_type": "code",
   "execution_count": 1,
   "metadata": {
    "id": "gdotZMMLeOn6"
   },
   "outputs": [],
   "source": [
    "import tensorflow as tf  # tf 2.x\n",
    "import matplotlib.pyplot as plt\n",
    "from math import sqrt\n",
    "\n",
    "try:\n",
    "    import QGOpt as qgo\n",
    "except ImportError:\n",
    "    !pip install git+https://github.com/LuchnikovI/QGOpt\n",
    "    import QGOpt as qgo"
   ]
  },
  {
   "cell_type": "markdown",
   "metadata": {
    "id": "azpIZCm2d8Ou"
   },
   "source": [
    "## 1. Many-qubit, informationally complete, positive operator-valued measure (IC POVM)\n",
    "\n",
    "Before generating measurement outcomes and performing quantum tomography, one needs to introduce POVM describing quantum measurements. For simplicity, we use one-qubit tetrahedral POVM and generalize it on a many-qubit case by taking tensor product between POVM elements, i.e. $\\{M_\\alpha\\}_{\\alpha=1}^4$ is the one-qubit tetrahedral POVM, $\\{M_{\\alpha_1}\\otimes \\dots \\otimes M_{\\alpha_N}\\}_{\\alpha_1=1,\\dots,\\alpha_N=1}^4$ is the many-qubits tetrahedral POVM."
   ]
  },
  {
   "cell_type": "code",
   "execution_count": 2,
   "metadata": {
    "id": "OGPbEyFZd8Ov"
   },
   "outputs": [],
   "source": [
    "# Auxiliary function that returns Kronecker product between two\n",
    "# POVM elements A and B\n",
    "def kron(A, B):\n",
    "    \"\"\"Kronecker product of two POVM elements.\n",
    "\n",
    "    Args:\n",
    "        A: complex valued tensor of shape (q, n, k).\n",
    "        B: complex valued tensor of shape (p, m, l).\n",
    "\n",
    "    Returns:\n",
    "        complex valued tensor of shape (q * p, n * m, k * l)\"\"\"\n",
    "\n",
    "    AB = tf.tensordot(A, B, axes=0)\n",
    "    AB = tf.transpose(AB, (0, 3, 1, 4, 2, 5))\n",
    "    shape = AB.shape\n",
    "    AB = tf.reshape(AB, (shape[0] * shape[1],\n",
    "                         shape[2] * shape[3],\n",
    "                         shape[4] * shape[5]))\n",
    "    return AB\n",
    "\n",
    "# Pauli matrices\n",
    "sigma_x = tf.constant([[0, 1], [1, 0]], dtype=tf.complex128)\n",
    "sigma_y = tf.constant([[0 + 0j, -1j], [1j, 0 + 0j]], dtype=tf.complex128)\n",
    "sigma_z = tf.constant([[1, 0], [0, -1]], dtype=tf.complex128)\n",
    "\n",
    "# All Pauli matrices in one tensor of shape (3, 2, 2)\n",
    "sigma = tf.concat([sigma_x[tf.newaxis],\n",
    "                   sigma_y[tf.newaxis],\n",
    "                   sigma_z[tf.newaxis]], axis=0)\n",
    "\n",
    "# Coordinates of thetrahedron peaks (is needed to build tetrahedral POVM)\n",
    "s0 = tf.constant([0, 0, 1], dtype=tf.complex128)\n",
    "s1 = tf.constant([2 * sqrt(2) / 3, 0, -1/3], dtype=tf.complex128)\n",
    "s2 = tf.constant([-sqrt(2) / 3, sqrt(2 / 3), -1 / 3], dtype=tf.complex128)\n",
    "s3 = tf.constant([-sqrt(2) / 3, -sqrt(2 / 3), -1 / 3], dtype=tf.complex128)\n",
    "\n",
    "# Coordinates of thetrahedron peaks in one tensor of shape (4, 3)\n",
    "s = tf.concat([s0[tf.newaxis],\n",
    "               s1[tf.newaxis],\n",
    "               s2[tf.newaxis],\n",
    "               s3[tf.newaxis]], axis=0)\n",
    "\n",
    "# One qubit thetrahedral POVM\n",
    "M = 0.25 * (tf.eye(2, dtype=tf.complex128) + tf.tensordot(s, sigma, axes=1))\n",
    "\n",
    "n = 2  # number of qubits we experiment with\n",
    "\n",
    "# M for many qubits\n",
    "Mmq = M\n",
    "for _ in range(n - 1):\n",
    "    Mmq = kron(Mmq, M)"
   ]
  },
  {
   "cell_type": "markdown",
   "metadata": {
    "id": "s9e5LH3rd8Oy"
   },
   "source": [
    "## 2. Data set generation (measurement outcomes simulation).\n",
    "\n",
    "Here we generate a set of measurement outcomes (training set). First of all, we generate a random quantum channel with Kraus rank $k$ by using the quotient manifold of Choi matrices. This quantum channel will be a target unknown one, that we want to reconstruct. Then we generate a set of random pure density matrices, pass them through the generated channel, and simulate measurements of output states. Results of measurements and initial states we write in a data set."
   ]
  },
  {
   "cell_type": "code",
   "execution_count": 3,
   "metadata": {
    "id": "jA5UUexod8Oz"
   },
   "outputs": [],
   "source": [
    "#=================Parameters===================#\n",
    "num_of_meas = 600000  # number of measurements\n",
    "k = 2  # Kraus rank (number of Kraus operators)\n",
    "#==============================================#\n",
    "\n",
    "\n",
    "# example of quotient manifold of Choi matrices\n",
    "m = qgo.manifolds.ChoiMatrix()\n",
    "\n",
    "# random parametrization of Choi matrix of kraus rank k\n",
    "A = m.random((2 ** (2 * n), k), dtype=tf.complex128)\n",
    "\n",
    "# corresponding Choi matrix\n",
    "C = A @ tf.linalg.adjoint(A)\n",
    "\n",
    "# corresponding quantum channel\n",
    "C_resh = tf.reshape(C, (2 ** n, 2 ** n, 2 ** n, 2 ** n))\n",
    "Phi = tf.transpose(C_resh, (1, 3, 0, 2))\n",
    "Phi = tf.reshape(Phi, (2 ** (2 * n), 2 ** (2 * n)))\n",
    "\n",
    "# random initial pure density matrices\n",
    "psi_set = tf.random.normal((num_of_meas, 2 ** n, 2), dtype=tf.float64)\n",
    "psi_set = qgo.manifolds.real_to_complex(psi_set)\n",
    "psi_set = psi_set / tf.linalg.norm(psi_set, axis=-1, keepdims=True)\n",
    "rho_in = psi_set[..., tf.newaxis] * tf.math.conj(psi_set[:, tf.newaxis])\n",
    "\n",
    "# reshaping density matrices to vectors\n",
    "rho_in_resh = tf.reshape(rho_in, (-1, 2 ** (2 * n)))\n",
    "\n",
    "# output states (we pass initial density matrices trough a channel)\n",
    "rho_out_resh = tf.tensordot(rho_in_resh, Phi, axes=[[1], [1]])\n",
    "# reshaping output density matrices back to matrix form\n",
    "rho_out = tf.reshape(rho_out_resh, (-1, 2 ** n, 2 ** n))\n",
    "\n",
    "# Measurements simulation (by using Gumbel trick for sampling from a\n",
    "# discrete distribution)\n",
    "P = tf.cast(tf.einsum('qjk,pkj->pq', Mmq, rho_out), dtype=tf.float64)\n",
    "eps = tf.random.uniform((num_of_meas, 2 ** (2 * n)), dtype=tf.float64)\n",
    "eps = -tf.math.log(-tf.math.log(eps))\n",
    "ind_set = tf.math.argmax(eps + tf.math.log(P), axis=-1)\n",
    "\n",
    "# projectors that came true\n",
    "M_set = tf.gather_nd(Mmq, ind_set[:, tf.newaxis])\n",
    "\n",
    "# resulting dataset\n",
    "data_set = [rho_in, M_set]"
   ]
  },
  {
   "cell_type": "markdown",
   "metadata": {
    "id": "Q9vpWNuGop_X"
   },
   "source": [
    "## 3. Data processing (tomography)\n",
    "\n",
    "First, we define an example of the Choi matrices manifold:"
   ]
  },
  {
   "cell_type": "code",
   "execution_count": 4,
   "metadata": {
    "id": "geoLryb8pjol"
   },
   "outputs": [],
   "source": [
    "m = qgo.manifolds.ChoiMatrix()"
   ]
  },
  {
   "cell_type": "markdown",
   "metadata": {
    "id": "PC82UrkHpuTt"
   },
   "source": [
    "The manifold of Choi matrices is represneted through the quadratic parametrization $C = AA^\\dagger$ with qn equivalence relation $A\\sim AQ$, where $Q$ is an arbitrary unitary matrix. Thus, we initialize a variable, that represents the parametrization of a Choi matrix:"
   ]
  },
  {
   "cell_type": "code",
   "execution_count": 5,
   "metadata": {
    "id": "HM7lIvhVqooV"
   },
   "outputs": [],
   "source": [
    "# random initial paramterization\n",
    "a = m.random((2 ** (2 * n), 2 ** (2 * n)), dtype=tf.complex128)\n",
    "# in order to make an optimizer works properly\n",
    "# one need to turn a to real representation\n",
    "a = qgo.manifolds.complex_to_real(a)\n",
    "# variable\n",
    "a = tf.Variable(a)"
   ]
  },
  {
   "cell_type": "markdown",
   "metadata": {
    "id": "LMwkoUKervtw"
   },
   "source": [
    "Then we initialize Riemannian Adam optimizer:"
   ]
  },
  {
   "cell_type": "code",
   "execution_count": 6,
   "metadata": {
    "id": "Sl7CzRPmr2AU"
   },
   "outputs": [],
   "source": [
    "lr = 0.07  # optimization step size\n",
    "opt = qgo.optimizers.RAdam(m, lr)"
   ]
  },
  {
   "cell_type": "markdown",
   "metadata": {
    "id": "YCx2H9xZsBLj"
   },
   "source": [
    "Finally, we ran part of code that calculate forward pass, gradients, and optimization step several times until convergence is reached:"
   ]
  },
  {
   "cell_type": "code",
   "execution_count": 7,
   "metadata": {
    "id": "ld0FhrLFsN4z"
   },
   "outputs": [],
   "source": [
    "# the list will be filled by value of J distance per iteration\n",
    "j_distance = []\n",
    "\n",
    "for _ in range(400):\n",
    "    with tf.GradientTape() as tape:\n",
    "        # complex representation of parametrization\n",
    "        # shape=(2**2n, 2**2n)\n",
    "        ac = qgo.manifolds.real_to_complex(a)\n",
    "\n",
    "        # reshape parametrization\n",
    "        # (2**2n, 2**2n) --> (2**n, 2**n, 2**2n)\n",
    "        ac = tf.reshape(ac, (2**n, 2**n, 2**(2*n)))\n",
    "\n",
    "        # Choi tensor (reshaped Choi matrix)\n",
    "        c = tf.tensordot(ac, tf.math.conj(ac), [[2], [2]])\n",
    "\n",
    "        # turning Choi tensor to the\n",
    "        # corresponding quantum channel\n",
    "        phi = tf.transpose(c, (1, 3, 0, 2))\n",
    "        phi = tf.reshape(phi, (2**(2*n), 2**(2*n)))\n",
    "\n",
    "        # reshape initial density\n",
    "        # matrices to vectors\n",
    "        rho_resh = tf.reshape(data_set[0], (num_of_meas, 2**(2*n)))\n",
    "\n",
    "        # passing density matrices\n",
    "        # through a quantum channel\n",
    "        rho_out = tf.tensordot(phi,\n",
    "                            rho_resh,\n",
    "                            [[1], [1]])\n",
    "        rho_out = tf.transpose(rho_out)\n",
    "        rho_out = tf.reshape(rho_out, (num_of_meas, 2**n, 2**n))\n",
    "\n",
    "        # probabilities of measurement outcomes\n",
    "        # (povms is a set of POVM elements\n",
    "        # came true of shape (N, 2**n, 2**n))\n",
    "        p = tf.linalg.trace(data_set[1] @ rho_out)\n",
    "\n",
    "        # negative log likelihood (to be minimized)\n",
    "        L = -tf.reduce_mean(tf.math.log(p))\n",
    "\n",
    "    # filling j_distance list (for further plotting)\n",
    "    j_distance.append(tf.reduce_sum(tf.abs(tf.linalg.eigvalsh(tf.reshape(c,\n",
    "    (2 ** (2 * n), 2 ** (2 * n))) - C))) / (2 * (2 ** n)))\n",
    "    # gradient\n",
    "    grad = tape.gradient(L, a)\n",
    "    # optimization step\n",
    "    opt.apply_gradients(zip([grad], [a]))"
   ]
  },
  {
   "cell_type": "markdown",
   "metadata": {
    "id": "KCToEbFhd8O7"
   },
   "source": [
    "Finally, we plot the dependance between $J$ distance and iteration."
   ]
  },
  {
   "cell_type": "code",
   "execution_count": 14,
   "metadata": {
    "colab": {
     "base_uri": "https://localhost:8080/",
     "height": 301
    },
    "id": "xbkSQUK6d8O8",
    "outputId": "55a756f3-52bf-48ff-c051-9a3b027f0e4c"
   },
   "outputs": [
    {
     "data": {
      "text/plain": [
       "Text(0.5, 0, '$iter$')"
      ]
     },
     "execution_count": 14,
     "metadata": {
      "tags": []
     },
     "output_type": "execute_result"
    },
    {
     "data": {
      "image/png": "[encoded data removed]",
      "text/plain": [
       "<Figure size 432x288 with 1 Axes>"
      ]
     },
     "metadata": {
      "needs_background": "light",
      "tags": []
     },
     "output_type": "display_data"
    }
   ],
   "source": [
    "plt.plot(j_distance, 'b')\n",
    "plt.legend([r'$n=$' + str(n) + r'$\\ qubits$'])\n",
    "plt.yscale('log')\n",
    "plt.ylabel(r'$\\frac{1}{2d}||C_{\\rm true} - C_{\\rm recon}||_{\\rm tr}$')\n",
    "plt.xlabel(r'$iter$')"
   ]
  }
 ],
 "metadata": {
  "accelerator": "GPU",
  "colab": {
   "collapsed_sections": [],
   "name": "Copy of Копия блокнота \"channel_tomography.ipynb\"",
   "provenance": []
  },
  "kernelspec": {
   "display_name": "Python 3",
   "language": "python",
   "name": "python3"
  },
  "language_info": {
   "codemirror_mode": {
    "name": "ipython",
    "version": 3
   },
   "file_extension": ".py",
   "mimetype": "text/x-python",
   "name": "python",
   "nbconvert_exporter": "python",
   "pygments_lexer": "ipython3",
   "version": "3.7.2"
  }
 },
 "nbformat": 4,
 "nbformat_minor": 1
}
