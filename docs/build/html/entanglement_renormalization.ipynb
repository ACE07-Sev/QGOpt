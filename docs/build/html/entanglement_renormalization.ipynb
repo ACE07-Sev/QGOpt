{
 "cells": [
  {
   "cell_type": "markdown",
   "metadata": {
    "id": "83Qnr20MiiBU"
   },
   "source": [
    "# Entanglement renormalization\n",
    "\n",
    "One can open this notebook in Google Colab (is recommended)\n",
    "\n",
    "[![Open In Colab](https://colab.research.google.com/assets/colab-badge.svg)](https://colab.research.google.com/github/LuchnikovI/QGOpt/blob/master/docs/source/entanglement_renormalization.ipynb)\n",
    "\n",
    "In the given tutorial, we show how the Riemannian optimization on the complex Stiefel manifold can be used to perform entanglement renormalization and find the ground state energy and the ground state itself of a many-body spin system at the point of quantum phase transition. First of all, let us import the necessary libraries."
   ]
  },
  {
   "cell_type": "code",
   "execution_count": null,
   "metadata": {
    "id": "Vzbwc5oEiiBV"
   },
   "outputs": [],
   "source": [
    "import numpy as np\n",
    "from scipy import integrate\n",
    "import tensorflow as tf  # tf 2.x\n",
    "\n",
    "try:\n",
    "    import QGOpt as qgo\n",
    "except ImportError:\n",
    "    !pip install git+https://github.com/LuchnikovI/QGOpt\n",
    "    import QGOpt as qgo\n",
    "\n",
    "# TensorNetwork library\n",
    "try:\n",
    "    import tensornetwork as tn\n",
    "except ImportError:\n",
    "    !pip install tensornetwork\n",
    "    import tensornetwork as tn\n",
    "\n",
    "import matplotlib.pyplot as plt\n",
    "from tqdm import tqdm\n",
    "tn.set_default_backend(\"tensorflow\")\n",
    "\n",
    "# Fix random seed to make results reproducable.\n",
    "tf.random.set_seed(42)"
   ]
  },
  {
   "cell_type": "markdown",
   "metadata": {
    "id": "ne1Wn4l4iiBY"
   },
   "source": [
    "## 1. Renormalization layer\n",
    "\n",
    "First of all, one needs to define a renormalization (mera) layer. We use ncon API from TensorNetwork library for these purposes. The function mera_layer takes unitary and isometric tensors (building blocks) and performs renormalization of a local Hamiltonian as it is shown on the tensor diagram below (if the diagram is not displayed here, please open the notebook in Google Colab).\n",
    "![renorm_layer.png](https://github.com/LuchnikovI/QGOpt/blob/master/docs/source/images/renorm_layer.png?raw=1)\n",
    "For more information about entanglement renormalization please see\n",
    "\n",
    "Evenbly, G., & Vidal, G. (2009). Algorithms for entanglement renormalization. Physical Review B, 79(14), 144108.\n",
    "\n",
    "Evenbly, G., & Vidal, G. (2014). Algorithms for entanglement renormalization: boundaries, impurities and interfaces. Journal of Statistical Physics, 157(4-5), 931-978.\n",
    "\n",
    "For more information about ncon notation see for example\n",
    "\n",
    "Pfeifer, R. N., Evenbly, G., Singh, S., & Vidal, G. (2014). NCON: A tensor network contractor for MATLAB. arXiv preprint arXiv:1402.0939."
   ]
  },
  {
   "cell_type": "code",
   "execution_count": 2,
   "metadata": {
    "id": "5Rb_8a04iiBZ"
   },
   "outputs": [],
   "source": [
    "@tf.function\n",
    "def mera_layer(H,\n",
    "               U,\n",
    "               U_conj,\n",
    "               Z_left,\n",
    "               Z_right,\n",
    "               Z_left_conj,\n",
    "               Z_right_conj):\n",
    "    \"\"\"\n",
    "    Renormalizes local Hamiltonian.\n",
    "\n",
    "    Args:\n",
    "        H: complex valued tensor of shape (chi, chi, chi, chi),\n",
    "            input two-side Hamiltonian (a local term).\n",
    "        U: complex valued tensor of shape (chi ** 2, chi ** 2), disentangler\n",
    "        U_conj: complex valued tensor of shape (chi ** 2, chi ** 2),\n",
    "            conjugated disentangler.\n",
    "        Z_left: complex valued tensor of shape (chi ** 3, new_chi),\n",
    "            left isometry.\n",
    "        Z_right: complex valued tensor of shape (chi ** 3, new_chi),\n",
    "            right isometry.\n",
    "        Z_left_conj: complex valued tensor of shape (chi ** 3, new_chi),\n",
    "            left conjugated isometry.\n",
    "        Z_right_conj: complex valued tensor of shape (chi ** 3, new_chi),\n",
    "            right conjugated isometry.\n",
    "\n",
    "    Returns: \n",
    "        complex valued tensor of shape (new_chi, new_chi, new_chi, new_chi),\n",
    "        renormalized two side hamiltonian.\n",
    "        \n",
    "    Notes:\n",
    "        chi is the dimension of an index. chi increases with the depth of mera, however,\n",
    "        at some point, chi is cut to prevent exponential growth of indices\n",
    "        dimensionality.\"\"\"\n",
    "\n",
    "    # index dimension before renormalization\n",
    "    chi = tf.cast(tf.math.sqrt(tf.cast(tf.shape(U)[0], dtype=tf.float64)),\n",
    "                  dtype=tf.int32)\n",
    "\n",
    "    # index dimension after renormalization\n",
    "    chi_new = tf.shape(Z_left)[-1]\n",
    "\n",
    "    # List of building blocks\n",
    "    list_of_tensors = [tf.reshape(Z_left, (chi, chi, chi, chi_new)),\n",
    "                       tf.reshape(Z_right, (chi, chi, chi, chi_new)),\n",
    "                       tf.reshape(Z_left_conj, (chi, chi, chi, chi_new)),\n",
    "                       tf.reshape(Z_right_conj, (chi, chi, chi, chi_new)),\n",
    "                       tf.reshape(U, (chi, chi, chi, chi)),\n",
    "                       tf.reshape(U_conj, (chi, chi, chi, chi)),\n",
    "                       H]\n",
    "\n",
    "    # structures (ncon notation) of three terms of ascending super operator\n",
    "    net_struc_1 = [[1, 2, 3, -3], [9, 11, 12, -4], [1, 6, 7, -1],\n",
    "                   [10, 11, 12, -2], [3, 9, 4, 8], [7, 10, 5, 8], [6, 5, 2, 4]]\n",
    "    net_struc_2 = [[1, 2, 3, -3], [9, 11, 12, -4], [1, 2, 6, -1],\n",
    "                   [10, 11, 12, -2], [3, 9, 4, 7], [6, 10, 5, 8], [5, 8, 4, 7]]\n",
    "    net_struc_3 = [[1, 2, 3, -3], [9, 10, 12, -4], [1, 2, 5, -1],\n",
    "                   [8, 11, 12, -2], [3, 9, 4, 6], [5, 8, 4, 7], [7, 11, 6, 10]]\n",
    "\n",
    "    # sub-optimal contraction orders for three terms of ascending super operator\n",
    "    con_ord_1 = [4, 5, 8, 6, 7, 1, 2, 3, 11, 12, 9, 10]\n",
    "    con_ord_2 = [4, 7, 5, 8, 1, 2, 11, 12, 3, 6, 9, 10]\n",
    "    con_ord_3 = [6, 7, 4, 11, 8, 12, 10, 9, 1, 2, 3, 5]\n",
    "\n",
    "    # ncon\n",
    "    term_1 = tn.ncon(list_of_tensors, net_struc_1, con_ord_1)\n",
    "    term_2 = tn.ncon(list_of_tensors, net_struc_2, con_ord_2)\n",
    "    term_3 = tn.ncon(list_of_tensors, net_struc_3, con_ord_3)\n",
    "\n",
    "    return (term_1 + term_2 + term_3) / 3  # renormalized hamiltonian\n",
    "\n",
    "# auxiliary functions that return initial isometries and disentanglers\n",
    "@tf.function\n",
    "def z_gen(chi, new_chi):\n",
    "    \"\"\"Returns random isometry.\n",
    "\n",
    "    Args:\n",
    "        chi: int number, input chi.\n",
    "        new_chi: int number, output chi.\n",
    "\n",
    "    Returns:\n",
    "        complex valued tensor of shape (chi ** 3, new_chi).\"\"\"\n",
    "    \n",
    "    # one can use the complex Stiefel manfiold to generate a random isometry\n",
    "    m = qgo.manifolds.StiefelManifold()\n",
    "    return m.random((chi ** 3, new_chi), dtype=tf.complex128)\n",
    "\n",
    "\n",
    "@tf.function\n",
    "def u_gen(chi):\n",
    "    \"\"\"Returns the identity matrix of a given size (initial disentangler).\n",
    "\n",
    "    Args:\n",
    "        chi: int number.\n",
    "\n",
    "    Returns:\n",
    "        complex valued tensor of shape (chi ** 2, chi ** 2).\"\"\"\n",
    "    \n",
    "    return tf.eye(chi ** 2, dtype=tf.complex128)"
   ]
  },
  {
   "cell_type": "markdown",
   "metadata": {
    "id": "55M_VFUviiBc"
   },
   "source": [
    "## 2. Transverse-field Ising (TFI) model hamiltonian and MERA building blocks\n",
    "\n",
    "Here we define the Transverse-field Ising model Hamiltonian and building blocks (disentanglers and isometries) of MERA network that will be optimized.\n",
    "\n",
    "First of all we initialize hyper parameters of MERA and TFI hamiltonian."
   ]
  },
  {
   "cell_type": "code",
   "execution_count": 3,
   "metadata": {
    "id": "kgt36Ef-vtuT"
   },
   "outputs": [],
   "source": [
    "max_chi = 4 # max bond dim\n",
    "num_of_layers = 5 # number of MERA layers (corresponds to 2*3^5 = 486 spins)\n",
    "h_x = 1 # value of transverse field in TFI model (h_x=1 is the critical field)"
   ]
  },
  {
   "cell_type": "markdown",
   "metadata": {
    "id": "TNsB5KhAwIjE"
   },
   "source": [
    "One needs to define Pauli matrices. Here all Pauli matrices are represented as one tensor of size $3\\times 2 \\times 2$, where the first index enumerates a particular Pauli matrix, and the remaining two indices are matrix indices."
   ]
  },
  {
   "cell_type": "code",
   "execution_count": 4,
   "metadata": {
    "id": "0QmEfYNgwOye"
   },
   "outputs": [],
   "source": [
    "sigma = tf.constant([[[1j*0, 1 + 1j*0], [1 + 1j*0, 0*1j]],\n",
    "                    [[0*1j, -1j], [1j, 0*1j]],\n",
    "                    [[1 + 0*1j, 0*1j], [0*1j, -1 + 0*1j]]], dtype=tf.complex128)"
   ]
  },
  {
   "cell_type": "markdown",
   "metadata": {
    "id": "CaEI07mNxNyh"
   },
   "source": [
    "Here we define local term of the TFI hamiltonian."
   ]
  },
  {
   "cell_type": "code",
   "execution_count": 5,
   "metadata": {
    "id": "jnHvmAKKxWqh"
   },
   "outputs": [],
   "source": [
    "zz_term = tf.einsum('ij,kl->ikjl', sigma[2], sigma[2])\n",
    "x_term = tf.einsum('ij,kl->ikjl', sigma[0], tf.eye(2, dtype=tf.complex128))\n",
    "h = -zz_term - h_x * x_term"
   ]
  },
  {
   "cell_type": "markdown",
   "metadata": {
    "id": "Du7aTHo-zV-7"
   },
   "source": [
    "Here we define initial disentanglers, isometries, and state in the renormalized space."
   ]
  },
  {
   "cell_type": "code",
   "execution_count": 6,
   "metadata": {
    "id": "ceY7ZnpQiiBc"
   },
   "outputs": [],
   "source": [
    "# disentangler U and isometry Z in the first MERA layer\n",
    "U = u_gen(2)\n",
    "Z = z_gen(2, max_chi)\n",
    "\n",
    "# lists with disentanglers and isometries in the rest of the layers\n",
    "U_list = [u_gen(max_chi) for _ in range(num_of_layers - 1)]\n",
    "Z_list = [z_gen(max_chi, max_chi) for _ in range(num_of_layers - 1)]\n",
    "\n",
    "# lists with all disentanglers and isometries\n",
    "U_list = [U] + U_list\n",
    "Z_list = [Z] + Z_list\n",
    "\n",
    "# initial state in the renormalized space (low dimensional in comparison\n",
    "# with the dimensionality of the initial problem)\n",
    "psi = tf.ones((max_chi ** 2, 1), dtype=tf.complex128)\n",
    "psi = psi / tf.linalg.norm(psi)\n",
    "\n",
    "# converting disentanglers, isometries, and initial state to real\n",
    "# representation (necessary for the further optimizer)\n",
    "U_list = list(map(qgo.manifolds.complex_to_real, U_list))\n",
    "Z_list = list(map(qgo.manifolds.complex_to_real, Z_list))\n",
    "psi = qgo.manifolds.complex_to_real(psi)\n",
    "\n",
    "# wrapping disentanglers, isometries, and initial state into\n",
    "# tf.Variable (necessary for the further optimizer)\n",
    "U_var = list(map(tf.Variable, U_list))\n",
    "Z_var = list(map(tf.Variable, Z_list))\n",
    "psi_var = tf.Variable(psi)"
   ]
  },
  {
   "cell_type": "markdown",
   "metadata": {
    "id": "3IDdi-2diiBg"
   },
   "source": [
    "## 3. Optimization of MERA\n",
    "\n",
    "MERA parametrizes quantum state $\\Psi(U, Z, \\psi)$ of a spin system, where $U$ is a set of disentanglers, $Z$ is a set of isometries, and $\\psi$ is a state in the renormalized space.\n",
    "In order to find the ground state and its energy, we perform optimization of variational energy $$\\langle\\Psi(U, Z, \\psi)|H_{\\rm TFI}|\\Psi(U, Z, \\psi)\\rangle\\rightarrow \\min_{U, \\ Z, \\ \\psi \\in {\\rm Stiefel \\ manifold}}$$\n",
    "\n",
    "First of all, we define the parameters of optimization. In order to achieve better convergence, we decrease the learning rate with the number of iteration according to the exponential law."
   ]
  },
  {
   "cell_type": "code",
   "execution_count": 7,
   "metadata": {
    "id": "vnDexSOf3AM3"
   },
   "outputs": [],
   "source": [
    "iters = 3000 # number of iterations\n",
    "lr_i = 0.6 # initial learning rate\n",
    "lr_f = 0.05 # final learning rate\n",
    "\n",
    "# learning rate is multiplied by this coefficient each iteration\n",
    "decay = (lr_f / lr_i) ** (1 / iters)"
   ]
  },
  {
   "cell_type": "markdown",
   "metadata": {
    "id": "txNTTrMJ2_nm"
   },
   "source": [
    "Here we define an example of the complex Stiefel manifold necessary for Riemannian optimization and Riemannian Adam optimizer."
   ]
  },
  {
   "cell_type": "code",
   "execution_count": 8,
   "metadata": {
    "id": "fknYCiAI4MAq"
   },
   "outputs": [],
   "source": [
    "m = qgo.manifolds.StiefelManifold()  # complex Stiefel manifold\n",
    "opt = qgo.optimizers.RAdam(m, lr_i)  # Riemannian Adam"
   ]
  },
  {
   "cell_type": "markdown",
   "metadata": {
    "id": "6UE_Ztkj4YJs"
   },
   "source": [
    "Finally, we perform an optimization loop."
   ]
  },
  {
   "cell_type": "code",
   "execution_count": 9,
   "metadata": {
    "colab": {
     "base_uri": "https://localhost:8080/"
    },
    "id": "HX4FNsHniiBh",
    "outputId": "6867ea8e-9839-4b33-8721-564992e10f44"
   },
   "outputs": [
    {
     "name": "stderr",
     "output_type": "stream",
     "text": [
      "100%|██████████| 3000/3000 [06:21<00:00,  7.87it/s]\n"
     ]
    }
   ],
   "source": [
    "# this list will be filled by the value of variational energy per iteration\n",
    "E_list = []\n",
    "\n",
    "# optimization loop\n",
    "for j in tqdm(range(iters)):\n",
    "\n",
    "    # gradient calculation\n",
    "    with tf.GradientTape() as tape:\n",
    "\n",
    "        # convert real valued variables back to complex valued tensors\n",
    "        U_var_c = list(map(qgo.manifolds.real_to_complex, U_var))\n",
    "        Z_var_c = list(map(qgo.manifolds.real_to_complex, Z_var))\n",
    "        psi_var_c = qgo.manifolds.real_to_complex(psi_var)\n",
    "\n",
    "        # initial local Hamiltonian term\n",
    "        h_renorm = h\n",
    "        \n",
    "        # renormalization of a local Hamiltonian term\n",
    "        for i in range(len(U_var)):\n",
    "            h_renorm = mera_layer(h_renorm,\n",
    "                                  U_var_c[i],\n",
    "                                  tf.math.conj(U_var_c[i]),\n",
    "                                  Z_var_c[i],\n",
    "                                  Z_var_c[i],\n",
    "                                  tf.math.conj(Z_var_c[i]),\n",
    "                                  tf.math.conj(Z_var_c[i]))\n",
    "            \n",
    "        # renormalizad Hamiltonian (low dimensional)\n",
    "        h_renorm = (h_renorm + tf.transpose(h_renorm, (1, 0, 3, 2))) / 2\n",
    "        h_renorm = tf.reshape(h_renorm, (max_chi * max_chi, max_chi * max_chi))\n",
    "        \n",
    "        # energy\n",
    "        E = tf.cast((tf.linalg.adjoint(psi_var_c) @ h_renorm @ psi_var_c),\n",
    "                    dtype=tf.float64)[0, 0]\n",
    "        \n",
    "    # adding current variational energy to the list\n",
    "    E_list.append(E)\n",
    "\n",
    "    # gradients\n",
    "    grad = tape.gradient(E, U_var + Z_var + [psi_var])\n",
    "    \n",
    "    # optimization step\n",
    "    opt.apply_gradients(zip(grad, U_var + Z_var + [psi_var]))\n",
    "    \n",
    "    # learning rate update\n",
    "    opt._set_hyper(\"learning_rate\", opt._get_hyper(\"learning_rate\") * decay)"
   ]
  },
  {
   "cell_type": "markdown",
   "metadata": {
    "id": "HIimDwgriiBk"
   },
   "source": [
    "Here we compare exact ground state energy with MERA based value. We also plot how the difference between exact ground state energy and MERA-based energy evolves with the number of iteration."
   ]
  },
  {
   "cell_type": "code",
   "execution_count": 10,
   "metadata": {
    "colab": {
     "base_uri": "https://localhost:8080/",
     "height": 313
    },
    "id": "8h9sfO27iiBl",
    "outputId": "be2e0e5c-1942-4cb5-f7ec-876e2d2c78bc",
    "scrolled": true
   },
   "outputs": [
    {
     "name": "stdout",
     "output_type": "stream",
     "text": [
      "MERA energy: -1.2731094185716914\n",
      "Exact energy: -1.2732417615356748\n"
     ]
    },
    {
     "data": {
      "image/png": "[encoded data removed]",
      "text/plain": [
       "<Figure size 432x288 with 1 Axes>"
      ]
     },
     "metadata": {
      "needs_background": "light",
      "tags": []
     },
     "output_type": "display_data"
    }
   ],
   "source": [
    "# exact value of ground state energy in the critical point\n",
    "N = 2 * (3 ** num_of_layers) # number of spins (for 5 layers one has 486 spins)\n",
    "E0_exact_fin = -2 * (1 / np.sin(np.pi / (2 * N))) / N # exact energy per spin\n",
    "\n",
    "plt.yscale('log')\n",
    "plt.xlabel('iter')\n",
    "plt.ylabel('err')\n",
    "plt.plot(E_list - tf.convert_to_tensor(([E0_exact_fin] * len(E_list))), 'b')\n",
    "print(\"MERA energy:\", E_list[-1].numpy())\n",
    "print(\"Exact energy:\", E0_exact_fin)"
   ]
  }
 ],
 "metadata": {
  "colab": {
   "collapsed_sections": [],
   "name": "(updated)entanglement_renormalization.ipynb",
   "provenance": []
  },
  "kernelspec": {
   "display_name": "Python [default]",
   "language": "python",
   "name": "python3"
  },
  "language_info": {
   "codemirror_mode": {
    "name": "ipython",
    "version": 3
   },
   "file_extension": ".py",
   "mimetype": "text/x-python",
   "name": "python",
   "nbconvert_exporter": "python",
   "pygments_lexer": "ipython3",
   "version": "3.7.2"
  }
 },
 "nbformat": 4,
 "nbformat_minor": 0
}
