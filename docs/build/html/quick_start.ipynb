{
 "cells": [
  {
   "cell_type": "markdown",
   "metadata": {
    "colab_type": "text",
    "id": "mGlitf0ASiXl"
   },
   "source": [
    "# Quick Start\n",
    "\n",
    "One can open this tutorial in Google Colab (is recommended)\n",
    "\n",
    "[![Open In Colab](https://colab.research.google.com/assets/colab-badge.svg)](https://colab.research.google.com/github/LuchnikovI/QGOpt/blob/Dev/docs/source/quick_start.ipynb)\n",
    "\n",
    "In the given short tutorial, we show the basic steps of working with QGOpt. It is known that an arbitrary two qubits unitary gate can be decomposed into a sequence of CNOT gates and one qubit gates as it is shown on the tensor diagram below (if the diagram is not displayed here, please open the notebook in Google Colab [![Open In Colab](https://colab.research.google.com/assets/colab-badge.svg)](https://colab.research.google.com/github/LuchnikovI/QGOpt/blob/Dev/docs/source/quick_start.ipynb)). ![renorm_layer.png](images/gate_decomposition.png)\n",
    "\n",
    "Local unitary gates are elements of the complex Stiefel manifold; thus, the decomposition can be found by minimizing Frobenius distance between a given two qubits unitary gate and its decomposition. In the beginning, let us import some libraries."
   ]
  },
  {
   "cell_type": "code",
   "execution_count": 3,
   "metadata": {
    "colab": {},
    "colab_type": "code",
    "id": "AJG7TqNrSfeK"
   },
   "outputs": [],
   "source": [
    "import tensorflow as tf  # tf 2.x\n",
    "import matplotlib.pyplot as plt\n",
    "import math\n",
    "\n",
    "try:\n",
    "    import QGOpt as qgo\n",
    "except ImportError:\n",
    "    !pip install git+https://github.com/LuchnikovI/QGOpt\n",
    "    import QGOpt as qgo\n",
    "\n",
    "# Fix random seed to make results reproducable.\n",
    "tf.random.set_seed(42)"
   ]
  },
  {
   "cell_type": "markdown",
   "metadata": {
    "colab_type": "text",
    "id": "NZFR5WboSSua"
   },
   "source": [
    "## Kronecker product function.\n",
    "\n",
    "Here we define an auxiliary function that returns Kronecker product between two matrices."
   ]
  },
  {
   "cell_type": "code",
   "execution_count": 4,
   "metadata": {
    "colab": {},
    "colab_type": "code",
    "id": "T-zfkssbSSub"
   },
   "outputs": [],
   "source": [
    "def kron(A, B):\n",
    "    \"\"\"\n",
    "    Returns Kronecker product of two square matrices.\n",
    "\n",
    "    Args:\n",
    "        A: complex valued tf tensor of shape (dim1, dim1)\n",
    "        B: complex valued tf tensor of shape (dim2, dim2)\n",
    "\n",
    "    Returns:\n",
    "        complex valued tf tensor of shape (dim1 * dim2, dim1 * dim2),\n",
    "        kronecker product of two matrices\n",
    "    \"\"\"\n",
    "    \n",
    "    dim1 = A.shape[-1]\n",
    "    dim2 = B.shape[-1]\n",
    "    AB = tf.transpose(tf.tensordot(A, B, axes=0), (0, 2, 1, 3))\n",
    "    return tf.reshape(AB, (dim1 * dim2, dim1 * dim2))"
   ]
  },
  {
   "cell_type": "markdown",
   "metadata": {
    "colab_type": "text",
    "id": "VMPO8QdxSSud"
   },
   "source": [
    "## A random two qubit gate and parameters of its decomposition.\n",
    "\n",
    "Here we define a random two qubit gate to decompose and initialize building blocks of its decomposition (CNOT gate and local unitary gates)."
   ]
  },
  {
   "cell_type": "code",
   "execution_count": 5,
   "metadata": {
    "colab": {},
    "colab_type": "code",
    "id": "W1neX8H9SSue"
   },
   "outputs": [],
   "source": [
    "#=======================================================================#\n",
    "circuit_length = 4  # circuit length (number of layers with local gates)\n",
    "#=======================================================================#\n",
    "\n",
    "# cnot gate\n",
    "cnot = tf.constant([[1, 0, 0, 0],\n",
    "                    [0, 1, 0, 0],\n",
    "                    [0, 0, 0, 1],\n",
    "                    [0, 0, 1, 0]], dtype=tf.complex128)\n",
    "\n",
    "# complex Stiefel manifold\n",
    "m = qgo.manifolds.StiefelManifold()\n",
    "# random two qubit gate to decompose\n",
    "target_U = m.random((4, 4), dtype=tf.complex128)\n",
    "\n",
    "# initial local unitary gates (will be optimized)\n",
    "u_1 = [m.random((2, 2), dtype=tf.complex128) for _ in range(circuit_length)]\n",
    "u_2 = [m.random((2, 2), dtype=tf.complex128) for _ in range(circuit_length)]\n",
    "\n",
    "# real representation of local unitary gates\n",
    "u_1 = list(map(qgo.manifolds.complex_to_real, u_1))\n",
    "u_2 = list(map(qgo.manifolds.complex_to_real, u_2))"
   ]
  },
  {
   "cell_type": "markdown",
   "metadata": {
    "colab_type": "text",
    "id": "k-gc82ZNSSuh"
   },
   "source": [
    "## Optimization loop.\n",
    "\n",
    "Here we minimize the Frobenius distance between the target two qubit gate and its decomposition."
   ]
  },
  {
   "cell_type": "code",
   "execution_count": 6,
   "metadata": {
    "colab": {},
    "colab_type": "code",
    "id": "x-MV-2yESSuh"
   },
   "outputs": [],
   "source": [
    "#=================================#\n",
    "iters = 500 # number of iterations\n",
    "lr = 0.2 # learning rate\n",
    "#=================================#\n",
    "\n",
    "\n",
    "# complex Stiefel manifold\n",
    "m = qgo.manifolds.StiefelManifold()\n",
    "# Riemannian Adam optimizer\n",
    "opt = qgo.optimizers.RAdam(m, lr, ams=True)\n",
    "\n",
    "# transforming initial local unitary gates to tf.Variables\n",
    "varu_1 = list(map(tf.Variable, u_1))\n",
    "varu_2 = list(map(tf.Variable, u_2))\n",
    "\n",
    "errs = [] # will be filled by err vs iteration number\n",
    "\n",
    "for _ in range(iters):\n",
    "    with tf.GradientTape() as tape:\n",
    "        # transforming real variables to complex representation\n",
    "        varu_1c = list(map(qgo.manifolds.real_to_complex, varu_1))\n",
    "        varu_2c = list(map(qgo.manifolds.real_to_complex, varu_2))\n",
    "\n",
    "        # gate decomposition\n",
    "        gate = kron(varu_1c[0], varu_2c[0])\n",
    "        for i in range(1, len(varu_1c)):\n",
    "            gate = cnot @ gate\n",
    "            gate = kron(varu_1c[i], varu_2c[i]) @ gate\n",
    "\n",
    "        # square of Frobenius distance between the target gate and its \n",
    "        # decomposition\n",
    "        d = gate - target_U\n",
    "        loss = tf.linalg.norm(d) ** 2\n",
    "        \n",
    "    errs.append(tf.math.sqrt(loss))\n",
    "    \n",
    "    grad = tape.gradient(loss, varu_1 + varu_2)  # gradient\n",
    "    opt.apply_gradients(zip(grad, varu_1 + varu_2))  # optimization step"
   ]
  },
  {
   "cell_type": "markdown",
   "metadata": {
    "colab_type": "text",
    "id": "p1J4qL8FSSum"
   },
   "source": [
    "## Plotting of the Frobenius distance between the target gate and its decomposition"
   ]
  },
  {
   "cell_type": "code",
   "execution_count": 8,
   "metadata": {
    "colab": {
     "base_uri": "https://localhost:8080/",
     "height": 384
    },
    "colab_type": "code",
    "id": "FP1GorYsSSum",
    "outputId": "650ba950-cb31-4380-c593-c8cd0a06c1bf"
   },
   "outputs": [
    {
     "name": "stdout",
     "output_type": "stream",
     "text": [
      "[0, 0] element of trained gate (-0.5406855415008305+0.14969542158487123j)\n",
      "[0, 0] element of target gate (-0.5406855414988629+0.14969542158363175j)\n"
     ]
    },
    {
     "name": "stderr",
     "output_type": "stream",
     "text": [
      "/usr/local/lib/python3.6/dist-packages/numpy/core/_asarray.py:85: ComplexWarning: Casting complex values to real discards the imaginary part\n",
      "  return array(a, dtype, copy=False, order=order)\n"
     ]
    },
    {
     "data": {
      "text/plain": [
       "Text(0, 0.5, 'err')"
      ]
     },
     "execution_count": 8,
     "metadata": {
      "tags": []
     },
     "output_type": "execute_result"
    },
    {
     "data": {
      "image/png": "[encoded data removed]",
      "text/plain": [
       "<Figure size 432x288 with 1 Axes>"
      ]
     },
     "metadata": {
      "needs_background": "light",
      "tags": []
     },
     "output_type": "display_data"
    }
   ],
   "source": [
    "print('[0, 0] element of trained gate', gate[0, 0].numpy())\n",
    "print('[0, 0] element of target gate', target_U[0, 0].numpy())\n",
    "plt.plot(errs)\n",
    "plt.yscale('log')\n",
    "plt.xlabel('iter')\n",
    "plt.ylabel('err')"
   ]
  }
 ],
 "metadata": {
  "colab": {
   "collapsed_sections": [],
   "name": "quick_start.ipynb",
   "provenance": []
  },
  "kernelspec": {
   "display_name": "Python [default]",
   "language": "python",
   "name": "python3"
  },
  "language_info": {
   "codemirror_mode": {
    "name": "ipython",
    "version": 3
   },
   "file_extension": ".py",
   "mimetype": "text/x-python",
   "name": "python",
   "nbconvert_exporter": "python",
   "pygments_lexer": "ipython3",
   "version": "3.7.2"
  }
 },
 "nbformat": 4,
 "nbformat_minor": 1
}
