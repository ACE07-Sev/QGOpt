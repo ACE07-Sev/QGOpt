{
 "cells": [
  {
   "cell_type": "markdown",
   "metadata": {
    "colab_type": "text",
    "id": "yCpENKsOeRKt"
   },
   "source": [
    "# Quantum state tomography\n",
    "\n",
    "One can open it in Google Colab (is recommended)\n",
    "\n",
    "[![Open In Colab](https://colab.research.google.com/assets/colab-badge.svg)](https://colab.research.google.com/github/LuchnikovI/QGOpt/blob/Dev/docs/source/state_tomography.ipynb)\n",
    "\n",
    "In the given tutorial, we perform quantum state tomography via the manifold of density matrices. First of all, let us import some libraries."
   ]
  },
  {
   "cell_type": "code",
   "execution_count": 1,
   "metadata": {
    "colab": {},
    "colab_type": "code",
    "id": "gdotZMMLeOn6"
   },
   "outputs": [],
   "source": [
    "import numpy as np\n",
    "from math import sqrt\n",
    "import tensorflow as tf  # tf 2.x\n",
    "\n",
    "try:\n",
    "    import QGOpt as qgo\n",
    "except ImportError:\n",
    "    !pip install git+https://github.com/LuchnikovI/QGOpt\n",
    "    import QGOpt as qgo\n",
    "\n",
    "# TensorNetwork library\n",
    "try:\n",
    "    import tensornetwork as tn\n",
    "except ImportError:\n",
    "    !pip install tensornetwork\n",
    "    import tensornetwork as tn\n",
    "\n",
    "import matplotlib.pyplot as plt\n",
    "from tqdm import tqdm\n",
    "tn.set_default_backend(\"tensorflow\")\n",
    "\n",
    "# Fix random seed to make results reproducable.\n",
    "tf.random.set_seed(42)"
   ]
  },
  {
   "cell_type": "markdown",
   "metadata": {
    "colab_type": "text",
    "id": "azpIZCm2d8Ou"
   },
   "source": [
    "## Many-qubits, informationally complete, positive operator-valued measure (IC POVM)\n",
    "\n",
    "Before generating measurement outcomes and performing quantum state tomography, one needs to introduce POVM describing quantum measurements. For simplicity, we use one-qubit tetrahedral POVM and generalize it on a many-qubit case by taking tensor products between POVM elements, i.e. $\\{M_\\alpha\\}_{\\alpha=1}^4$ is the one-qubit tetrahedral POVM, $\\{M_{\\alpha_1}\\otimes \\dots \\otimes M_{\\alpha_N}\\}_{\\alpha_1=1,\\dots,\\alpha_N=1}^4$ is the many-qubits tetrahedral POVM."
   ]
  },
  {
   "cell_type": "code",
   "execution_count": 2,
   "metadata": {
    "colab": {},
    "colab_type": "code",
    "id": "OGPbEyFZd8Ov"
   },
   "outputs": [],
   "source": [
    "# auxiliary function that returns Kronecker product between POVM elements\n",
    "def kron(A, B):\n",
    "    \"\"\"Kronecker product of two POVM elements.\n",
    "\n",
    "    Args:\n",
    "        A: complex valued tensor of shape (q, n, k).\n",
    "        B: complex valued tensor of shape (p, m, l).\n",
    "\n",
    "    Returns:\n",
    "        complex valued tensor of shape (q * p, n * m, k * l)\"\"\"\n",
    "\n",
    "    AB = tf.tensordot(A, B, axes=0)\n",
    "    AB = tf.transpose(AB, (0, 3, 1, 4, 2, 5))\n",
    "    shape = AB.shape\n",
    "    AB = tf.reshape(AB, (shape[0] * shape[1],\n",
    "                         shape[2] * shape[3],\n",
    "                         shape[4] * shape[5]))\n",
    "    return AB\n",
    "\n",
    "# number of qubits in many-qubits POVMs\n",
    "num_of_qubits = [1, 2, 3]  # number of qubits\n",
    "\n",
    "# Pauli matrices\n",
    "sigma_x = tf.constant([[0, 1], [1, 0]], dtype=tf.complex128)\n",
    "sigma_y = tf.constant([[0 + 0j, -1j], [1j, 0 + 0j]], dtype=tf.complex128)\n",
    "sigma_z = tf.constant([[1, 0], [0, -1]], dtype=tf.complex128)\n",
    "\n",
    "# All Pauli matrices in one tensor of shape (3, 2, 2)\n",
    "sigma = tf.concat([sigma_x[tf.newaxis],\n",
    "                   sigma_y[tf.newaxis],\n",
    "                   sigma_z[tf.newaxis]], axis=0)\n",
    "\n",
    "# coordinates of thetrahedron peaks (is needed to build tetr. POVM)\n",
    "s0 = tf.constant([0, 0, 1], dtype=tf.complex128)\n",
    "s1 = tf.constant([2 * sqrt(2) / 3, 0, -1/3], dtype=tf.complex128)\n",
    "s2 = tf.constant([-sqrt(2) / 3, sqrt(2 / 3), -1 / 3], dtype=tf.complex128)\n",
    "s3 = tf.constant([-sqrt(2) / 3, -sqrt(2 / 3), -1 / 3], dtype=tf.complex128)\n",
    "\n",
    "# coordinates of thetrahedron peaks in one tensor\n",
    "s = tf.concat([s0[tf.newaxis],\n",
    "               s1[tf.newaxis],\n",
    "               s2[tf.newaxis],\n",
    "               s3[tf.newaxis]], axis=0)\n",
    "\n",
    "# One qubit thetrahedral POVM\n",
    "M = 0.25 * (tf.eye(2, dtype=tf.complex128) + tf.tensordot(s, sigma, axes=1))\n",
    "\n",
    "# Many qubits POVMs\n",
    "povms = []\n",
    "for n in num_of_qubits:\n",
    "    Mmq = M\n",
    "    for _ in range(n - 1):\n",
    "        Mmq = kron(Mmq, M)\n",
    "    povms.append(Mmq)"
   ]
  },
  {
   "cell_type": "markdown",
   "metadata": {
    "colab_type": "text",
    "id": "s9e5LH3rd8Oy"
   },
   "source": [
    "## Data set generation (measurement outcomes simulation).\n",
    "\n",
    "Here we generate a set of measurements (training set). First of all, we generate a random density matrix that is the target state we want to reconstruct. Then we simulate measurement outcomes over the target state driven by tetrahedral POVM."
   ]
  },
  {
   "cell_type": "code",
   "execution_count": 3,
   "metadata": {
    "colab": {},
    "colab_type": "code",
    "id": "jA5UUexod8Oz"
   },
   "outputs": [],
   "source": [
    "num_of_meas = 600000  # number of measurements\n",
    "\n",
    "data_sets = {}  # dict will be filled by number_of_qubits: data_set\n",
    "true_states = {}  # will be filled by target density matrices\n",
    "for i, n in enumerate(num_of_qubits):\n",
    "\n",
    "    # random (target) density matrix\n",
    "    m = qgo.manifolds.DensityMatrix()\n",
    "    A = m.random((2 ** n, 2 ** n), dtype=tf.complex128)\n",
    "    rho = A @ tf.linalg.adjoint(A)\n",
    "    true_states[n] = rho  # adding state to the dict with target states\n",
    "\n",
    "    # Measurements simulation (by using Gumbel trick for sampling from a\n",
    "    # discrete distribution)\n",
    "    P = tf.cast(tf.einsum('qjk,kj->q', povms[i], rho), dtype=tf.float64)\n",
    "    eps = tf.random.uniform((num_of_meas, 2 ** (2 * n)), dtype=tf.float64)\n",
    "    eps = -tf.math.log(-tf.math.log(eps))\n",
    "    ind_set = tf.math.argmax(eps + tf.math.log(P), axis=-1)\n",
    "\n",
    "    # projectors came true\n",
    "    M_set = tf.gather_nd(povms[i], ind_set[:, tf.newaxis])\n",
    "\n",
    "    data_sets[n] = M_set # data sets filling"
   ]
  },
  {
   "cell_type": "markdown",
   "metadata": {
    "colab_type": "text",
    "id": "Pvbfxbpqd8O3"
   },
   "source": [
    "## Optimization loop\n",
    "\n",
    "Here we perform maximization of logarithmic likelihood. In order to preserve constraints of a density matrix, we use the manifold of density matrices. The manifold of density matrices is imlemented differently in comparison with other manifolds. Any density matrix $\\rho$ is represented by a matrix $A$, where $\\rho = AA^\\dagger$. Since there is an equivalence relation between $A\\sim AQ$, where $Q$ is an arbitrary unitary matrix, optimization is performed on the quotient manifold eliminating this simmetry. The corresponding quotient geometry is described in\n",
    "\n",
    "Yatawatta, S. (2013, May). Radio interferometric calibration using a Riemannian manifold. In 2013 IEEE International Conference on Acoustics, Speech and Signal Processing (pp. 3866-3870). IEEE."
   ]
  },
  {
   "cell_type": "code",
   "execution_count": 5,
   "metadata": {
    "colab": {
     "base_uri": "https://localhost:8080/",
     "height": 68
    },
    "colab_type": "code",
    "id": "6MlYR2h7d8O3",
    "outputId": "4ad95b33-a0a4-461b-830b-4740af82cdcd"
   },
   "outputs": [
    {
     "name": "stderr",
     "output_type": "stream",
     "text": [
      "100%|██████████| 400/400 [03:57<00:00,  1.69it/s]\n",
      "100%|██████████| 400/400 [03:57<00:00,  1.68it/s]\n",
      "100%|██████████| 400/400 [04:00<00:00,  1.66it/s]\n"
     ]
    }
   ],
   "source": [
    "# Parameters of learning\n",
    "#=========================================#\n",
    "lr = 0.07  # learning rate\n",
    "num_of_iter = 400  # number of iterations\n",
    "#=========================================#\n",
    "\n",
    "# manifold of density matrices\n",
    "m = qgo.manifolds.DensityMatrix()\n",
    "\n",
    "# dict will be filled by validation curve per data set\n",
    "distances = {}\n",
    "\n",
    "# loop over data sets\n",
    "for n in num_of_qubits:\n",
    "\n",
    "    # initial parametrization\n",
    "    A = m.random((2 ** n, 2 ** n), dtype=tf.complex128)\n",
    "    # real representation of the initial parametrization\n",
    "    A = qgo.manifolds.complex_to_real(A)\n",
    "    # variable to optimize\n",
    "    A = tf.Variable(A)\n",
    "\n",
    "    # optimizer initialization\n",
    "    opt = qgo.optimizers.RAdam(m, lr) # riemannian optimizer\n",
    "\n",
    "    # to be filled by trace distance between density matrices vs iteration\n",
    "    dist = []\n",
    "\n",
    "    # optimization loop\n",
    "    for _ in tqdm(range(num_of_iter)):\n",
    "        with tf.GradientTape() as tape:\n",
    "            # complex representation of a parametrization\n",
    "            A_c = qgo.manifolds.real_to_complex(A)\n",
    "            # density matrix\n",
    "            rho = A_c @ tf.linalg.adjoint(A_c)\n",
    "            # probabilities of measurement outcomes\n",
    "            p = tf.abs(tf.linalg.trace(data_sets[n] @ rho))\n",
    "            # mean negative log likelihood (to be optimized)\n",
    "            loss = -tf.reduce_mean(tf.math.log(p))\n",
    "        grad = tape.gradient(loss, A)  # gradient\n",
    "        opt.apply_gradients(zip([grad], [A]))  # optimization step\n",
    "        # append current trace distance between the target denisty matrix and\n",
    "        # the reconstructed density matrix to the list of distances\n",
    "        dist.append(tf.reduce_sum(tf.abs(tf.linalg.eigvalsh(rho -\\\n",
    "                                    true_states[n]))))\n",
    "    distances[n] = dist  # filling dict with validation curves"
   ]
  },
  {
   "cell_type": "markdown",
   "metadata": {
    "colab_type": "text",
    "id": "KCToEbFhd8O7"
   },
   "source": [
    "## Validation curves\n",
    "\n",
    "Here we plot validation curves."
   ]
  },
  {
   "cell_type": "code",
   "execution_count": 7,
   "metadata": {
    "colab": {
     "base_uri": "https://localhost:8080/",
     "height": 298
    },
    "colab_type": "code",
    "id": "xbkSQUK6d8O8",
    "outputId": "a7ec23a6-c806-4c6d-c0ea-4a6e13d85287"
   },
   "outputs": [
    {
     "data": {
      "text/plain": [
       "Text(0.5, 0, '$iter$')"
      ]
     },
     "execution_count": 7,
     "metadata": {
      "tags": []
     },
     "output_type": "execute_result"
    },
    {
     "data": {
      "image/png": "[encoded data removed]",
      "text/plain": [
       "<Figure size 432x288 with 1 Axes>"
      ]
     },
     "metadata": {
      "needs_background": "light",
      "tags": []
     },
     "output_type": "display_data"
    }
   ],
   "source": [
    "for n in num_of_qubits:\n",
    "    plt.plot(distances[n])\n",
    "plt.legend([r'$n=$' + str(n) + r'$\\ qubits$' for n in num_of_qubits])\n",
    "plt.yscale('log')\n",
    "plt.ylabel(r'$\\frac{1}{2}\\|\\rho_{\\rm true} - \\rho_{\\rm recon}\\|_{\\rm tr}$')\n",
    "plt.xlabel(r'$iter$')"
   ]
  }
 ],
 "metadata": {
  "accelerator": "GPU",
  "colab": {
   "collapsed_sections": [],
   "name": "state_tomography.ipynb",
   "provenance": []
  },
  "kernelspec": {
   "display_name": "Python 3",
   "language": "python",
   "name": "python3"
  },
  "language_info": {
   "codemirror_mode": {
    "name": "ipython",
    "version": 3
   },
   "file_extension": ".py",
   "mimetype": "text/x-python",
   "name": "python",
   "nbconvert_exporter": "python",
   "pygments_lexer": "ipython3",
   "version": "3.7.4"
  }
 },
 "nbformat": 4,
 "nbformat_minor": 0
}
