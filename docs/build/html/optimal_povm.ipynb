{
 "cells": [
  {
   "cell_type": "markdown",
   "metadata": {
    "colab_type": "text",
    "id": "XdRhxg_msiR5"
   },
   "source": [
    "# Optimal POVM\n",
    "\n",
    "One can open this tutorial in Google Colab (is recommended)\n",
    "\n",
    "[![Open In Colab](https://colab.research.google.com/assets/colab-badge.svg)](https://colab.research.google.com/github/LuchnikovI/QGOpt/blob/master/docs/source/optimal_povm.ipynb)\n",
    "\n",
    "In the following tutorial, we show how to perform optimization over the manifold of different POVMs by using QGOpt library. It is known that measurements of a qubit induced by tetrahedral POVM allow reconstructing unknown qubit state with a minimal variance if there is no prior knowledge about qubit state. Let us show it using numerical optimization over the manifold of different POVMs.\n",
    "In the beginning, let us import some libraries."
   ]
  },
  {
   "cell_type": "code",
   "execution_count": null,
   "metadata": {
    "colab": {},
    "colab_type": "code",
    "id": "BE_lX6SwsgaF"
   },
   "outputs": [],
   "source": [
    "import tensorflow as tf  # tf 2.x\n",
    "import matplotlib.pyplot as plt\n",
    "import math\n",
    "\n",
    "try:\n",
    "    import QGOpt as qgo\n",
    "except ImportError:\n",
    "    !pip install git+https://github.com/LuchnikovI/QGOpt@Dev\n",
    "    import QGOpt as qgo\n",
    "\n",
    "# Fix random seed to make results reproducable.\n",
    "tf.random.set_seed(42)"
   ]
  },
  {
   "cell_type": "markdown",
   "metadata": {
    "colab_type": "text",
    "id": "_7f8yOFGvrlJ"
   },
   "source": [
    "## Prior information about a quantum state\n",
    "\n",
    "Here we generate prior information about a quantum state we want to measure. We represent a prior probability distribution over quantum state approximately, by using a set of samples from a distribution. Since tetrahedral POVM is optimal when there is no prior information about a state, we consider uniform distribution across Bloch ball."
   ]
  },
  {
   "cell_type": "code",
   "execution_count": 2,
   "metadata": {
    "colab": {},
    "colab_type": "code",
    "id": "NmDWObAKNMR5"
   },
   "outputs": [],
   "source": [
    "#=======================================================================#\n",
    "num_of_samples = 10000  # number of samples representing prior knowledge\n",
    "#=======================================================================#\n",
    "\n",
    "# Pauli matrices\n",
    "sigma_x = tf.constant([[0, 1], [1, 0]], dtype=tf.complex128)\n",
    "sigma_y = tf.constant([[0 + 0j, -1j], [1j, 0 + 0j]], dtype=tf.complex128)\n",
    "sigma_z = tf.constant([[1, 0], [0, -1]], dtype=tf.complex128)\n",
    "\n",
    "# All Pauli matrices in one tensor of shape (3, 2, 2)\n",
    "sigma = tf.concat([sigma_x[tf.newaxis],\n",
    "                   sigma_y[tf.newaxis],\n",
    "                   sigma_z[tf.newaxis]], axis=0)\n",
    "\n",
    "# Set of points distributed uniformly across Bloch ball\n",
    "x = tf.random.normal((num_of_samples, 3), dtype=tf.float64)\n",
    "x = x / tf.linalg.norm(x, axis=-1, keepdims=True)\n",
    "x = tf.cast(x, dtype=tf.complex128)\n",
    "u = tf.random.uniform((num_of_samples, 1), maxval=1, dtype=tf.float64)\n",
    "u = u ** (1 / 3)\n",
    "u = tf.cast(u, dtype=tf.complex128)\n",
    "x = x * u\n",
    "\n",
    "# Set of density matrices distributed uniformly across Bloch ball\n",
    "# (prior information)\n",
    "rho = 0.5 * (tf.eye(2, dtype=tf.complex128) + tf.tensordot(x, sigma, axes=1))"
   ]
  },
  {
   "cell_type": "markdown",
   "metadata": {
    "colab_type": "text",
    "id": "McVrCrB62_dk"
   },
   "source": [
    "## POVM optimization\n",
    "\n",
    "Here we search optimal POVM via minimizing the variance of a posterior distribution over density matrices.\n",
    "\n",
    "The POVMs manifold is imlemented differently in comparison with other manifolds. Any POVM $\\{M_\\alpha\\}_{\\alpha=1}^N$ is represented by a set of matrices $\\{A_\\alpha\\}_{\\alpha=1}^N$, where $M_\\alpha = A_\\alpha A^\\dagger_\\alpha$. Since there is an equivalence relation $A_\\alpha \\sim A_\\alpha Q_\\alpha$, where $\\{Q_\\alpha\\}_{\\alpha=1}^N$ is a set of arbitrary unitary matrices, optimization is performed on the quotient manifold eliminating this simmetry. The corresponding quotient geometry is described in\n",
    "\n",
    "Yatawatta, S. (2013, May). Radio interferometric calibration using a Riemannian manifold. In 2013 IEEE International Conference on Acoustics, Speech and Signal Processing (pp. 3866-3870). IEEE."
   ]
  },
  {
   "cell_type": "code",
   "execution_count": 10,
   "metadata": {
    "colab": {},
    "colab_type": "code",
    "id": "xSk4-4x3NjVO"
   },
   "outputs": [],
   "source": [
    "#=========================#\n",
    "lr = 0.03  # learning rate\n",
    "#=========================#\n",
    "\n",
    "#  Manifold of different POVMs\n",
    "m = qgo.manifolds.POVM()\n",
    "# Initial parametrization of POVM\n",
    "A = m.random((4, 2, 2), dtype=tf.complex128)\n",
    "# Real representtion of A\n",
    "A = qgo.manifolds.complex_to_real(A)\n",
    "# tf.Variable to be tuned\n",
    "A = tf.Variable(A)\n",
    "\n",
    "# Riemannian Adam optimizer\n",
    "opt = qgo.optimizers.RAdam(m, lr)\n",
    "\n",
    "# Optimization loop\n",
    "for i in range(1000):\n",
    "    with tf.GradientTape() as tape:\n",
    "\n",
    "        # Complex representation of parametrization\n",
    "        Ac = qgo.manifolds.real_to_complex(A)\n",
    "        # POVM\n",
    "        povm = Ac @ tf.linalg.adjoint(Ac)\n",
    "        # Inverce POVM\n",
    "        povm_inv = tf.linalg.inv(tf.reshape(povm, (4, 4)))\n",
    "        # Matrix T maps probability vector to four real parameters representing\n",
    "        # a quantum state (equivalent to inverse POVM)\n",
    "        T = tf.concat([tf.math.real(povm_inv[0, tf.newaxis]),\n",
    "                        tf.math.real(povm_inv[3, tf.newaxis]),\n",
    "                        tf.math.real(povm_inv[2, tf.newaxis]),\n",
    "                        tf.math.imag(povm_inv[2, tf.newaxis])], axis=0)\n",
    "\n",
    "        # POVM maps a quantum state to probability vector\n",
    "        p = tf.tensordot(rho, povm, axes=[[2], [1]])\n",
    "        p = tf.transpose(p, (0, 2, 1, 3))\n",
    "        p = tf.math.real(tf.linalg.trace(p))\n",
    "\n",
    "        # Covariance matrix of a reconstructed density matrix\n",
    "        cov = -p[:, tf.newaxis] * p[..., tf.newaxis]\n",
    "        cov = cov + tf.linalg.diag(p ** 2)\n",
    "        cov = cov + tf.linalg.diag(p * (1 - p))\n",
    "        cov = tf.tensordot(T, cov, [[1], [1]])\n",
    "        cov = tf.tensordot(cov, T, [[2], [1]])\n",
    "        cov = tf.transpose(cov, (1, 0, 2))\n",
    "\n",
    "        # Covariance matrix avaraged over prior distribution\n",
    "        av_cov = tf.reduce_mean(cov, axis=0)\n",
    "\n",
    "        # loss function (log volume of Covariance matrix)\n",
    "        loss = tf.reduce_sum(tf.math.log(tf.linalg.svd(av_cov)[0][:-1]))\n",
    "    grad = tape.gradient(loss, A)  # gradient\n",
    "    opt.apply_gradients(zip([grad], [A]))  # optimization step"
   ]
  },
  {
   "cell_type": "markdown",
   "metadata": {
    "colab_type": "text",
    "id": "paAU_lip8ex5"
   },
   "source": [
    "## Validation\n",
    "\n",
    "Here we check a resulting POVM. For tetrahedral POVM one has the following relation ${\\rm Tr}\\left(M^\\alpha M^\\beta\\right) = \\frac{2\\delta_{\\alpha\\beta} + 1}{12}$. One can see, that this relation is almost true for a resulting POVM. The small error appears due to the approximate averaging."
   ]
  },
  {
   "cell_type": "code",
   "execution_count": 20,
   "metadata": {
    "colab": {
     "base_uri": "https://localhost:8080/",
     "height": 360
    },
    "colab_type": "code",
    "id": "8rPatx71bYPs",
    "outputId": "8b7042e3-e85a-48a9-9120-39bdb07b1fe3"
   },
   "outputs": [
    {
     "data": {
      "text/plain": [
       "<tf.Tensor: shape=(4, 4), dtype=float64, numpy=\n",
       "array([[0.25003257, 0.08331541, 0.08331288, 0.08337171],\n",
       "       [0.08331541, 0.25074221, 0.08337179, 0.08331225],\n",
       "       [0.08331288, 0.08337179, 0.25007641, 0.08331532],\n",
       "       [0.08337171, 0.08331225, 0.08331532, 0.24915009]])>"
      ]
     },
     "execution_count": 20,
     "metadata": {
      "tags": []
     },
     "output_type": "execute_result"
    },
    {
     "data": {
      "image/png": "[encoded data removed]",
      "text/plain": [
       "<Figure size 288x288 with 1 Axes>"
      ]
     },
     "metadata": {
      "needs_background": "light",
      "tags": []
     },
     "output_type": "display_data"
    }
   ],
   "source": [
    "cross = tf.tensordot(povm, povm, [[2], [1]])\n",
    "cross = tf.transpose(cross, (0, 2, 1, 3))\n",
    "cross = tf.linalg.trace(cross)\n",
    "cross = tf.math.real(cross)\n",
    "plt.matshow(cross)\n",
    "cross"
   ]
  }
 ],
 "metadata": {
  "accelerator": "GPU",
  "colab": {
   "collapsed_sections": [],
   "name": "optimal_povm.ipynb",
   "provenance": []
  },
  "kernelspec": {
   "display_name": "Python 3",
   "name": "python3"
  }
 },
 "nbformat": 4,
 "nbformat_minor": 0
}
