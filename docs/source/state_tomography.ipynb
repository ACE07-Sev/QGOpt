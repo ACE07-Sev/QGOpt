{
 "cells": [
  {
   "cell_type": "markdown",
   "metadata": {
    "colab_type": "text",
    "id": "yCpENKsOeRKt"
   },
   "source": [
    "# Quantum state tomography\n",
    "\n",
    "One can open this notebook in Google Colab (is recommended)\n",
    "\n",
    "[![Open In Colab](https://colab.research.google.com/assets/colab-badge.svg)](https://colab.research.google.com/github/LuchnikovI/QGOpt/blob/master/docs/source/state_tomography.ipynb)\n",
    "\n",
    "In this tutorial, we perform quantum state tomography via Riemannian optimization. First two blocks of a code (1. Many-qubit, informationally complete, positive operator-valued measure (IC POVM) and 2. Data set generation (measurement outcomes simulation)) are refered to data generation, third bock dedicated to tomography of a state.\n",
    "\n",
    "First, one needs to import all necessary libraries."
   ]
  },
  {
   "cell_type": "code",
   "execution_count": 1,
   "metadata": {
    "colab": {},
    "colab_type": "code",
    "id": "gdotZMMLeOn6"
   },
   "outputs": [],
   "source": [
    "import tensorflow as tf  # tf 2.x\n",
    "from math import sqrt\n",
    "\n",
    "try:\n",
    "    import QGOpt as qgo\n",
    "except ImportError:\n",
    "    !pip install git+https://github.com/LuchnikovI/QGOpt\n",
    "    import QGOpt as qgo\n",
    "\n",
    "import matplotlib.pyplot as plt\n",
    "from tqdm import tqdm\n",
    "\n",
    "# Fix random seed to make results reproducable.\n",
    "tf.random.set_seed(42)"
   ]
  },
  {
   "cell_type": "markdown",
   "metadata": {
    "colab_type": "text",
    "id": "azpIZCm2d8Ou"
   },
   "source": [
    "## 1. Many-qubit, informationally complete, positive operator-valued measure (IC POVM)\n",
    "\n",
    "Before generating measurement outcomes and performing quantum tomography, one needs to introduce POVM describing quantum measurements. For simplicity, we use one-qubit tetrahedral POVM and generalize it on a many-qubit case by taking tensor product between POVM elements, i.e. $\\{M_\\alpha\\}_{\\alpha=1}^4$ is the one-qubit tetrahedral POVM, $\\{M_{\\alpha_1}\\otimes \\dots \\otimes M_{\\alpha_N}\\}_{\\alpha_1=1,\\dots,\\alpha_N=1}^4$ is the many-qubits tetrahedral POVM."
   ]
  },
  {
   "cell_type": "code",
   "execution_count": 2,
   "metadata": {
    "colab": {},
    "colab_type": "code",
    "id": "OGPbEyFZd8Ov"
   },
   "outputs": [],
   "source": [
    "# Auxiliary function that returns Kronecker product between two\n",
    "# POVM elements A and B\n",
    "def kron(A, B):\n",
    "    \"\"\"Kronecker product of two POVM elements.\n",
    "\n",
    "    Args:\n",
    "        A: complex valued tensor of shape (q, n, k).\n",
    "        B: complex valued tensor of shape (p, m, l).\n",
    "\n",
    "    Returns:\n",
    "        complex valued tensor of shape (q * p, n * m, k * l)\"\"\"\n",
    "\n",
    "    AB = tf.tensordot(A, B, axes=0)\n",
    "    AB = tf.transpose(AB, (0, 3, 1, 4, 2, 5))\n",
    "    shape = AB.shape\n",
    "    AB = tf.reshape(AB, (shape[0] * shape[1],\n",
    "                         shape[2] * shape[3],\n",
    "                         shape[4] * shape[5]))\n",
    "    return AB\n",
    "\n",
    "# Pauli matrices\n",
    "sigma_x = tf.constant([[0, 1], [1, 0]], dtype=tf.complex128)\n",
    "sigma_y = tf.constant([[0 + 0j, -1j], [1j, 0 + 0j]], dtype=tf.complex128)\n",
    "sigma_z = tf.constant([[1, 0], [0, -1]], dtype=tf.complex128)\n",
    "\n",
    "# All Pauli matrices in one tensor of shape (3, 2, 2)\n",
    "sigma = tf.concat([sigma_x[tf.newaxis],\n",
    "                   sigma_y[tf.newaxis],\n",
    "                   sigma_z[tf.newaxis]], axis=0)\n",
    "\n",
    "# Coordinates of thetrahedron peaks (is needed to build tetrahedral POVM)\n",
    "s0 = tf.constant([0, 0, 1], dtype=tf.complex128)\n",
    "s1 = tf.constant([2 * sqrt(2) / 3, 0, -1/3], dtype=tf.complex128)\n",
    "s2 = tf.constant([-sqrt(2) / 3, sqrt(2 / 3), -1 / 3], dtype=tf.complex128)\n",
    "s3 = tf.constant([-sqrt(2) / 3, -sqrt(2 / 3), -1 / 3], dtype=tf.complex128)\n",
    "\n",
    "# Coordinates of thetrahedron peaks in one tensor of shape (4, 3)\n",
    "s = tf.concat([s0[tf.newaxis],\n",
    "               s1[tf.newaxis],\n",
    "               s2[tf.newaxis],\n",
    "               s3[tf.newaxis]], axis=0)\n",
    "\n",
    "# One qubit thetrahedral POVM\n",
    "M = 0.25 * (tf.eye(2, dtype=tf.complex128) + tf.tensordot(s, sigma, axes=1))\n",
    "\n",
    "n = 2  # number of qubits we experiment with\n",
    "\n",
    "# M for n qubits (Mmq)\n",
    "Mmq = M\n",
    "for _ in range(n - 1):\n",
    "    Mmq = kron(Mmq, M)"
   ]
  },
  {
   "cell_type": "markdown",
   "metadata": {
    "colab_type": "text",
    "id": "s9e5LH3rd8Oy"
   },
   "source": [
    "## 2. Data set generation (measurement outcomes simulation).\n",
    "\n",
    "Here we generate a set of measurement outcomes (training set). First of all, we generate a random density matrix that is a target state we want to reconstruct. Then, we simulate measurement outcomes over the target state driven by many-qubits tetrahedral POVM introduced in the previous cell."
   ]
  },
  {
   "cell_type": "code",
   "execution_count": 3,
   "metadata": {
    "colab": {},
    "colab_type": "code",
    "id": "jA5UUexod8Oz"
   },
   "outputs": [],
   "source": [
    "#-----------------------------------------------------#\n",
    "num_of_meas = 600000  # number of measurement outcomes\n",
    "#-----------------------------------------------------#\n",
    "\n",
    "# random target density matrix (to be reconstructed)\n",
    "m = qgo.manifolds.DensityMatrix()\n",
    "A = m.random((2 ** n, 2 ** n), dtype=tf.complex128)\n",
    "rho_true = A @ tf.linalg.adjoint(A)\n",
    "\n",
    "# measurements simulation (by using Gumbel trick for sampling from a\n",
    "# discrete distribution)\n",
    "P = tf.cast(tf.tensordot(Mmq, rho_true, [[1, 2], [1, 0]]), dtype=tf.float64)\n",
    "eps = tf.random.uniform((num_of_meas, 2 ** (2 * n)), dtype=tf.float64)\n",
    "eps = -tf.math.log(-tf.math.log(eps))\n",
    "ind_set = tf.math.argmax(eps + tf.math.log(P), axis=-1)\n",
    "\n",
    "# POVM elements came true (data set)\n",
    "data_set = tf.gather_nd(Mmq, ind_set[:, tf.newaxis])"
   ]
  },
  {
   "cell_type": "markdown",
   "metadata": {
    "colab_type": "text",
    "id": "Pvbfxbpqd8O3"
   },
   "source": [
    "## 3. Data processing (tomography)\n",
    "\n",
    "First, we define an example of the density matrices manifold:"
   ]
  },
  {
   "cell_type": "code",
   "execution_count": 4,
   "metadata": {},
   "outputs": [],
   "source": [
    "m = qgo.manifolds.DensityMatrix()"
   ]
  },
  {
   "cell_type": "markdown",
   "metadata": {},
   "source": [
    "The manifold of density matrices is represneted through the quadratic parametrization $\\varrho = AA^\\dagger$ with an equivalence relation $A\\sim AQ$, where $Q$ is an arbitrary unitary matrix. Thus, we initialize a variable, that represents the parametrization of a density matrix:"
   ]
  },
  {
   "cell_type": "code",
   "execution_count": 5,
   "metadata": {},
   "outputs": [],
   "source": [
    "# random initial paramterization\n",
    "a = m.random((2 ** n, 2 ** n), dtype=tf.complex128)\n",
    "# in order to make an optimizer works properly\n",
    "# one need to turn a to real representation\n",
    "a = qgo.manifolds.complex_to_real(a)\n",
    "# variable\n",
    "a = tf.Variable(a)"
   ]
  },
  {
   "cell_type": "markdown",
   "metadata": {},
   "source": [
    "Then we initialize Riemannian Adam optimizer:"
   ]
  },
  {
   "cell_type": "code",
   "execution_count": 6,
   "metadata": {},
   "outputs": [],
   "source": [
    "lr = 0.07  # optimization step size\n",
    "opt = qgo.optimizers.RAdam(m, lr)"
   ]
  },
  {
   "cell_type": "markdown",
   "metadata": {},
   "source": [
    "Finally, we ran part of code that calculate forward pass, gradients, and optimization step several times until convergence is reached:"
   ]
  },
  {
   "cell_type": "code",
   "execution_count": 7,
   "metadata": {
    "colab": {
     "base_uri": "https://localhost:8080/",
     "height": 68
    },
    "colab_type": "code",
    "id": "6MlYR2h7d8O3",
    "outputId": "4ad95b33-a0a4-461b-830b-4740af82cdcd"
   },
   "outputs": [],
   "source": [
    "# the list will be filled by value of trace distance per iteration\n",
    "trace_distance = []\n",
    "\n",
    "for _ in range(400):\n",
    "    with tf.GradientTape() as tape:\n",
    "        # complex representation of parametrization\n",
    "        # shape=(2**n, 2**n)\n",
    "        ac = qgo.manifolds.real_to_complex(a)\n",
    "\n",
    "        # density matrix\n",
    "        rho_trial = ac @ tf.linalg.adjoint(ac)\n",
    "\n",
    "        # probabilities of measurement outcomes\n",
    "        p = tf.tensordot(rho_trial, data_set, [[0, 1], [2, 1]])\n",
    "        p = tf.math.real(p)\n",
    "\n",
    "        # negative log likelihood (to be minimized)\n",
    "        L = -tf.reduce_mean(tf.math.log(p))\n",
    "\n",
    "    # filling trace_distance list (for further plotting)\n",
    "    trace_distance.append(tf.reduce_sum(tf.math.abs(tf.linalg.eigvalsh(rho_trial - rho_true))))\n",
    "    # gradient\n",
    "    grad = tape.gradient(L, a)\n",
    "    # optimization step\n",
    "    opt.apply_gradients(zip([grad], [a]))"
   ]
  },
  {
   "cell_type": "markdown",
   "metadata": {
    "colab_type": "text",
    "id": "KCToEbFhd8O7"
   },
   "source": [
    "Here we plot trace distance vs number of iteration to validate the result"
   ]
  },
  {
   "cell_type": "code",
   "execution_count": 8,
   "metadata": {
    "colab": {
     "base_uri": "https://localhost:8080/",
     "height": 298
    },
    "colab_type": "code",
    "id": "xbkSQUK6d8O8",
    "outputId": "a7ec23a6-c806-4c6d-c0ea-4a6e13d85287"
   },
   "outputs": [
    {
     "data": {
      "text/plain": [
       "Text(0.5,0,'$iter$')"
      ]
     },
     "execution_count": 8,
     "metadata": {},
     "output_type": "execute_result"
    },
    {
     "data": {
      "image/png": "[encoded data removed]",
      "text/plain": [
       "<Figure size 432x288 with 1 Axes>"
      ]
     },
     "metadata": {
      "needs_background": "light"
     },
     "output_type": "display_data"
    }
   ],
   "source": [
    "plt.plot(trace_distance, 'b')\n",
    "plt.legend([r'$n=$' + str(n) + r'$\\ qubits$'])\n",
    "plt.yscale('log')\n",
    "plt.ylabel(r'$||\\varrho_{\\rm true} - \\varrho_{\\rm trial}||_{\\rm tr}$')\n",
    "plt.xlabel(r'$iter$')"
   ]
  }
 ],
 "metadata": {
  "accelerator": "GPU",
  "colab": {
   "collapsed_sections": [],
   "name": "state_tomography.ipynb",
   "provenance": []
  },
  "kernelspec": {
   "display_name": "Python 3",
   "language": "python",
   "name": "python3"
  },
  "language_info": {
   "codemirror_mode": {
    "name": "ipython",
    "version": 3
   },
   "file_extension": ".py",
   "mimetype": "text/x-python",
   "name": "python",
   "nbconvert_exporter": "python",
   "pygments_lexer": "ipython3",
   "version": "3.7.2"
  }
 },
 "nbformat": 4,
 "nbformat_minor": 1
}
