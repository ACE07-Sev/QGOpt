{
 "cells": [
  {
   "cell_type": "code",
   "execution_count": 1,
   "metadata": {},
   "outputs": [],
   "source": [
    "import tensorflow as tf\n",
    "import matplotlib.pyplot as plt\n",
    "from math import sqrt\n",
    "import qriemannopt as qro"
   ]
  },
  {
   "cell_type": "markdown",
   "metadata": {},
   "source": [
    "### Many qubits IC POVM"
   ]
  },
  {
   "cell_type": "code",
   "execution_count": 2,
   "metadata": {},
   "outputs": [],
   "source": [
    "def kron(A, B):\n",
    "    \"\"\"Kronecker product of two tensors\n",
    "    Args:\n",
    "        A: tf tensor of shape (q, n, k)\n",
    "        B: tf tensor of shape (p, m, l)\n",
    "    Returns:\n",
    "        tf tensor of shape (q * p, n * m, k * l)\"\"\"\n",
    "    AB = tf.tensordot(A, B, axes=0)\n",
    "    AB = tf.transpose(AB, (0, 3, 1, 4, 2, 5))\n",
    "    shape = AB.shape\n",
    "    AB = tf.reshape(AB, (shape[0] * shape[1],\n",
    "                         shape[2] * shape[3],\n",
    "                         shape[4] * shape[5]))\n",
    "    return AB\n",
    "\n",
    "# Pauli matrices\n",
    "sigma_x = tf.constant([[0, 1], [1, 0]], dtype=tf.complex128)\n",
    "sigma_y = tf.constant([[0 + 0j, -1j], [1j, 0 + 0j]], dtype=tf.complex128)\n",
    "sigma_z = tf.constant([[1, 0], [0, -1]], dtype=tf.complex128)\n",
    "\n",
    "# All Pauli matrices in one tensor\n",
    "sigma = tf.concat([sigma_x[tf.newaxis],\n",
    "                   sigma_y[tf.newaxis],\n",
    "                   sigma_z[tf.newaxis]], axis=0)\n",
    "\n",
    "# coordinates of thetrahedron peaks\n",
    "s0 = tf.constant([0, 0, 1], dtype=tf.complex128)\n",
    "s1 = tf.constant([2 * sqrt(2) / 3, 0, -1/3], dtype=tf.complex128)\n",
    "s2 = tf.constant([-sqrt(2) / 3, sqrt(2 / 3), -1 / 3], dtype=tf.complex128)\n",
    "s3 = tf.constant([-sqrt(2) / 3, -sqrt(2 / 3), -1 / 3], dtype=tf.complex128)\n",
    "\n",
    "# coordinates of thetrahedron peaks in one tensor\n",
    "s = tf.concat([s0[tf.newaxis],\n",
    "               s1[tf.newaxis],\n",
    "               s2[tf.newaxis],\n",
    "               s3[tf.newaxis]], axis=0)\n",
    "\n",
    "# One qubit thetrahedral POVM\n",
    "M = 0.25 * (tf.eye(2, dtype=tf.complex128) + tf.tensordot(s, sigma, axes=1))\n",
    "\n",
    "# Many qubits POVM\n",
    "num_of_qubits = 5  # number of qubits\n",
    "Mmq = M\n",
    "for _ in range(num_of_qubits - 1):\n",
    "    Mmq = kron(Mmq, M)"
   ]
  },
  {
   "cell_type": "markdown",
   "metadata": {},
   "source": [
    "### Data set generation (measurements outcomes simulation)"
   ]
  },
  {
   "cell_type": "code",
   "execution_count": 3,
   "metadata": {},
   "outputs": [],
   "source": [
    "num_of_meas = 100  # number of measurements\n",
    "\n",
    "# Random density matrix\n",
    "rho = tf.random.normal((2 ** num_of_qubits, 2 ** num_of_qubits, 2), dtype=tf.float64)\n",
    "rho = qro.manifold.real_to_complex(rho)\n",
    "rho = tf.linalg.adjoint(rho) @ rho\n",
    "rho = rho / tf.linalg.trace(rho)\n",
    "\n",
    "# Measurements simulation\n",
    "P = tf.cast(tf.einsum('ijk,kj->i', Mmq, rho), dtype=tf.float64)\n",
    "eps = tf.random.uniform((num_of_meas,\n",
    "                         2 ** (2 * num_of_qubits)),\n",
    "                        dtype=tf.float64)\n",
    "eps = -tf.math.log(-tf.math.log(eps))\n",
    "ind_set = tf.math.argmax(eps + tf.math.log(P), axis=-1)\n",
    "M_set = tf.gather_nd(Mmq, ind_set[:, tf.newaxis])"
   ]
  },
  {
   "cell_type": "markdown",
   "metadata": {},
   "source": [
    "### Learning"
   ]
  },
  {
   "cell_type": "code",
   "execution_count": 68,
   "metadata": {},
   "outputs": [],
   "source": [
    "'''# Random density matrix (Variable)\n",
    "rho_learned = tf.random.normal((2 ** num_of_qubits, 2 ** num_of_qubits, 2), dtype=tf.float64)\n",
    "rho_learned = qro.manifold.real_to_complex(rho_learned)\n",
    "rho_learned = tf.linalg.adjoint(rho_learned) @ rho_learned\n",
    "rho_learned = rho_learned / tf.linalg.trace(rho_learned)\n",
    "rho_learned = tf.Variable(qro.manifold.complex_to_real(rho_learned))\n",
    "m = qro.manifold.DensM(metric='cholesky')\n",
    "opt = qro.optimizers.RAdam(m, 0.1)'''\n",
    "rho_learned = tf.Variable(tf.random.normal((2 ** num_of_qubits, 2 ** num_of_qubits, 2), dtype=tf.float64))\n",
    "opt = tf.optimizers.Adam(0.001)\n",
    "dist = []\n",
    "losses = []\n",
    "for _ in range(1000):\n",
    "    with tf.GradientTape() as tape:\n",
    "        rho_learned_c = qro.manifold.real_to_complex(rho_learned)\n",
    "        rho_learned_c1 = tf.linalg.adjoint(rho_learned_c) @ rho_learned_c\n",
    "        #rho_learned_c = qro.manifold.real_to_complex(rho_learned)\n",
    "        trace = tf.reduce_sum(tf.linalg.diag_part(rho_learned_c1))\n",
    "        rho_learned_c2 = rho_learned_c1 * (trace ** (-1))\n",
    "        p = tf.cast(tf.einsum('ijk,kj->i', M_set, rho_learned_c2), dtype=tf.float64)\n",
    "        loss = tf.reduce_mean(tf.math.log(p))\n",
    "    grad = tape.gradient(loss, rho_learned)\n",
    "    opt.apply_gradients(zip([grad], [rho_learned]))\n",
    "    dist.append(0.5 * tf.reduce_sum(tf.abs(tf.linalg.eigvalsh(rho_learned_c2 - rho))))\n",
    "    losses.append(loss)"
   ]
  },
  {
   "cell_type": "code",
   "execution_count": 69,
   "metadata": {},
   "outputs": [
    {
     "data": {
      "text/plain": [
       "[<matplotlib.lines.Line2D at 0x2a51f71b648>]"
      ]
     },
     "execution_count": 69,
     "metadata": {},
     "output_type": "execute_result"
    },
    {
     "data": {
      "image/png": "[encoded data removed]",
      "text/plain": [
       "<Figure size 432x288 with 1 Axes>"
      ]
     },
     "metadata": {
      "needs_background": "light"
     },
     "output_type": "display_data"
    }
   ],
   "source": [
    "plt.plot(dist)"
   ]
  },
  {
   "cell_type": "code",
   "execution_count": 70,
   "metadata": {},
   "outputs": [
    {
     "data": {
      "text/plain": [
       "[<matplotlib.lines.Line2D at 0x2a51f7ec988>]"
      ]
     },
     "execution_count": 70,
     "metadata": {},
     "output_type": "execute_result"
    },
    {
     "data": {
      "image/png": "[encoded data removed]",
      "text/plain": [
       "<Figure size 432x288 with 1 Axes>"
      ]
     },
     "metadata": {
      "needs_background": "light"
     },
     "output_type": "display_data"
    }
   ],
   "source": [
    "plt.plot(losses)"
   ]
  },
  {
   "cell_type": "code",
   "execution_count": 71,
   "metadata": {},
   "outputs": [
    {
     "data": {
      "text/plain": [
       "<tf.Variable 'Variable:0' shape=(32, 32, 2) dtype=float64, numpy=\n",
       "array([[[ 0.00706903, -0.3932346 ],\n",
       "        [-0.55879506,  0.2731243 ],\n",
       "        [-0.61333802, -1.11076482],\n",
       "        ...,\n",
       "        [ 1.18935447,  0.46762781],\n",
       "        [-0.63846236,  0.27145788],\n",
       "        [ 1.21529091,  2.2386608 ]],\n",
       "\n",
       "       [[-0.43057917, -0.77787285],\n",
       "        [-1.34014554,  0.91312471],\n",
       "        [-0.01579861, -0.61968848],\n",
       "        ...,\n",
       "        [-0.76486543,  0.58386027],\n",
       "        [ 0.10270079,  0.67787332],\n",
       "        [-0.06254831,  1.13294352]],\n",
       "\n",
       "       [[-0.42004276, -1.09420895],\n",
       "        [ 0.60915414,  0.3847198 ],\n",
       "        [ 0.81437967, -0.29633845],\n",
       "        ...,\n",
       "        [-0.29191996,  0.87091581],\n",
       "        [-1.64199924, -0.0636686 ],\n",
       "        [ 0.12338084,  0.118681  ]],\n",
       "\n",
       "       ...,\n",
       "\n",
       "       [[-0.01992944, -0.71898353],\n",
       "        [ 0.70414697,  0.41151326],\n",
       "        [ 1.04018076,  1.37286745],\n",
       "        ...,\n",
       "        [ 0.42100325,  1.41123324],\n",
       "        [-0.72983808, -1.37660355],\n",
       "        [ 0.8157081 , -0.92330439]],\n",
       "\n",
       "       [[ 0.14120281,  0.04912834],\n",
       "        [-1.31675714,  2.34768232],\n",
       "        [-0.21378307,  0.26196132],\n",
       "        ...,\n",
       "        [-2.47254095,  1.41560823],\n",
       "        [ 0.16654391, -1.22748799],\n",
       "        [-0.62425791, -0.57817765]],\n",
       "\n",
       "       [[ 0.03477848, -0.35436202],\n",
       "        [ 0.26184864,  2.09785896],\n",
       "        [-0.29035765,  0.26711416],\n",
       "        ...,\n",
       "        [ 0.70119088,  0.13759047],\n",
       "        [ 1.09444914,  2.73658931],\n",
       "        [-1.94083689, -0.0670724 ]]])>"
      ]
     },
     "execution_count": 71,
     "metadata": {},
     "output_type": "execute_result"
    }
   ],
   "source": [
    "rho_learned"
   ]
  },
  {
   "cell_type": "code",
   "execution_count": 22,
   "metadata": {},
   "outputs": [
    {
     "data": {
      "text/plain": [
       "<tf.Tensor: shape=(), dtype=float64, numpy=8.568175186651542e-06>"
      ]
     },
     "execution_count": 22,
     "metadata": {},
     "output_type": "execute_result"
    }
   ],
   "source": [
    "tf.reduce_min(tf.math.real(p))"
   ]
  },
  {
   "cell_type": "code",
   "execution_count": null,
   "metadata": {},
   "outputs": [],
   "source": []
  }
 ],
 "metadata": {
  "kernelspec": {
   "display_name": "Python 3",
   "language": "python",
   "name": "python3"
  },
  "language_info": {
   "codemirror_mode": {
    "name": "ipython",
    "version": 3
   },
   "file_extension": ".py",
   "mimetype": "text/x-python",
   "name": "python",
   "nbconvert_exporter": "python",
   "pygments_lexer": "ipython3",
   "version": "3.7.4"
  }
 },
 "nbformat": 4,
 "nbformat_minor": 2
}
