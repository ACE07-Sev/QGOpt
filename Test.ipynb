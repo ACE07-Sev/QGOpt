{
 "cells": [
  {
   "cell_type": "code",
   "execution_count": 1,
   "metadata": {},
   "outputs": [],
   "source": [
    "import tensorflow as tf\n",
    "import QGOpt as qgo\n",
    "import matplotlib.pyplot as plt"
   ]
  },
  {
   "cell_type": "code",
   "execution_count": 2,
   "metadata": {},
   "outputs": [
    {
     "name": "stdout",
     "output_type": "stream",
     "text": [
      "tf.Tensor(\n",
      "[[[ 2.22044605e-16+6.66133815e-16j  1.66533454e-16+5.55111512e-17j]\n",
      "  [-2.22044605e-16+1.11022302e-16j -3.33066907e-16+3.33066907e-16j]\n",
      "  [-3.33066907e-16+6.93889390e-17j  4.44089210e-16-4.44089210e-16j]]\n",
      "\n",
      " [[ 0.00000000e+00+0.00000000e+00j  4.16333634e-17+0.00000000e+00j]\n",
      "  [ 0.00000000e+00+0.00000000e+00j -1.11022302e-16+5.55111512e-17j]\n",
      "  [ 0.00000000e+00+0.00000000e+00j  2.22044605e-16+0.00000000e+00j]]], shape=(2, 3, 2), dtype=complex128)\n",
      "tf.Tensor([1.34712516e-15-0.16179196j 1.47326625e-16-1.48615001j], shape=(2,), dtype=complex128)\n",
      "tf.Tensor(\n",
      "[[[-2.60795550e-16+3.33168851e-16j  3.03729199e-16+2.75758536e-17j]\n",
      "  [ 4.12534508e-17-1.07591037e-16j -1.42487209e-16+3.60398455e-16j]\n",
      "  [-3.73278531e-16+9.96283243e-18j  1.57503264e-16-3.48524225e-16j]]\n",
      "\n",
      " [[-8.49692337e-18+2.53733198e-17j  9.05583985e-18-2.06793447e-17j]\n",
      "  [-2.19572266e-17+2.71515404e-19j  6.48532766e-18+1.25020980e-18j]\n",
      "  [ 2.99697534e-17+3.17810227e-17j -7.11866518e-17-7.27101970e-17j]]], shape=(2, 3, 2), dtype=complex128)\n"
     ]
    }
   ],
   "source": [
    "dtype_real = tf.float64\n",
    "dtype_complex = tf.complex128\n",
    "\n",
    "def adj(A):\n",
    "    \n",
    "    return tf.linalg.matrix_transpose(tf.math.conj(A))\n",
    "\n",
    "# random isometric matrix\n",
    "q = tf.random.normal((2, 3, 2, 2), dtype=dtype_real)\n",
    "q = qgo.manifolds.real_to_complex(q)\n",
    "q, _ = tf.linalg.qr(q)\n",
    "\n",
    "# random gradient\n",
    "grad = tf.random.normal((2, 3, 2, 2), dtype=dtype_real)\n",
    "grad = qgo.manifolds.real_to_complex(grad)\n",
    "\n",
    "# random metric\n",
    "L = tf.random.normal((2, 3, 2, 2, 12), dtype=dtype_real)\n",
    "metric = tf.einsum('qijan,qklbn->qijaklb', tf.math.conj(L), L)\n",
    "\n",
    "# random tangent vector\n",
    "v = tf.random.normal((2, 3, 2, 2), dtype=dtype_real)\n",
    "v = qgo.manifolds.real_to_complex(v)\n",
    "\n",
    "v = v - 0.5 * q @ (adj(q) @ v + adj(v) @ q)\n",
    "\n",
    "v1 = tf.random.normal((2, 3, 2, 2), dtype=dtype_real)\n",
    "v1 = qgo.manifolds.real_to_complex(v1)\n",
    "\n",
    "v1 = 0.5 * q @ (adj(q) @ v1 + adj(v1) @ q)\n",
    "print(v1 - 0.5 * q @ (adj(q) @ v1 + adj(v1) @ q))\n",
    "print(tf.einsum('qij,qij->q', tf.math.conj(v), v1))\n",
    "print(0.5 * q @ (adj(q) @ v + adj(v) @ q))"
   ]
  },
  {
   "cell_type": "markdown",
   "metadata": {},
   "source": [
    "### Manifold and Riemannian grad"
   ]
  },
  {
   "cell_type": "code",
   "execution_count": 4,
   "metadata": {
    "scrolled": true
   },
   "outputs": [],
   "source": [
    "manifold = qgo.any_metric_manifolds.StiefelManifold(retraction='cayley')\n",
    "rgrad = manifold.egrad_to_rgrad(metric, q, grad)"
   ]
  },
  {
   "cell_type": "markdown",
   "metadata": {},
   "source": [
    "### Projection on the nromal space"
   ]
  },
  {
   "cell_type": "code",
   "execution_count": 5,
   "metadata": {},
   "outputs": [
    {
     "data": {
      "text/plain": [
       "<tf.Tensor: shape=(), dtype=complex128, numpy=(2.093938134919454e-14-1.8950562975409733e-32j)>"
      ]
     },
     "execution_count": 5,
     "metadata": {},
     "output_type": "execute_result"
    }
   ],
   "source": [
    "tf.linalg.norm(q @ (adj(q) @ rgrad + adj(rgrad) @ q))"
   ]
  },
  {
   "cell_type": "markdown",
   "metadata": {},
   "source": [
    "### Test of the direction"
   ]
  },
  {
   "cell_type": "code",
   "execution_count": 6,
   "metadata": {},
   "outputs": [
    {
     "name": "stdout",
     "output_type": "stream",
     "text": [
      "tf.Tensor(\n",
      "[[[-3.24819816e-15+4.05075415e-15j -2.90637766e-15-7.10737974e-16j]\n",
      "  [-3.03778680e-15+1.55859817e-15j  2.34687892e-15-4.96154689e-15j]\n",
      "  [-4.50377880e-15+3.02538248e-15j -3.11099076e-16+2.50070221e-15j]]\n",
      "\n",
      " [[-4.34180137e-14+4.34339175e-14j -1.44202826e-14+7.52576915e-15j]\n",
      "  [ 1.76076749e-14+6.69160687e-14j  4.69683607e-14+1.01935050e-13j]\n",
      "  [ 6.46760499e-14-3.85807207e-14j  1.71334340e-15+2.57098759e-14j]]], shape=(2, 3, 2), dtype=complex128)\n"
     ]
    },
    {
     "data": {
      "text/plain": [
       "<tf.Tensor: shape=(2,), dtype=complex128, numpy=array([-3.77475828e-15+1.27822495j,  8.63753513e-14-1.03387625j])>"
      ]
     },
     "execution_count": 6,
     "metadata": {},
     "output_type": "execute_result"
    }
   ],
   "source": [
    "vec = qgo.manifolds.real_to_complex(tf.einsum('qijaklb,qklb->qija',\n",
    "                                              metric,\n",
    "                                              qgo.manifolds.complex_to_real(rgrad))) - grad\n",
    "vec1 = 0.5 * q @ (adj(q) @ vec + adj(vec) @ q)\n",
    "\n",
    "print(0.5 * q @ (adj(q) @ vec - adj(vec) @ q) +\\\n",
    "      (tf.eye(3, dtype=dtype_complex) - q @ adj(q)) @ vec)\n",
    "\n",
    "tf.reduce_sum(tf.math.conj(v) * vec, axis=(1, 2))"
   ]
  },
  {
   "cell_type": "code",
   "execution_count": 8,
   "metadata": {},
   "outputs": [
    {
     "name": "stdout",
     "output_type": "stream",
     "text": [
      "tf.Tensor(\n",
      "[[[-1.12474293-1.96475061j  0.41100072+0.28132027j]\n",
      "  [ 2.33770681-1.40922325j  0.0385208 -0.57743326j]\n",
      "  [-0.28712694-0.46864989j  1.0986696 +0.47547931j]]\n",
      "\n",
      " [[-0.02644441-0.73629405j -1.86688742-1.24069862j]\n",
      "  [-0.64337275+0.24869449j -0.09699218+0.58586118j]\n",
      "  [ 0.70149782-0.07009199j  0.65292322-0.80958282j]]], shape=(2, 3, 2), dtype=complex128)\n",
      "tf.Tensor(\n",
      "[[[-1.12474293-1.96475061j  0.41100072+0.28132027j]\n",
      "  [ 2.33770681-1.40922325j  0.0385208 -0.57743326j]\n",
      "  [-0.28712694-0.46864989j  1.0986696 +0.47547931j]]\n",
      "\n",
      " [[-0.02644441-0.73629405j -1.86688742-1.24069862j]\n",
      "  [-0.64337275+0.24869449j -0.09699218+0.58586118j]\n",
      "  [ 0.70149782-0.07009199j  0.65292322-0.80958282j]]], shape=(2, 3, 2), dtype=complex128)\n"
     ]
    }
   ],
   "source": [
    "print(0.5 * q @ (adj(q) @ v - adj(v) @ q) +\\\n",
    "      (tf.eye(3, dtype=dtype_complex) - q @ adj(q)) @ v)\n",
    "print(v)"
   ]
  },
  {
   "cell_type": "code",
   "execution_count": 8,
   "metadata": {},
   "outputs": [
    {
     "data": {
      "text/plain": [
       "<tf.Tensor: shape=(2, 3, 2), dtype=complex128, numpy=\n",
       "array([[[ 0.52688868+0.07712976j, -0.63055173+1.08787398j],\n",
       "        [-1.32020732+0.15438808j,  0.38193662-2.62455906j],\n",
       "        [ 0.2190537 +0.31066373j, -0.43265397+0.48473429j]],\n",
       "\n",
       "       [[ 0.00780034+0.17175017j,  3.45913517+0.73193002j],\n",
       "        [ 3.14132692-1.41358317j,  0.67045419-0.5225142j ],\n",
       "        [ 1.58853854+0.5002948j ,  0.30822823-2.7322754j ]]])>"
      ]
     },
     "execution_count": 8,
     "metadata": {},
     "output_type": "execute_result"
    }
   ],
   "source": [
    "vec"
   ]
  },
  {
   "cell_type": "code",
   "execution_count": 3,
   "metadata": {},
   "outputs": [
    {
     "ename": "AttributeError",
     "evalue": "module 'QGOpt.manifolds' has no attribute 'stiefel_any_metric'",
     "output_type": "error",
     "traceback": [
      "\u001b[1;31m---------------------------------------------------------------------------\u001b[0m",
      "\u001b[1;31mAttributeError\u001b[0m                            Traceback (most recent call last)",
      "\u001b[1;32m<ipython-input-3-b6714fc1da64>\u001b[0m in \u001b[0;36m<module>\u001b[1;34m\u001b[0m\n\u001b[1;32m----> 1\u001b[1;33m \u001b[0mqgo\u001b[0m\u001b[1;33m.\u001b[0m\u001b[0mmanifolds\u001b[0m\u001b[1;33m.\u001b[0m\u001b[0mstiefel_any_metric\u001b[0m\u001b[1;33m.\u001b[0m\u001b[0m_to_complex_matrix\u001b[0m\u001b[1;33m(\u001b[0m\u001b[0mqgo\u001b[0m\u001b[1;33m.\u001b[0m\u001b[0mmanifolds\u001b[0m\u001b[1;33m.\u001b[0m\u001b[0mstiefel_any_metric\u001b[0m\u001b[1;33m.\u001b[0m\u001b[0m_to_real_matrix\u001b[0m\u001b[1;33m(\u001b[0m\u001b[0mq\u001b[0m\u001b[1;33m)\u001b[0m\u001b[1;33m)\u001b[0m\u001b[1;33m\u001b[0m\u001b[1;33m\u001b[0m\u001b[0m\n\u001b[0m",
      "\u001b[1;31mAttributeError\u001b[0m: module 'QGOpt.manifolds' has no attribute 'stiefel_any_metric'"
     ]
    }
   ],
   "source": [
    "qgo.manifolds.stiefel_any_metric._to_complex_matrix(qgo.manifolds.stiefel_any_metric._to_real_matrix(q))"
   ]
  },
  {
   "cell_type": "code",
   "execution_count": 7,
   "metadata": {},
   "outputs": [
    {
     "data": {
      "text/plain": [
       "<tf.Tensor: shape=(24,), dtype=float64, numpy=\n",
       "array([-3.63178195e-16, -1.77232651e-16, -1.03697802e-17,  4.16161000e-18,\n",
       "        1.12646051e-16,  1.74623668e-16,  3.22575485e-16,  3.48443790e-16,\n",
       "        5.07327600e-16,  6.59644558e-16,  1.00000000e+00,  1.00000000e+00,\n",
       "        1.00000000e+00,  1.00000000e+00,  1.00000000e+00,  1.00000000e+00,\n",
       "        1.00000000e+00,  1.00000000e+00,  1.00000000e+00,  1.00000000e+00,\n",
       "        1.00000000e+00,  1.00000000e+00,  1.00000000e+00,  1.00000000e+00])>"
      ]
     },
     "execution_count": 7,
     "metadata": {},
     "output_type": "execute_result"
    }
   ],
   "source": [
    "tf.linalg.eigvalsh(rgrad[0])"
   ]
  },
  {
   "cell_type": "code",
   "execution_count": 8,
   "metadata": {},
   "outputs": [
    {
     "ename": "TypeError",
     "evalue": "Invalid shape (3, 2, 2, 3, 2, 2, 2, 2) for image data",
     "output_type": "error",
     "traceback": [
      "\u001b[1;31m---------------------------------------------------------------------------\u001b[0m",
      "\u001b[1;31mTypeError\u001b[0m                                 Traceback (most recent call last)",
      "\u001b[1;32m<ipython-input-8-64802eb43783>\u001b[0m in \u001b[0;36m<module>\u001b[1;34m\u001b[0m\n\u001b[1;32m----> 1\u001b[1;33m \u001b[0mplt\u001b[0m\u001b[1;33m.\u001b[0m\u001b[0mimshow\u001b[0m\u001b[1;33m(\u001b[0m\u001b[0mqgo\u001b[0m\u001b[1;33m.\u001b[0m\u001b[0many_metric_manifolds\u001b[0m\u001b[1;33m.\u001b[0m\u001b[0mutils\u001b[0m\u001b[1;33m.\u001b[0m\u001b[0m_transform_metric\u001b[0m\u001b[1;33m(\u001b[0m\u001b[0mmetric\u001b[0m\u001b[1;33m)\u001b[0m\u001b[1;33m[\u001b[0m\u001b[1;36m0\u001b[0m\u001b[1;33m]\u001b[0m\u001b[1;33m)\u001b[0m\u001b[1;33m\u001b[0m\u001b[1;33m\u001b[0m\u001b[0m\n\u001b[0m",
      "\u001b[1;32m~\\Anaconda3\\lib\\site-packages\\matplotlib\\pyplot.py\u001b[0m in \u001b[0;36mimshow\u001b[1;34m(X, cmap, norm, aspect, interpolation, alpha, vmin, vmax, origin, extent, shape, filternorm, filterrad, imlim, resample, url, data, **kwargs)\u001b[0m\n\u001b[0;32m   2681\u001b[0m         \u001b[0mfilternorm\u001b[0m\u001b[1;33m=\u001b[0m\u001b[0mfilternorm\u001b[0m\u001b[1;33m,\u001b[0m \u001b[0mfilterrad\u001b[0m\u001b[1;33m=\u001b[0m\u001b[0mfilterrad\u001b[0m\u001b[1;33m,\u001b[0m \u001b[0mimlim\u001b[0m\u001b[1;33m=\u001b[0m\u001b[0mimlim\u001b[0m\u001b[1;33m,\u001b[0m\u001b[1;33m\u001b[0m\u001b[1;33m\u001b[0m\u001b[0m\n\u001b[0;32m   2682\u001b[0m         resample=resample, url=url, **({\"data\": data} if data is not\n\u001b[1;32m-> 2683\u001b[1;33m         None else {}), **kwargs)\n\u001b[0m\u001b[0;32m   2684\u001b[0m     \u001b[0msci\u001b[0m\u001b[1;33m(\u001b[0m\u001b[0m__ret\u001b[0m\u001b[1;33m)\u001b[0m\u001b[1;33m\u001b[0m\u001b[1;33m\u001b[0m\u001b[0m\n\u001b[0;32m   2685\u001b[0m     \u001b[1;32mreturn\u001b[0m \u001b[0m__ret\u001b[0m\u001b[1;33m\u001b[0m\u001b[1;33m\u001b[0m\u001b[0m\n",
      "\u001b[1;32m~\\Anaconda3\\lib\\site-packages\\matplotlib\\__init__.py\u001b[0m in \u001b[0;36minner\u001b[1;34m(ax, data, *args, **kwargs)\u001b[0m\n\u001b[0;32m   1599\u001b[0m     \u001b[1;32mdef\u001b[0m \u001b[0minner\u001b[0m\u001b[1;33m(\u001b[0m\u001b[0max\u001b[0m\u001b[1;33m,\u001b[0m \u001b[1;33m*\u001b[0m\u001b[0margs\u001b[0m\u001b[1;33m,\u001b[0m \u001b[0mdata\u001b[0m\u001b[1;33m=\u001b[0m\u001b[1;32mNone\u001b[0m\u001b[1;33m,\u001b[0m \u001b[1;33m**\u001b[0m\u001b[0mkwargs\u001b[0m\u001b[1;33m)\u001b[0m\u001b[1;33m:\u001b[0m\u001b[1;33m\u001b[0m\u001b[1;33m\u001b[0m\u001b[0m\n\u001b[0;32m   1600\u001b[0m         \u001b[1;32mif\u001b[0m \u001b[0mdata\u001b[0m \u001b[1;32mis\u001b[0m \u001b[1;32mNone\u001b[0m\u001b[1;33m:\u001b[0m\u001b[1;33m\u001b[0m\u001b[1;33m\u001b[0m\u001b[0m\n\u001b[1;32m-> 1601\u001b[1;33m             \u001b[1;32mreturn\u001b[0m \u001b[0mfunc\u001b[0m\u001b[1;33m(\u001b[0m\u001b[0max\u001b[0m\u001b[1;33m,\u001b[0m \u001b[1;33m*\u001b[0m\u001b[0mmap\u001b[0m\u001b[1;33m(\u001b[0m\u001b[0msanitize_sequence\u001b[0m\u001b[1;33m,\u001b[0m \u001b[0margs\u001b[0m\u001b[1;33m)\u001b[0m\u001b[1;33m,\u001b[0m \u001b[1;33m**\u001b[0m\u001b[0mkwargs\u001b[0m\u001b[1;33m)\u001b[0m\u001b[1;33m\u001b[0m\u001b[1;33m\u001b[0m\u001b[0m\n\u001b[0m\u001b[0;32m   1602\u001b[0m \u001b[1;33m\u001b[0m\u001b[0m\n\u001b[0;32m   1603\u001b[0m         \u001b[0mbound\u001b[0m \u001b[1;33m=\u001b[0m \u001b[0mnew_sig\u001b[0m\u001b[1;33m.\u001b[0m\u001b[0mbind\u001b[0m\u001b[1;33m(\u001b[0m\u001b[0max\u001b[0m\u001b[1;33m,\u001b[0m \u001b[1;33m*\u001b[0m\u001b[0margs\u001b[0m\u001b[1;33m,\u001b[0m \u001b[1;33m**\u001b[0m\u001b[0mkwargs\u001b[0m\u001b[1;33m)\u001b[0m\u001b[1;33m\u001b[0m\u001b[1;33m\u001b[0m\u001b[0m\n",
      "\u001b[1;32m~\\Anaconda3\\lib\\site-packages\\matplotlib\\cbook\\deprecation.py\u001b[0m in \u001b[0;36mwrapper\u001b[1;34m(*args, **kwargs)\u001b[0m\n\u001b[0;32m    367\u001b[0m                 \u001b[1;34mf\"%(removal)s.  If any parameter follows {name!r}, they \"\u001b[0m\u001b[1;33m\u001b[0m\u001b[1;33m\u001b[0m\u001b[0m\n\u001b[0;32m    368\u001b[0m                 f\"should be pass as keyword, not positionally.\")\n\u001b[1;32m--> 369\u001b[1;33m         \u001b[1;32mreturn\u001b[0m \u001b[0mfunc\u001b[0m\u001b[1;33m(\u001b[0m\u001b[1;33m*\u001b[0m\u001b[0margs\u001b[0m\u001b[1;33m,\u001b[0m \u001b[1;33m**\u001b[0m\u001b[0mkwargs\u001b[0m\u001b[1;33m)\u001b[0m\u001b[1;33m\u001b[0m\u001b[1;33m\u001b[0m\u001b[0m\n\u001b[0m\u001b[0;32m    370\u001b[0m \u001b[1;33m\u001b[0m\u001b[0m\n\u001b[0;32m    371\u001b[0m     \u001b[1;32mreturn\u001b[0m \u001b[0mwrapper\u001b[0m\u001b[1;33m\u001b[0m\u001b[1;33m\u001b[0m\u001b[0m\n",
      "\u001b[1;32m~\\Anaconda3\\lib\\site-packages\\matplotlib\\cbook\\deprecation.py\u001b[0m in \u001b[0;36mwrapper\u001b[1;34m(*args, **kwargs)\u001b[0m\n\u001b[0;32m    367\u001b[0m                 \u001b[1;34mf\"%(removal)s.  If any parameter follows {name!r}, they \"\u001b[0m\u001b[1;33m\u001b[0m\u001b[1;33m\u001b[0m\u001b[0m\n\u001b[0;32m    368\u001b[0m                 f\"should be pass as keyword, not positionally.\")\n\u001b[1;32m--> 369\u001b[1;33m         \u001b[1;32mreturn\u001b[0m \u001b[0mfunc\u001b[0m\u001b[1;33m(\u001b[0m\u001b[1;33m*\u001b[0m\u001b[0margs\u001b[0m\u001b[1;33m,\u001b[0m \u001b[1;33m**\u001b[0m\u001b[0mkwargs\u001b[0m\u001b[1;33m)\u001b[0m\u001b[1;33m\u001b[0m\u001b[1;33m\u001b[0m\u001b[0m\n\u001b[0m\u001b[0;32m    370\u001b[0m \u001b[1;33m\u001b[0m\u001b[0m\n\u001b[0;32m    371\u001b[0m     \u001b[1;32mreturn\u001b[0m \u001b[0mwrapper\u001b[0m\u001b[1;33m\u001b[0m\u001b[1;33m\u001b[0m\u001b[0m\n",
      "\u001b[1;32m~\\Anaconda3\\lib\\site-packages\\matplotlib\\axes\\_axes.py\u001b[0m in \u001b[0;36mimshow\u001b[1;34m(self, X, cmap, norm, aspect, interpolation, alpha, vmin, vmax, origin, extent, shape, filternorm, filterrad, imlim, resample, url, **kwargs)\u001b[0m\n\u001b[0;32m   5669\u001b[0m                               resample=resample, **kwargs)\n\u001b[0;32m   5670\u001b[0m \u001b[1;33m\u001b[0m\u001b[0m\n\u001b[1;32m-> 5671\u001b[1;33m         \u001b[0mim\u001b[0m\u001b[1;33m.\u001b[0m\u001b[0mset_data\u001b[0m\u001b[1;33m(\u001b[0m\u001b[0mX\u001b[0m\u001b[1;33m)\u001b[0m\u001b[1;33m\u001b[0m\u001b[1;33m\u001b[0m\u001b[0m\n\u001b[0m\u001b[0;32m   5672\u001b[0m         \u001b[0mim\u001b[0m\u001b[1;33m.\u001b[0m\u001b[0mset_alpha\u001b[0m\u001b[1;33m(\u001b[0m\u001b[0malpha\u001b[0m\u001b[1;33m)\u001b[0m\u001b[1;33m\u001b[0m\u001b[1;33m\u001b[0m\u001b[0m\n\u001b[0;32m   5673\u001b[0m         \u001b[1;32mif\u001b[0m \u001b[0mim\u001b[0m\u001b[1;33m.\u001b[0m\u001b[0mget_clip_path\u001b[0m\u001b[1;33m(\u001b[0m\u001b[1;33m)\u001b[0m \u001b[1;32mis\u001b[0m \u001b[1;32mNone\u001b[0m\u001b[1;33m:\u001b[0m\u001b[1;33m\u001b[0m\u001b[1;33m\u001b[0m\u001b[0m\n",
      "\u001b[1;32m~\\Anaconda3\\lib\\site-packages\\matplotlib\\image.py\u001b[0m in \u001b[0;36mset_data\u001b[1;34m(self, A)\u001b[0m\n\u001b[0;32m    688\u001b[0m                 or self._A.ndim == 3 and self._A.shape[-1] in [3, 4]):\n\u001b[0;32m    689\u001b[0m             raise TypeError(\"Invalid shape {} for image data\"\n\u001b[1;32m--> 690\u001b[1;33m                             .format(self._A.shape))\n\u001b[0m\u001b[0;32m    691\u001b[0m \u001b[1;33m\u001b[0m\u001b[0m\n\u001b[0;32m    692\u001b[0m         \u001b[1;32mif\u001b[0m \u001b[0mself\u001b[0m\u001b[1;33m.\u001b[0m\u001b[0m_A\u001b[0m\u001b[1;33m.\u001b[0m\u001b[0mndim\u001b[0m \u001b[1;33m==\u001b[0m \u001b[1;36m3\u001b[0m\u001b[1;33m:\u001b[0m\u001b[1;33m\u001b[0m\u001b[1;33m\u001b[0m\u001b[0m\n",
      "\u001b[1;31mTypeError\u001b[0m: Invalid shape (3, 2, 2, 3, 2, 2, 2, 2) for image data"
     ]
    },
    {
     "data": {
      "image/png": "[encoded data removed]",
      "text/plain": [
       "<Figure size 432x288 with 1 Axes>"
      ]
     },
     "metadata": {
      "needs_background": "light"
     },
     "output_type": "display_data"
    }
   ],
   "source": [
    "plt.imshow(qgo.any_metric_manifolds.utils._transform_metric(metric)[0])"
   ]
  },
  {
   "cell_type": "code",
   "execution_count": 26,
   "metadata": {},
   "outputs": [
    {
     "data": {
      "text/plain": [
       "<tf.Tensor: shape=(2, 2), dtype=float64, numpy=\n",
       "array([[ 8.54668615,  6.13453742],\n",
       "       [-2.4482089 , -0.97421928]])>"
      ]
     },
     "execution_count": 26,
     "metadata": {},
     "output_type": "execute_result"
    }
   ],
   "source": [
    "metric[0, 0, 0, :, 1, 1, :]"
   ]
  },
  {
   "cell_type": "code",
   "execution_count": 27,
   "metadata": {},
   "outputs": [
    {
     "data": {
      "text/plain": [
       "<tf.Tensor: shape=(2, 2), dtype=float64, numpy=\n",
       "array([[-0.97421928,  2.4482089 ],\n",
       "       [-6.13453742,  8.54668615]])>"
      ]
     },
     "execution_count": 27,
     "metadata": {},
     "output_type": "execute_result"
    }
   ],
   "source": [
    "qgo.any_metric_manifolds.utils._transform_metric(metric)[0, 0, 0, :, 1, 1, :]"
   ]
  },
  {
   "cell_type": "code",
   "execution_count": 8,
   "metadata": {},
   "outputs": [
    {
     "data": {
      "text/plain": [
       "<tf.Tensor: shape=(2, 3, 2, 2, 3, 2, 2), dtype=float64, numpy=\n",
       "array([[[[[[[ 10.37310802,   4.08489919],\n",
       "            [ -2.37281174,   1.69460795]],\n",
       "\n",
       "           [[  4.31004356,   3.01134651],\n",
       "            [  2.34102683,  -5.21602778]],\n",
       "\n",
       "           [[  0.12663742,   0.08574887],\n",
       "            [ -1.92121611,  -4.22665773]]],\n",
       "\n",
       "\n",
       "          [[[  4.08489919,   8.26350656],\n",
       "            [  1.10816205,   1.40999296]],\n",
       "\n",
       "           [[ -1.67825168,  -1.03646057],\n",
       "            [  5.67757504,  -1.37505741]],\n",
       "\n",
       "           [[  4.43423252,   3.03972085],\n",
       "            [ -1.42434242,  -4.1924162 ]]]],\n",
       "\n",
       "\n",
       "\n",
       "         [[[[ -2.37281174,   1.10816205],\n",
       "            [ 14.78881984,   1.28890457]],\n",
       "\n",
       "           [[-10.41720631,   0.17287885],\n",
       "            [  2.82510312,   1.83406901]],\n",
       "\n",
       "           [[  0.50114894,   0.28095544],\n",
       "            [ -0.99846702,   4.5506362 ]]],\n",
       "\n",
       "\n",
       "          [[[  1.69460795,   1.40999296],\n",
       "            [  1.28890457,  13.240699  ]],\n",
       "\n",
       "           [[  1.03298192,  -6.31851876],\n",
       "            [ -0.93980201,   3.91508959]],\n",
       "\n",
       "           [[  1.30875293,   3.94567511],\n",
       "            [  7.40840951,  -3.70764248]]]]],\n",
       "\n",
       "\n",
       "\n",
       "\n",
       "        [[[[[  4.31004356,  -1.67825168],\n",
       "            [-10.41720631,   1.03298192]],\n",
       "\n",
       "           [[ 16.83648966,   1.42594642],\n",
       "            [ -5.72858042,  -0.62422629]],\n",
       "\n",
       "           [[  2.9112967 ,  -2.33655316],\n",
       "            [  0.15460121,  -0.6911924 ]]],\n",
       "\n",
       "\n",
       "          [[[  3.01134651,  -1.03646057],\n",
       "            [  0.17287885,  -6.31851876]],\n",
       "\n",
       "           [[  1.42594642,  11.60556978],\n",
       "            [ -1.21680353,  -3.33042641]],\n",
       "\n",
       "           [[ -5.01080594,  -8.7249068 ],\n",
       "            [ -3.4443543 ,   2.28547284]]]],\n",
       "\n",
       "\n",
       "\n",
       "         [[[[  2.34102683,   5.67757504],\n",
       "            [  2.82510312,  -0.93980201]],\n",
       "\n",
       "           [[ -5.72858042,  -1.21680353],\n",
       "            [  9.25186131,   1.98189676]],\n",
       "\n",
       "           [[  3.01900944,   5.14623202],\n",
       "            [ -5.44789565,  -6.09323048]]],\n",
       "\n",
       "\n",
       "          [[[ -5.21602778,  -1.37505741],\n",
       "            [  1.83406901,   3.91508959]],\n",
       "\n",
       "           [[ -0.62422629,  -3.33042641],\n",
       "            [  1.98189676,  15.73649944]],\n",
       "\n",
       "           [[  1.39536196,   5.03050992],\n",
       "            [ -3.57373108,  -4.94441372]]]]],\n",
       "\n",
       "\n",
       "\n",
       "\n",
       "        [[[[[  0.12663742,   4.43423252],\n",
       "            [  0.50114894,   1.30875293]],\n",
       "\n",
       "           [[  2.9112967 ,  -5.01080594],\n",
       "            [  3.01900944,   1.39536196]],\n",
       "\n",
       "           [[  9.90982036,   3.77448168],\n",
       "            [ -3.02055644,  -3.61516922]]],\n",
       "\n",
       "\n",
       "          [[[  0.08574887,   3.03972085],\n",
       "            [  0.28095544,   3.94567511]],\n",
       "\n",
       "           [[ -2.33655316,  -8.7249068 ],\n",
       "            [  5.14623202,   5.03050992]],\n",
       "\n",
       "           [[  3.77448168,  13.40387344],\n",
       "            [ -0.60678785,  -5.78303867]]]],\n",
       "\n",
       "\n",
       "\n",
       "         [[[[ -1.92121611,  -1.42434242],\n",
       "            [ -0.99846702,   7.40840951]],\n",
       "\n",
       "           [[  0.15460121,  -3.4443543 ],\n",
       "            [ -5.44789565,  -3.57373108]],\n",
       "\n",
       "           [[ -3.02055644,  -0.60678785],\n",
       "            [ 13.53956497,   1.32802581]]],\n",
       "\n",
       "\n",
       "          [[[ -4.22665773,  -4.1924162 ],\n",
       "            [  4.5506362 ,  -3.70764248]],\n",
       "\n",
       "           [[ -0.6911924 ,   2.28547284],\n",
       "            [ -6.09323048,  -4.94441372]],\n",
       "\n",
       "           [[ -3.61516922,  -5.78303867],\n",
       "            [  1.32802581,  18.6602465 ]]]]]],\n",
       "\n",
       "\n",
       "\n",
       "\n",
       "\n",
       "       [[[[[[ 16.16866014,   1.58379933],\n",
       "            [ -2.18017222,  -0.27677263]],\n",
       "\n",
       "           [[ -4.03638963,   2.50482153],\n",
       "            [  1.9724589 ,  -3.89675751]],\n",
       "\n",
       "           [[ -3.88272763,  -2.31724594],\n",
       "            [ -2.39719355,   0.93326388]]],\n",
       "\n",
       "\n",
       "          [[[  1.58379933,   8.44650768],\n",
       "            [  0.24689657,   1.54290104]],\n",
       "\n",
       "           [[ -4.51137451,  -7.52734944],\n",
       "            [  2.86758593,  -2.69261875]],\n",
       "\n",
       "           [[ -0.45185851,  -2.75266683],\n",
       "            [  2.79643303,  -3.8882842 ]]]],\n",
       "\n",
       "\n",
       "\n",
       "         [[[[ -2.18017222,   0.24689657],\n",
       "            [  5.8303221 ,  -2.07905685]],\n",
       "\n",
       "           [[  2.27417254,  -0.94008402],\n",
       "            [ -2.57020309,  -0.93329816]],\n",
       "\n",
       "           [[ -0.36803266,  -0.62225554],\n",
       "            [ -1.99039962,   2.85895415]]],\n",
       "\n",
       "\n",
       "          [[[ -0.27677263,   1.54290104],\n",
       "            [ -2.07905685,  14.17589605]],\n",
       "\n",
       "           [[ -1.72827855,  -2.75409037],\n",
       "            [ -0.53152425,   1.43042244]],\n",
       "\n",
       "           [[ -8.48646705,  -1.67555472],\n",
       "            [ -0.28298979,  -0.63977211]]]]],\n",
       "\n",
       "\n",
       "\n",
       "\n",
       "        [[[[[ -4.03638963,  -4.51137451],\n",
       "            [  2.27417254,  -1.72827855]],\n",
       "\n",
       "           [[  8.19713647,   1.61148785],\n",
       "            [ -4.66034427,   3.40499626]],\n",
       "\n",
       "           [[ -0.19215115,   1.09984811],\n",
       "            [ -3.99804355,   2.74586741]]],\n",
       "\n",
       "\n",
       "          [[[  2.50482153,  -7.52734944],\n",
       "            [ -0.94008402,  -2.75409037]],\n",
       "\n",
       "           [[  1.61148785,  17.51082937],\n",
       "            [ -6.86237874,   1.22354998]],\n",
       "\n",
       "           [[ -1.55540703,   4.84463843],\n",
       "            [ -5.54440104,   3.70834769]]]],\n",
       "\n",
       "\n",
       "\n",
       "         [[[[  1.9724589 ,   2.86758593],\n",
       "            [ -2.57020309,  -0.53152425]],\n",
       "\n",
       "           [[ -4.66034427,  -6.86237874],\n",
       "            [ 13.8339947 ,  -1.91603664]],\n",
       "\n",
       "           [[  3.76647672,  -3.59453569],\n",
       "            [  3.1713236 ,  -1.40124849]]],\n",
       "\n",
       "\n",
       "          [[[ -3.89675751,  -2.69261875],\n",
       "            [ -0.93329816,   1.43042244]],\n",
       "\n",
       "           [[  3.40499626,   1.22354998],\n",
       "            [ -1.91603664,   5.47225608]],\n",
       "\n",
       "           [[  1.75319757,   1.93487368],\n",
       "            [ -0.59685436,  -3.14793899]]]]],\n",
       "\n",
       "\n",
       "\n",
       "\n",
       "        [[[[[ -3.88272763,  -0.45185851],\n",
       "            [ -0.36803266,  -8.48646705]],\n",
       "\n",
       "           [[ -0.19215115,  -1.55540703],\n",
       "            [  3.76647672,   1.75319757]],\n",
       "\n",
       "           [[ 13.29500618,   2.95878491],\n",
       "            [  6.38729726,  -3.12595214]]],\n",
       "\n",
       "\n",
       "          [[[ -2.31724594,  -2.75266683],\n",
       "            [ -0.62225554,  -1.67555472]],\n",
       "\n",
       "           [[  1.09984811,   4.84463843],\n",
       "            [ -3.59453569,   1.93487368]],\n",
       "\n",
       "           [[  2.95878491,   9.32601016],\n",
       "            [ -2.05687454,  -0.68107308]]]],\n",
       "\n",
       "\n",
       "\n",
       "         [[[[ -2.39719355,   2.79643303],\n",
       "            [ -1.99039962,  -0.28298979]],\n",
       "\n",
       "           [[ -3.99804355,  -5.54440104],\n",
       "            [  3.1713236 ,  -0.59685436]],\n",
       "\n",
       "           [[  6.38729726,  -2.05687454],\n",
       "            [ 11.08723599,  -2.37718772]]],\n",
       "\n",
       "\n",
       "          [[[  0.93326388,  -3.8882842 ],\n",
       "            [  2.85895415,  -0.63977211]],\n",
       "\n",
       "           [[  2.74586741,   3.70834769],\n",
       "            [ -1.40124849,  -3.14793899]],\n",
       "\n",
       "           [[ -3.12595214,  -0.68107308],\n",
       "            [ -2.37718772,   9.06432676]]]]]]])>"
      ]
     },
     "execution_count": 8,
     "metadata": {},
     "output_type": "execute_result"
    }
   ],
   "source": [
    "metric"
   ]
  },
  {
   "cell_type": "code",
   "execution_count": null,
   "metadata": {},
   "outputs": [],
   "source": []
  }
 ],
 "metadata": {
  "kernelspec": {
   "display_name": "Python 3",
   "language": "python",
   "name": "python3"
  },
  "language_info": {
   "codemirror_mode": {
    "name": "ipython",
    "version": 3
   },
   "file_extension": ".py",
   "mimetype": "text/x-python",
   "name": "python",
   "nbconvert_exporter": "python",
   "pygments_lexer": "ipython3",
   "version": "3.7.4"
  }
 },
 "nbformat": 4,
 "nbformat_minor": 2
}
