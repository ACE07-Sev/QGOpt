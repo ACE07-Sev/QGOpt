{
 "cells": [
  {
   "cell_type": "code",
   "execution_count": 9,
   "metadata": {},
   "outputs": [],
   "source": [
    "import tensorflow as tf\n",
    "import QGOpt as qgo\n",
    "import matplotlib.pyplot as plt"
   ]
  },
  {
   "cell_type": "code",
   "execution_count": 10,
   "metadata": {},
   "outputs": [
    {
     "name": "stdout",
     "output_type": "stream",
     "text": [
      "tf.Tensor(\n",
      "[[[ 0.00000000e+00+2.77555756e-17j  2.77555756e-17+2.77555756e-17j]\n",
      "  [ 0.00000000e+00+2.77555756e-17j -4.16333634e-17+0.00000000e+00j]\n",
      "  [-6.93889390e-18-5.55111512e-17j  0.00000000e+00+0.00000000e+00j]]\n",
      "\n",
      " [[-2.77555756e-17+0.00000000e+00j  0.00000000e+00+2.77555756e-17j]\n",
      "  [-2.77555756e-17-4.16333634e-17j  0.00000000e+00+5.55111512e-17j]\n",
      "  [-5.55111512e-17+0.00000000e+00j -1.11022302e-16+2.77555756e-17j]]], shape=(2, 3, 2), dtype=complex128)\n",
      "tf.Tensor([5.90792567e-18+0.74162223j 6.41542469e-16-3.95521883j], shape=(2,), dtype=complex128)\n",
      "tf.Tensor(\n",
      "[[[-1.04272406e-16-7.90748473e-17j -8.70562565e-17-1.69679714e-16j]\n",
      "  [ 1.04195567e-16-1.26327159e-16j  3.01742294e-16+8.02293353e-17j]\n",
      "  [ 8.54793772e-18-4.38103241e-17j -6.88627803e-17-1.98952399e-16j]]\n",
      "\n",
      " [[ 2.89500295e-18+1.01678282e-16j -3.31854466e-17+1.55372239e-17j]\n",
      "  [ 1.15945617e-16-6.63180146e-17j  9.48557619e-18+1.16298052e-16j]\n",
      "  [ 2.64351281e-16+1.50002351e-16j -7.38817158e-17+2.26025182e-16j]]], shape=(2, 3, 2), dtype=complex128)\n"
     ]
    }
   ],
   "source": [
    "dtype_real = tf.float64\n",
    "dtype_complex = tf.complex128\n",
    "\n",
    "def adj(A):\n",
    "    \n",
    "    return tf.linalg.matrix_transpose(tf.math.conj(A))\n",
    "\n",
    "# random isometric matrix\n",
    "q = tf.random.normal((2, 3, 2, 2), dtype=dtype_real)\n",
    "q = qgo.manifolds.real_to_complex(q)\n",
    "q, _ = tf.linalg.qr(q)\n",
    "\n",
    "# random gradient\n",
    "grad = tf.random.normal((2, 3, 2, 2), dtype=dtype_real)\n",
    "grad = qgo.manifolds.real_to_complex(grad)\n",
    "\n",
    "# random metric\n",
    "L = tf.random.normal((2, 3, 2, 6, 2), dtype=dtype_real)\n",
    "L = qgo.manifolds.real_to_complex(L)\n",
    "metric = tf.einsum('qijn,qkln->qijkl', tf.math.conj(L), L)\n",
    "\n",
    "# random tangent vector\n",
    "v = tf.random.normal((2, 3, 2, 2), dtype=dtype_real)\n",
    "v = qgo.manifolds.real_to_complex(v)\n",
    "\n",
    "v = v - 0.5 * q @ (adj(q) @ v + adj(v) @ q)\n",
    "\n",
    "v1 = tf.random.normal((2, 3, 2, 2), dtype=dtype_real)\n",
    "v1 = qgo.manifolds.real_to_complex(v1)\n",
    "\n",
    "v1 = 0.5 * q @ (adj(q) @ v1 + adj(v1) @ q)\n",
    "print(v1 - 0.5 * q @ (adj(q) @ v1 + adj(v1) @ q))\n",
    "print(tf.einsum('qij,qij->q', tf.math.conj(v), v1))\n",
    "print(0.5 * q @ (adj(q) @ v + adj(v) @ q))"
   ]
  },
  {
   "cell_type": "markdown",
   "metadata": {},
   "source": [
    "### Manifold and Riemannian grad"
   ]
  },
  {
   "cell_type": "code",
   "execution_count": 11,
   "metadata": {
    "scrolled": true
   },
   "outputs": [],
   "source": [
    "manifold = qgo.any_metric_manifolds.StiefelManifold(retraction='cayley')\n",
    "rgrad = manifold.egrad_to_rgrad(metric, q, grad)"
   ]
  },
  {
   "cell_type": "markdown",
   "metadata": {},
   "source": [
    "### Projection on the nromal space"
   ]
  },
  {
   "cell_type": "code",
   "execution_count": 12,
   "metadata": {},
   "outputs": [
    {
     "data": {
      "text/plain": [
       "<tf.Tensor: shape=(), dtype=complex128, numpy=(1.5582066677155852e-14+3.5471476669266133e-32j)>"
      ]
     },
     "execution_count": 12,
     "metadata": {},
     "output_type": "execute_result"
    }
   ],
   "source": [
    "tf.linalg.norm(q @ (adj(q) @ rgrad + adj(rgrad) @ q))"
   ]
  },
  {
   "cell_type": "markdown",
   "metadata": {},
   "source": [
    "### Test of the direction"
   ]
  },
  {
   "cell_type": "code",
   "execution_count": 13,
   "metadata": {},
   "outputs": [
    {
     "name": "stdout",
     "output_type": "stream",
     "text": [
      "tf.Tensor(\n",
      "[[[ 3.66433270e-14+1.47423316e-14j -7.87307912e-15-3.38249916e-16j]\n",
      "  [ 1.41772382e-15-2.54320724e-14j  7.69079621e-15-3.00107965e-15j]\n",
      "  [ 3.36043131e-15-1.80155522e-14j  4.54643441e-15+7.91787906e-15j]]\n",
      "\n",
      " [[-1.29771210e-14+9.51891370e-15j -1.86482398e-14-3.09303585e-14j]\n",
      "  [-2.18111138e-14+5.26227487e-15j -2.11085109e-14+5.85933851e-14j]\n",
      "  [-1.92511665e-15+1.09773867e-14j  4.70384944e-14+5.33510616e-15j]]], shape=(2, 3, 2), dtype=complex128)\n"
     ]
    },
    {
     "data": {
      "text/plain": [
       "<tf.Tensor: shape=(2,), dtype=complex128, numpy=array([1.06581410e-14+0.20645022j, 1.07469589e-13-0.33598092j])>"
      ]
     },
     "execution_count": 13,
     "metadata": {},
     "output_type": "execute_result"
    }
   ],
   "source": [
    "vec = tf.einsum('qijkl,qkl->qij', metric, rgrad) - grad\n",
    "vec1 = 0.5 * q @ (adj(q) @ vec + adj(vec) @ q)\n",
    "\n",
    "print(0.5 * q @ (adj(q) @ vec - adj(vec) @ q) +\\\n",
    "      (tf.eye(3, dtype=dtype_complex) - q @ adj(q)) @ vec)\n",
    "\n",
    "tf.reduce_sum(tf.math.conj(v) * vec, axis=(1, 2))"
   ]
  },
  {
   "cell_type": "code",
   "execution_count": 8,
   "metadata": {},
   "outputs": [
    {
     "name": "stdout",
     "output_type": "stream",
     "text": [
      "tf.Tensor(\n",
      "[[[-1.12474293-1.96475061j  0.41100072+0.28132027j]\n",
      "  [ 2.33770681-1.40922325j  0.0385208 -0.57743326j]\n",
      "  [-0.28712694-0.46864989j  1.0986696 +0.47547931j]]\n",
      "\n",
      " [[-0.02644441-0.73629405j -1.86688742-1.24069862j]\n",
      "  [-0.64337275+0.24869449j -0.09699218+0.58586118j]\n",
      "  [ 0.70149782-0.07009199j  0.65292322-0.80958282j]]], shape=(2, 3, 2), dtype=complex128)\n",
      "tf.Tensor(\n",
      "[[[-1.12474293-1.96475061j  0.41100072+0.28132027j]\n",
      "  [ 2.33770681-1.40922325j  0.0385208 -0.57743326j]\n",
      "  [-0.28712694-0.46864989j  1.0986696 +0.47547931j]]\n",
      "\n",
      " [[-0.02644441-0.73629405j -1.86688742-1.24069862j]\n",
      "  [-0.64337275+0.24869449j -0.09699218+0.58586118j]\n",
      "  [ 0.70149782-0.07009199j  0.65292322-0.80958282j]]], shape=(2, 3, 2), dtype=complex128)\n"
     ]
    }
   ],
   "source": [
    "print(0.5 * q @ (adj(q) @ v - adj(v) @ q) +\\\n",
    "      (tf.eye(3, dtype=dtype_complex) - q @ adj(q)) @ v)\n",
    "print(v)"
   ]
  },
  {
   "cell_type": "code",
   "execution_count": 8,
   "metadata": {},
   "outputs": [
    {
     "data": {
      "text/plain": [
       "<tf.Tensor: shape=(2, 3, 2), dtype=complex128, numpy=\n",
       "array([[[ 0.52688868+0.07712976j, -0.63055173+1.08787398j],\n",
       "        [-1.32020732+0.15438808j,  0.38193662-2.62455906j],\n",
       "        [ 0.2190537 +0.31066373j, -0.43265397+0.48473429j]],\n",
       "\n",
       "       [[ 0.00780034+0.17175017j,  3.45913517+0.73193002j],\n",
       "        [ 3.14132692-1.41358317j,  0.67045419-0.5225142j ],\n",
       "        [ 1.58853854+0.5002948j ,  0.30822823-2.7322754j ]]])>"
      ]
     },
     "execution_count": 8,
     "metadata": {},
     "output_type": "execute_result"
    }
   ],
   "source": [
    "vec"
   ]
  },
  {
   "cell_type": "code",
   "execution_count": 5,
   "metadata": {},
   "outputs": [
    {
     "data": {
      "text/plain": [
       "<tf.Tensor: shape=(2, 3, 2), dtype=complex128, numpy=\n",
       "array([[[-0.04365868-0.6116606j , -0.37897955-0.59950323j],\n",
       "        [ 0.60752004+0.14165557j, -0.29390455-0.1257153j ],\n",
       "        [ 0.48254695+0.04434841j, -0.42942642+0.45867103j]],\n",
       "\n",
       "       [[-0.56297839+0.77139332j,  0.10656735+0.07070004j],\n",
       "        [-0.10613196+0.12112974j, -0.91556667+0.01866676j],\n",
       "        [-0.00603807-0.24906787j,  0.06165343+0.37580977j]]])>"
      ]
     },
     "execution_count": 5,
     "metadata": {},
     "output_type": "execute_result"
    }
   ],
   "source": [
    "qgo.manifolds.stiefel_any_metric._to_complex_matrix(qgo.manifolds.stiefel_any_metric._to_real_matrix(q))"
   ]
  },
  {
   "cell_type": "code",
   "execution_count": 7,
   "metadata": {},
   "outputs": [
    {
     "data": {
      "text/plain": [
       "<tf.Tensor: shape=(24,), dtype=float64, numpy=\n",
       "array([-3.63178195e-16, -1.77232651e-16, -1.03697802e-17,  4.16161000e-18,\n",
       "        1.12646051e-16,  1.74623668e-16,  3.22575485e-16,  3.48443790e-16,\n",
       "        5.07327600e-16,  6.59644558e-16,  1.00000000e+00,  1.00000000e+00,\n",
       "        1.00000000e+00,  1.00000000e+00,  1.00000000e+00,  1.00000000e+00,\n",
       "        1.00000000e+00,  1.00000000e+00,  1.00000000e+00,  1.00000000e+00,\n",
       "        1.00000000e+00,  1.00000000e+00,  1.00000000e+00,  1.00000000e+00])>"
      ]
     },
     "execution_count": 7,
     "metadata": {},
     "output_type": "execute_result"
    }
   ],
   "source": [
    "tf.linalg.eigvalsh(rgrad[0])"
   ]
  },
  {
   "cell_type": "code",
   "execution_count": null,
   "metadata": {},
   "outputs": [],
   "source": []
  }
 ],
 "metadata": {
  "kernelspec": {
   "display_name": "Python 3",
   "language": "python",
   "name": "python3"
  },
  "language_info": {
   "codemirror_mode": {
    "name": "ipython",
    "version": 3
   },
   "file_extension": ".py",
   "mimetype": "text/x-python",
   "name": "python",
   "nbconvert_exporter": "python",
   "pygments_lexer": "ipython3",
   "version": "3.7.4"
  }
 },
 "nbformat": 4,
 "nbformat_minor": 2
}
