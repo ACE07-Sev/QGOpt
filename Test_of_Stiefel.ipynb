{
 "cells": [
  {
   "cell_type": "code",
   "execution_count": 1,
   "metadata": {},
   "outputs": [],
   "source": [
    "import tensorflow as tf\n",
    "import qriemannopt as qro\n",
    "import matplotlib.pyplot as plt"
   ]
  },
  {
   "cell_type": "code",
   "execution_count": 2,
   "metadata": {},
   "outputs": [],
   "source": [
    "Q = tf.complex(tf.random.normal((2, 50, 50)),\n",
    "              tf.random.normal((2, 50, 50)))\n",
    "Q, _ = tf.linalg.qr(Q)\n",
    "Q = Q[..., :30]\n",
    "A = tf.complex(tf.random.normal((2, 50, 30)),\n",
    "              tf.random.normal((2, 50, 30)))\n",
    "m = qro.manifold.StiefelManifold(retraction='cayley')"
   ]
  },
  {
   "cell_type": "markdown",
   "metadata": {},
   "source": [
    "### Is A tangent vector?"
   ]
  },
  {
   "cell_type": "code",
   "execution_count": 3,
   "metadata": {},
   "outputs": [
    {
     "data": {
      "text/plain": [
       "<tf.Tensor: id=83, shape=(), dtype=complex64, numpy=(2.8910287e-07+0j)>"
      ]
     },
     "execution_count": 3,
     "metadata": {},
     "output_type": "execute_result"
    }
   ],
   "source": [
    "B = tf.linalg.adjoint(Q) @ m.proj(Q, A)\n",
    "B_adj = tf.linalg.adjoint(B)\n",
    "tf.linalg.norm(B + B_adj) / (tf.linalg.norm(B) + tf.linalg.norm(B_adj))"
   ]
  },
  {
   "cell_type": "markdown",
   "metadata": {},
   "source": [
    "### Do we make projection?"
   ]
  },
  {
   "cell_type": "code",
   "execution_count": 4,
   "metadata": {},
   "outputs": [
    {
     "data": {
      "text/plain": [
       "<tf.Tensor: id=106, shape=(), dtype=complex64, numpy=(1.2634312e-07+8.4917965e-18j)>"
      ]
     },
     "execution_count": 4,
     "metadata": {},
     "output_type": "execute_result"
    }
   ],
   "source": [
    "A1 = m.proj(Q, A)\n",
    "A2 = m.proj(Q, A1)\n",
    "tf.linalg.norm(A1 - A2) / (tf.linalg.norm(A1) + tf.linalg.norm(A2))"
   ]
  },
  {
   "cell_type": "markdown",
   "metadata": {},
   "source": [
    "### Do we make retraction?"
   ]
  },
  {
   "cell_type": "code",
   "execution_count": 5,
   "metadata": {},
   "outputs": [
    {
     "data": {
      "text/plain": [
       "<tf.Tensor: id=172, shape=(), dtype=complex64, numpy=(7.9566473e-07-8.6799205e-17j)>"
      ]
     },
     "execution_count": 5,
     "metadata": {},
     "output_type": "execute_result"
    }
   ],
   "source": [
    "Q_new = m.retraction(Q, A1)\n",
    "QadjQ = tf.linalg.adjoint(Q_new) @ Q_new\n",
    "tf.linalg.norm(QadjQ - tf.eye(QadjQ.shape[-1], dtype=tf.complex64)) /\\\n",
    "(tf.linalg.norm(QadjQ) + tf.linalg.norm(tf.eye(QadjQ.shape[-1], dtype=tf.complex64)))"
   ]
  },
  {
   "cell_type": "code",
   "execution_count": null,
   "metadata": {},
   "outputs": [],
   "source": []
  }
 ],
 "metadata": {
  "kernelspec": {
   "display_name": "Python 3",
   "language": "python",
   "name": "python3"
  },
  "language_info": {
   "codemirror_mode": {
    "name": "ipython",
    "version": 3
   },
   "file_extension": ".py",
   "mimetype": "text/x-python",
   "name": "python",
   "nbconvert_exporter": "python",
   "pygments_lexer": "ipython3",
   "version": "3.7.4"
  }
 },
 "nbformat": 4,
 "nbformat_minor": 2
}
