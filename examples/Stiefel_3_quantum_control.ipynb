{
 "cells": [
  {
   "cell_type": "code",
   "execution_count": 1,
   "metadata": {},
   "outputs": [],
   "source": [
    "import tensorflow as tf\n",
    "import QGOpt as qgo\n",
    "import matplotlib.pyplot as plt\n",
    "import numpy as np\n",
    "from tqdm import tqdm"
   ]
  },
  {
   "cell_type": "markdown",
   "metadata": {},
   "source": [
    "#### Here we define auxiliary functions."
   ]
  },
  {
   "cell_type": "code",
   "execution_count": 2,
   "metadata": {},
   "outputs": [],
   "source": [
    "def kron(A, B):\n",
    "    \"\"\"\n",
    "    Returns kronecker product of two square matrices.\n",
    "    Args:\n",
    "        A: complex valued tf tensor of shape (dim1, dim1)\n",
    "        B: complex valued tf tensor of shape (dim2, dim2)\n",
    "    Returns:\n",
    "        complex valued tf tensor of shape (dim1 * dim2, dim1 * dim2),\n",
    "        kronecker product of matrices\n",
    "    \"\"\"\n",
    "    \n",
    "    dim1 = A.shape[-1]\n",
    "    dim2 = B.shape[-1]\n",
    "    AB = tf.transpose(tf.tensordot(A, B, axes=0), (0, 2, 1, 3))\n",
    "    return tf.reshape(AB, (dim1 * dim2, dim1 * dim2))\n",
    "\n",
    "\n",
    "@tf.function\n",
    "def unitary_layer(psi, U1, U2):\n",
    "    \"\"\"\n",
    "    Returns psi vector after layer of unitary transformations,\n",
    "    ordered in checkerboard order.\n",
    "    Args:\n",
    "        psi: complex valued tf tensor of shape (2 ** n,),\n",
    "        where n -- number of qubits\n",
    "        U1: list of complex valued tf tensors of shape\n",
    "        ((n - 1) / 2, 4, 4)\n",
    "        U2: list of complex valued tf tensors of shape\n",
    "        ((n - 1) / 2, 4, 4)\n",
    "    Returns:\n",
    "        complex valued tf tensor of shape (2 ** n,)\n",
    "    \"\"\"\n",
    "    \n",
    "    layer1 = tf.eye(2, dtype=tf.complex128)\n",
    "    layer2 = tf.eye(2, dtype=tf.complex128)\n",
    "    \n",
    "    for i in range(U1.shape[0]):\n",
    "        layer1 = kron(layer1, U1[i])\n",
    "        \n",
    "    for i in range(U2.shape[0] - 1, -1, -1):\n",
    "        layer2 = kron(U2[i], layer2)\n",
    "        \n",
    "    return (layer2 @ (layer1 @ psi[:, tf.newaxis]))[:, 0]\n",
    "\n",
    "\n",
    "def u_gen(n, dim):\n",
    "    \"\"\"\n",
    "    Returns set of random unitary matrices.\n",
    "    Args:\n",
    "        n: int number, number of unitary matrices\n",
    "        dim: int number, dimension of unitary \n",
    "    Returns:\n",
    "        complex valued tf tensor of shape (n, dim, dim)\n",
    "    \"\"\"\n",
    "    \n",
    "    U = qgo.manifolds.real_to_complex(tf.random.normal((n, dim,  dim, 2), dtype=tf.float64))\n",
    "    U, _ = tf.linalg.qr(U)\n",
    "    return U\n",
    "\n",
    "\n",
    "def entropy(psi):\n",
    "    \"\"\"\n",
    "    Returns Renyi entangled entropy between\n",
    "    the left part (5 spins) anf the right\n",
    "    part (6 spins).\n",
    "    Args:\n",
    "        psi: complex valued tf.tensor of shape (2 ** 11,),\n",
    "        psi vector\n",
    "    Returns:\n",
    "        tf scalar, Renyi entropy\n",
    "    \"\"\"\n",
    "    \n",
    "    rho = tf.tensordot(psi, tf.math.conj(psi), axes=0)\n",
    "    rho = tf.reshape(rho, (2 ** 5, 2 ** 6, 2 ** 5, 2 ** 6))\n",
    "    rho = tf.transpose(rho, (0, 2, 1, 3))\n",
    "    rho = tf.linalg.trace(rho)\n",
    "    return -tf.math.log(tf.linalg.trace(rho @ rho))"
   ]
  },
  {
   "cell_type": "markdown",
   "metadata": {},
   "source": [
    "#### Here one initializes a number of layers unitary layers, initial unitary matrices, and the initial state of a chain."
   ]
  },
  {
   "cell_type": "code",
   "execution_count": 3,
   "metadata": {},
   "outputs": [],
   "source": [
    "#===========================================#\n",
    "num_of_layers = 3 # number of unitary layers\n",
    "#===========================================#\n",
    "\n",
    "# initial unitary matrices\n",
    "U1 = [qgo.manifolds.complex_to_real(u_gen(5, 4)) for i in range(num_of_layers)]\n",
    "U2 = [qgo.manifolds.complex_to_real(u_gen(5, 4)) for i in range(num_of_layers)]\n",
    "\n",
    "# initial state\n",
    "psi = np.zeros((2 ** 11, 2), dtype=np.float64)\n",
    "psi[0, 0] = 1\n",
    "psi = qgo.manifolds.real_to_complex(tf.constant(psi))"
   ]
  },
  {
   "cell_type": "markdown",
   "metadata": {},
   "source": [
    "#### Optimization loop maximizes entangled entropy of output state."
   ]
  },
  {
   "cell_type": "code",
   "execution_count": 5,
   "metadata": {},
   "outputs": [
    {
     "name": "stderr",
     "output_type": "stream",
     "text": [
      "100%|██████████████████████████████████████████████████████████████████████████████| 1000/1000 [01:02<00:00, 15.94it/s]\n"
     ]
    }
   ],
   "source": [
    "#===================================#\n",
    "iters = 1000  # number of iterations\n",
    "lr = 0.1  # learning rate\n",
    "#===================================#\n",
    "\n",
    "# optimizer\n",
    "m = qgo.manifolds.StiefelManifold()\n",
    "opt = qgo.optimizers.RAdam(m, lr, ams=True)\n",
    "\n",
    "# variables\n",
    "varU1 = list(map(tf.Variable, U1))\n",
    "varU2 = list(map(tf.Variable, U2))\n",
    "\n",
    "# the exact value of the maximal entropy\n",
    "exact_S = np.log(2 ** 5)\n",
    "\n",
    "err_list = [] # will be filled by err vs iter\n",
    "\n",
    "# optimization loop\n",
    "for i in tqdm(range(iters)):\n",
    "    \n",
    "    with tf.GradientTape() as tape:\n",
    "        \n",
    "        new_psi = psi\n",
    "        \n",
    "        varU1_c = list(map(qgo.manifolds.real_to_complex, varU1))\n",
    "        varU2_c = list(map(qgo.manifolds.real_to_complex, varU2))\n",
    "        \n",
    "        for i in range(num_of_layers):\n",
    "            \n",
    "            new_psi = unitary_layer(new_psi, varU1_c[i], varU2_c[i])\n",
    "        \n",
    "        loss = tf.cast(-entropy(new_psi), dtype=tf.float64)  # minus entangled entropy\n",
    "        err_list.append(exact_S + loss)\n",
    "        \n",
    "    \n",
    "    grad = tape.gradient(loss, varU1 + varU2)\n",
    "    opt.apply_gradients(zip(grad, varU1 + varU2))"
   ]
  },
  {
   "cell_type": "markdown",
   "metadata": {},
   "source": [
    "#### Plotting of difference between the exact value of maximal entropy and the current value of entangled entropy."
   ]
  },
  {
   "cell_type": "code",
   "execution_count": 6,
   "metadata": {},
   "outputs": [
    {
     "name": "stdout",
     "output_type": "stream",
     "text": [
      "Exact entropy: 3.4657359027997265\n",
      "Obtained entropy: 3.4657358458226866\n"
     ]
    },
    {
     "data": {
      "text/plain": [
       "Text(0.5, 0, 'iter')"
      ]
     },
     "execution_count": 6,
     "metadata": {},
     "output_type": "execute_result"
    },
    {
     "data": {
      "image/png": "[encoded data removed]",
      "text/plain": [
       "<Figure size 432x288 with 1 Axes>"
      ]
     },
     "metadata": {
      "needs_background": "light"
     },
     "output_type": "display_data"
    }
   ],
   "source": [
    "print(\"Exact entropy:\", exact_S)\n",
    "print(\"Obtained entropy:\", -loss.numpy())\n",
    "plt.plot(err_list)\n",
    "plt.yscale('log')\n",
    "plt.ylabel('err')\n",
    "plt.xlabel('iter')"
   ]
  }
 ],
 "metadata": {
  "kernelspec": {
   "display_name": "Python 3",
   "language": "python",
   "name": "python3"
  },
  "language_info": {
   "codemirror_mode": {
    "name": "ipython",
    "version": 3
   },
   "file_extension": ".py",
   "mimetype": "text/x-python",
   "name": "python",
   "nbconvert_exporter": "python",
   "pygments_lexer": "ipython3",
   "version": "3.7.4"
  }
 },
 "nbformat": 4,
 "nbformat_minor": 2
}
