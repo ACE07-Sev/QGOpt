{
 "cells": [
  {
   "cell_type": "code",
   "execution_count": 3,
   "metadata": {},
   "outputs": [],
   "source": [
    "import tensorflow as tf\n",
    "import QGOpt as qgo\n",
    "import matplotlib.pyplot as plt\n",
    "import numpy as np\n",
    "from tqdm import tqdm"
   ]
  },
  {
   "cell_type": "markdown",
   "metadata": {},
   "source": [
    "#### Auxiliary function"
   ]
  },
  {
   "cell_type": "code",
   "execution_count": 4,
   "metadata": {},
   "outputs": [],
   "source": [
    "@tf.function\n",
    "def kron(A, B):\n",
    "    \"\"\"\n",
    "    Returns kronecker product of two square matrices.\n",
    "    Args:\n",
    "        A: complex valued tf tensor of shape (dim1, dim1)\n",
    "        B: complex valued tf tensor of shape (dim2, dim2)\n",
    "    Returns:\n",
    "        complex valued tf tensor of shape (dim1 * dim2, dim1 * dim2),\n",
    "        kronecker product of matrices\n",
    "    \"\"\"\n",
    "    \n",
    "    dim1 = A.shape[-1]\n",
    "    dim2 = B.shape[-1]\n",
    "    AB = tf.transpose(tf.tensordot(A, B, axes=0), (0, 2, 1, 3))\n",
    "    return tf.reshape(AB, (dim1 * dim2, dim1 * dim2))\n",
    "\n",
    "\n",
    "@tf.function\n",
    "def chain_kron(A):\n",
    "    \"\"\"\n",
    "    Returns kronecer product of several matrices.\n",
    "    Args:\n",
    "        A: complex valued tf tensor of shape (dim1, dim2, dim3), fisrt index marks number of matrix\n",
    "    Returns:\n",
    "        complex valued tf tensor of shape (dim2 ** dim1, dim3 ** dim1), kronecer\n",
    "        product of all matrices\n",
    "    \"\"\"\n",
    "    \n",
    "    dim = A.shape[0]\n",
    "    B = A[0]\n",
    "    for i in range(1, dim):\n",
    "        B = kron(B, A[i])\n",
    "    return B\n",
    "\n",
    "\n",
    "def cnot_layer(tuple_of_pairs):\n",
    "    \"\"\"\n",
    "    Returns layer with cnot gates ordered according input information\n",
    "    Args:\n",
    "        tuple_of_pairs: tuple with information about ordering of cnot gates. For example\n",
    "        if input tuple is (2, 0, 1, 3), then one has cnot gate acting on sites number 2, and 0,\n",
    "        a cnot gate acting on site number 1 and 3\n",
    "    Returns:\n",
    "        complex valued tf tensor of shape (2 ** len(tuple_of_pairs), 2 ** (tuple_of_pairs))\n",
    "    \"\"\"\n",
    "    \n",
    "    dim = int(len(tuple_of_pairs) / 2)\n",
    "    cnot = tf.constant([[1, 0, 0, 0],\n",
    "                        [0, 1, 0, 0],\n",
    "                        [0, 0, 0, 1],\n",
    "                        [0, 0, 1, 0]], dtype=tf.complex128)\n",
    "    new_order = np.argsort(np.array(tuple_of_pairs))\n",
    "    permut_cnot = cnot\n",
    "    for _ in range(dim - 1):\n",
    "        permut_cnot = kron(permut_cnot, cnot)\n",
    "    permut_cnot = tf.reshape(permut_cnot, 4 * dim * (2,))\n",
    "    permut_cnot = tf.transpose(permut_cnot, tuple(new_order) + tuple(new_order + 2 * dim))\n",
    "    return tf.reshape(permut_cnot, (2 ** (2 * dim), 2 ** (2 * dim)))"
   ]
  },
  {
   "cell_type": "markdown",
   "metadata": {},
   "source": [
    "#### Random target gate, length of trained gate and initial random values for one qubit gates"
   ]
  },
  {
   "cell_type": "code",
   "execution_count": 5,
   "metadata": {},
   "outputs": [],
   "source": [
    "#=====================================#\n",
    "num_of_qubits = 4  # number of qubits\n",
    "circuit_length = 4  # length of ciruid\n",
    "#=====================================#\n",
    "\n",
    "# state to be prepared (maximally entangled)\n",
    "psi_true = tf.random.normal((2 ** int(num_of_qubits / 2),\n",
    "                             2 ** int(num_of_qubits / 2),\n",
    "                             2), dtype=tf.float64)\n",
    "psi_true = qgo.manifolds.real_to_complex(psi_true)\n",
    "psi_true = tf.linalg.qr(psi_true)[0]\n",
    "psi_true = tf.reshape(psi_true, (-1,))\n",
    "psi_true = psi_true / tf.linalg.norm(psi_true)\n",
    "\n",
    "# initial state\n",
    "psi_in = tf.constant([1] + (2 ** num_of_qubits - 1) * [0],\n",
    "                     dtype=tf.complex128)\n",
    "\n",
    "# initial one qubit gates\n",
    "u = [tf.linalg.qr(qgo.manifolds.real_to_complex(tf.random.normal((num_of_qubits, 2, 2, 2),\n",
    "                                                                dtype=tf.float64)))[0] for _ in range(circuit_length)]\n",
    "\n",
    "u = list(map(qgo.manifolds.complex_to_real, u))"
   ]
  },
  {
   "cell_type": "markdown",
   "metadata": {},
   "source": [
    "#### Optimization loop"
   ]
  },
  {
   "cell_type": "code",
   "execution_count": 6,
   "metadata": {},
   "outputs": [],
   "source": [
    "#================================#\n",
    "iters = 2000 # number of iterations\n",
    "lr = 0.05 # learning rate\n",
    "#================================#\n",
    "\n",
    "# optimizer\n",
    "m = qgo.manifolds.StiefelManifold()\n",
    "opt = qgo.optimizers.RAdam(m, lr)\n",
    "\n",
    "# turn one qubit gates to tf variables\n",
    "varu = list(map(tf.Variable, u))\n",
    "\n",
    "# cnot layers\n",
    "cnot_layer_1 = cnot_layer((0, 1, 2, 3))\n",
    "cnot_layer_2 = cnot_layer((3, 0, 1, 2))\n",
    "cnot_layer_3 = cnot_layer((0, 1, 2, 3))\n",
    "\n",
    "err = [] # will be filled by err vs iter\n",
    "\n",
    "for _ in range(iters):\n",
    "    with tf.GradientTape() as tape:\n",
    "        # from real to complex\n",
    "        varu_c = list(map(qgo.manifolds.real_to_complex, varu))\n",
    "\n",
    "        # computing of gate\n",
    "        psi_out = chain_kron(varu_c[0]) @ psi_in[:, tf.newaxis]\n",
    "        psi_out = cnot_layer_1 @ psi_out\n",
    "        psi_out = chain_kron(varu_c[1]) @ psi_out\n",
    "        psi_out = cnot_layer_2 @ psi_out\n",
    "        psi_out = chain_kron(varu_c[2]) @ psi_out\n",
    "        psi_out = cnot_layer_3 @ psi_out\n",
    "        psi_out = chain_kron(varu_c[3]) @ psi_out\n",
    "\n",
    "        # loss\n",
    "        loss = 1 - tf.tensordot(psi_out[:, 0], psi_true, axes=1)\n",
    "        \n",
    "    err.append(tf.math.sqrt(loss))\n",
    "    grad = tape.gradient(loss, varu)\n",
    "    opt.apply_gradients(zip(grad, varu))"
   ]
  },
  {
   "cell_type": "markdown",
   "metadata": {},
   "source": [
    "#### Plotting"
   ]
  },
  {
   "cell_type": "code",
   "execution_count": 7,
   "metadata": {},
   "outputs": [
    {
     "name": "stdout",
     "output_type": "stream",
     "text": [
      "[0] element of psi after applying curcid [-0.05425221-0.23433145j]\n",
      "[0] element of psi true (-0.05425220877337211+0.23433145224423083j)\n"
     ]
    },
    {
     "name": "stderr",
     "output_type": "stream",
     "text": [
      "C:\\Users\\HYPERPC\\Anaconda3\\lib\\site-packages\\tensorflow_core\\python\\framework\\ops.py:859: ComplexWarning: Casting complex values to real discards the imaginary part\n",
      "  return float(self._numpy())\n",
      "C:\\Users\\HYPERPC\\Anaconda3\\lib\\site-packages\\numpy\\core\\numeric.py:538: ComplexWarning: Casting complex values to real discards the imaginary part\n",
      "  return array(a, dtype, copy=False, order=order)\n"
     ]
    },
    {
     "data": {
      "text/plain": [
       "Text(0, 0.5, 'err')"
      ]
     },
     "execution_count": 7,
     "metadata": {},
     "output_type": "execute_result"
    },
    {
     "data": {
      "image/png": "[encoded data removed]",
      "text/plain": [
       "<Figure size 432x288 with 1 Axes>"
      ]
     },
     "metadata": {
      "needs_background": "light"
     },
     "output_type": "display_data"
    }
   ],
   "source": [
    "print('[0] element of psi after applying curcid', psi_out[0].numpy())\n",
    "print('[0] element of psi true', psi_true[0].numpy())\n",
    "plt.plot(err)\n",
    "plt.yscale('log')\n",
    "plt.xlabel('iter')\n",
    "plt.ylabel('err')"
   ]
  }
 ],
 "metadata": {
  "kernelspec": {
   "display_name": "Python 3",
   "language": "python",
   "name": "python3"
  },
  "language_info": {
   "codemirror_mode": {
    "name": "ipython",
    "version": 3
   },
   "file_extension": ".py",
   "mimetype": "text/x-python",
   "name": "python",
   "nbconvert_exporter": "python",
   "pygments_lexer": "ipython3",
   "version": "3.7.4"
  }
 },
 "nbformat": 4,
 "nbformat_minor": 2
}
