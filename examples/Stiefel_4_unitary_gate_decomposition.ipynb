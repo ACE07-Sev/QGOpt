{
 "cells": [
  {
   "cell_type": "code",
   "execution_count": 1,
   "metadata": {},
   "outputs": [],
   "source": [
    "import tensorflow as tf\n",
    "import QGOpt as qgo\n",
    "import matplotlib.pyplot as plt\n",
    "import numpy as np\n",
    "from tqdm import tqdm"
   ]
  },
  {
   "cell_type": "markdown",
   "metadata": {},
   "source": [
    "#### Kronecker product function."
   ]
  },
  {
   "cell_type": "code",
   "execution_count": 2,
   "metadata": {},
   "outputs": [],
   "source": [
    "def kron(A, B):\n",
    "    \"\"\"\n",
    "    Returns kronecker product of two square matrices.\n",
    "    Args:\n",
    "        A: complex valued tf tensor of shape (dim1, dim1)\n",
    "        B: complex valued tf tensor of shape (dim2, dim2)\n",
    "    Returns:\n",
    "        complex valued tf tensor of shape (dim1 * dim2, dim1 * dim2),\n",
    "        kronecker product of matrices\n",
    "    \"\"\"\n",
    "    \n",
    "    dim1 = A.shape[-1]\n",
    "    dim2 = B.shape[-1]\n",
    "    AB = tf.transpose(tf.tensordot(A, B, axes=0), (0, 2, 1, 3))\n",
    "    return tf.reshape(AB, (dim1 * dim2, dim1 * dim2))"
   ]
  },
  {
   "cell_type": "markdown",
   "metadata": {},
   "source": [
    "#### Here one defines building blocks of a gate decomposition."
   ]
  },
  {
   "cell_type": "code",
   "execution_count": 5,
   "metadata": {},
   "outputs": [],
   "source": [
    "#===================================#\n",
    "circuit_length = 4  # circuit length\n",
    "#===================================#\n",
    "\n",
    "# cnot gate\n",
    "cnot = tf.constant([[1, 0, 0, 0],\n",
    "                    [0, 1, 0, 0],\n",
    "                    [0, 0, 0, 1],\n",
    "                    [0, 0, 1, 0]], dtype=tf.complex128)\n",
    "\n",
    "# unitary gate, one wants to decompose\n",
    "target_U = qgo.manifolds.real_to_complex(tf.random.normal((4, 4, 2), dtype=tf.float64))\n",
    "target_U, _ = tf.linalg.qr(target_U)\n",
    "\n",
    "# initial one qubit gates\n",
    "u_1 = [tf.linalg.qr(qgo.manifolds.real_to_complex(tf.random.normal((2, 2, 2),\n",
    "                                                                  dtype=tf.float64)))[0] for _ in range(circuit_length)]\n",
    "u_2 = [tf.linalg.qr(qgo.manifolds.real_to_complex(tf.random.normal((2, 2, 2),\n",
    "                                                                  dtype=tf.float64)))[0] for _ in range(circuit_length)]\n",
    "u_1 = list(map(qgo.manifolds.complex_to_real, u_1))\n",
    "u_2 = list(map(qgo.manifolds.complex_to_real, u_2))"
   ]
  },
  {
   "cell_type": "markdown",
   "metadata": {},
   "source": [
    "#### Optimization loop minimizes the square Frobenius norm between the true gate and the decomposition."
   ]
  },
  {
   "cell_type": "code",
   "execution_count": 8,
   "metadata": {},
   "outputs": [],
   "source": [
    "#=================================#\n",
    "iters = 500 # number of iterations\n",
    "lr = 0.2 # learning rate\n",
    "#=================================#\n",
    "\n",
    "# optimizer\n",
    "m = qgo.manifolds.StiefelManifold()\n",
    "opt = qgo.optimizers.RAdam(m, lr, ams=True)\n",
    "\n",
    "# turn one qubit gates to tf variables\n",
    "varu_1 = list(map(tf.Variable, u_1))\n",
    "varu_2 = list(map(tf.Variable, u_2))\n",
    "\n",
    "errs = [] # will be filled by err vs iter\n",
    "\n",
    "for _ in range(iters):\n",
    "    with tf.GradientTape() as tape:\n",
    "        # from real to complex\n",
    "        varu_1c = list(map(qgo.manifolds.real_to_complex, varu_1))\n",
    "        varu_2c = list(map(qgo.manifolds.real_to_complex, varu_2))\n",
    "\n",
    "        # gate decomposition\n",
    "        gate = kron(varu_1c[0], varu_2c[0])\n",
    "        for i in range(1, len(varu_1c)):\n",
    "            gate = cnot @ gate\n",
    "            gate = kron(varu_1c[i], varu_2c[i]) @ gate\n",
    "\n",
    "        # frobenius square distance\n",
    "        d = gate - target_U\n",
    "        loss = tf.linalg.trace(d @ tf.linalg.adjoint(d))\n",
    "        \n",
    "    errs.append(tf.math.sqrt(loss))\n",
    "    \n",
    "    grad = tape.gradient(loss, varu_1 + varu_2)  # gradient\n",
    "    opt.apply_gradients(zip(grad, varu_1 + varu_2))  # optimization step"
   ]
  },
  {
   "cell_type": "markdown",
   "metadata": {},
   "source": [
    "#### Plotting of the Frobenius distance between the gate and its decomposition vs the number of iteration."
   ]
  },
  {
   "cell_type": "code",
   "execution_count": 9,
   "metadata": {},
   "outputs": [
    {
     "name": "stdout",
     "output_type": "stream",
     "text": [
      "[0, 0] element of trained gate (-0.3328207287306554-0.39701332877530626j)\n",
      "[0, 0] element of target gate (-0.3328207287274123-0.39701332877610424j)\n"
     ]
    },
    {
     "name": "stderr",
     "output_type": "stream",
     "text": [
      "C:\\Users\\HYPERPC\\Anaconda3\\lib\\site-packages\\tensorflow_core\\python\\framework\\ops.py:859: ComplexWarning: Casting complex values to real discards the imaginary part\n",
      "  return float(self._numpy())\n",
      "C:\\Users\\HYPERPC\\Anaconda3\\lib\\site-packages\\numpy\\core\\numeric.py:538: ComplexWarning: Casting complex values to real discards the imaginary part\n",
      "  return array(a, dtype, copy=False, order=order)\n"
     ]
    },
    {
     "data": {
      "text/plain": [
       "Text(0, 0.5, 'err')"
      ]
     },
     "execution_count": 9,
     "metadata": {},
     "output_type": "execute_result"
    },
    {
     "data": {
      "image/png": "[encoded data removed]",
      "text/plain": [
       "<Figure size 432x288 with 1 Axes>"
      ]
     },
     "metadata": {
      "needs_background": "light"
     },
     "output_type": "display_data"
    }
   ],
   "source": [
    "print('[0, 0] element of trained gate', gate[0, 0].numpy())\n",
    "print('[0, 0] element of target gate', target_U[0, 0].numpy())\n",
    "plt.plot(errs)\n",
    "plt.yscale('log')\n",
    "plt.xlabel('iter')\n",
    "plt.ylabel('err')"
   ]
  }
 ],
 "metadata": {
  "kernelspec": {
   "display_name": "Python 3",
   "language": "python",
   "name": "python3"
  },
  "language_info": {
   "codemirror_mode": {
    "name": "ipython",
    "version": 3
   },
   "file_extension": ".py",
   "mimetype": "text/x-python",
   "name": "python",
   "nbconvert_exporter": "python",
   "pygments_lexer": "ipython3",
   "version": "3.7.4"
  }
 },
 "nbformat": 4,
 "nbformat_minor": 2
}
