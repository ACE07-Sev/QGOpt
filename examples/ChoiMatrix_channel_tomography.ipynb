{
 "cells": [
  {
   "cell_type": "code",
   "execution_count": 1,
   "metadata": {},
   "outputs": [
    {
     "ename": "ModuleNotFoundError",
     "evalue": "No module named 'QGOpt'",
     "output_type": "error",
     "traceback": [
      "\u001b[1;31m---------------------------------------------------------------------------\u001b[0m",
      "\u001b[1;31mModuleNotFoundError\u001b[0m                       Traceback (most recent call last)",
      "\u001b[1;32m<ipython-input-1-4737563f4b21>\u001b[0m in \u001b[0;36m<module>\u001b[1;34m\u001b[0m\n\u001b[0;32m      2\u001b[0m \u001b[1;32mimport\u001b[0m \u001b[0mmatplotlib\u001b[0m\u001b[1;33m.\u001b[0m\u001b[0mpyplot\u001b[0m \u001b[1;32mas\u001b[0m \u001b[0mplt\u001b[0m\u001b[1;33m\u001b[0m\u001b[1;33m\u001b[0m\u001b[0m\n\u001b[0;32m      3\u001b[0m \u001b[1;32mfrom\u001b[0m \u001b[0mmath\u001b[0m \u001b[1;32mimport\u001b[0m \u001b[0msqrt\u001b[0m\u001b[1;33m\u001b[0m\u001b[1;33m\u001b[0m\u001b[0m\n\u001b[1;32m----> 4\u001b[1;33m \u001b[1;32mimport\u001b[0m \u001b[0mQGOpt\u001b[0m \u001b[1;32mas\u001b[0m \u001b[0mqgo\u001b[0m\u001b[1;33m\u001b[0m\u001b[1;33m\u001b[0m\u001b[0m\n\u001b[0m\u001b[0;32m      5\u001b[0m \u001b[1;32mimport\u001b[0m \u001b[0mnumpy\u001b[0m \u001b[1;32mas\u001b[0m \u001b[0mnp\u001b[0m\u001b[1;33m\u001b[0m\u001b[1;33m\u001b[0m\u001b[0m\n\u001b[0;32m      6\u001b[0m \u001b[1;32mfrom\u001b[0m \u001b[0mtqdm\u001b[0m \u001b[1;32mimport\u001b[0m \u001b[0mtqdm\u001b[0m\u001b[1;33m\u001b[0m\u001b[1;33m\u001b[0m\u001b[0m\n",
      "\u001b[1;31mModuleNotFoundError\u001b[0m: No module named 'QGOpt'"
     ]
    }
   ],
   "source": [
    "import tensorflow as tf\n",
    "import matplotlib.pyplot as plt\n",
    "from math import sqrt\n",
    "import QGOpt as qgo\n",
    "import numpy as np\n",
    "from tqdm import tqdm"
   ]
  },
  {
   "cell_type": "markdown",
   "metadata": {},
   "source": [
    "#### Parameters of an experiment."
   ]
  },
  {
   "cell_type": "code",
   "execution_count": 91,
   "metadata": {},
   "outputs": [],
   "source": [
    "#=============================================#\n",
    "num_of_qubits = 2  # number of qubits\n",
    "num_of_meas = 600000  # number of measurements\n",
    "#=============================================#"
   ]
  },
  {
   "cell_type": "markdown",
   "metadata": {},
   "source": [
    "#### Many qubits IC POVM."
   ]
  },
  {
   "cell_type": "code",
   "execution_count": 92,
   "metadata": {},
   "outputs": [],
   "source": [
    "def kron(A, B):\n",
    "    \"\"\"Kronecker product of two tensors\n",
    "    Args:\n",
    "        A: tf tensor of shape (q, n, k)\n",
    "        B: tf tensor of shape (p, m, l)\n",
    "    Returns:\n",
    "        tf tensor of shape (q * p, n * m, k * l)\"\"\"\n",
    "    AB = tf.tensordot(A, B, axes=0)\n",
    "    AB = tf.transpose(AB, (0, 3, 1, 4, 2, 5))\n",
    "    shape = AB.shape\n",
    "    AB = tf.reshape(AB, (shape[0] * shape[1],\n",
    "                         shape[2] * shape[3],\n",
    "                         shape[4] * shape[5]))\n",
    "    return AB\n",
    "\n",
    "# Pauli matrices\n",
    "sigma_x = tf.constant([[0, 1], [1, 0]], dtype=tf.complex128)\n",
    "sigma_y = tf.constant([[0 + 0j, -1j], [1j, 0 + 0j]], dtype=tf.complex128)\n",
    "sigma_z = tf.constant([[1, 0], [0, -1]], dtype=tf.complex128)\n",
    "\n",
    "# All Pauli matrices in one tensor\n",
    "sigma = tf.concat([sigma_x[tf.newaxis],\n",
    "                   sigma_y[tf.newaxis],\n",
    "                   sigma_z[tf.newaxis]], axis=0)\n",
    "\n",
    "# coordinates of thetrahedron peaks\n",
    "s0 = tf.constant([0, 0, 1], dtype=tf.complex128)\n",
    "s1 = tf.constant([2 * sqrt(2) / 3, 0, -1/3], dtype=tf.complex128)\n",
    "s2 = tf.constant([-sqrt(2) / 3, sqrt(2 / 3), -1 / 3], dtype=tf.complex128)\n",
    "s3 = tf.constant([-sqrt(2) / 3, -sqrt(2 / 3), -1 / 3], dtype=tf.complex128)\n",
    "\n",
    "# coordinates of thetrahedron peaks in one tensor\n",
    "s = tf.concat([s0[tf.newaxis],\n",
    "               s1[tf.newaxis],\n",
    "               s2[tf.newaxis],\n",
    "               s3[tf.newaxis]], axis=0)\n",
    "\n",
    "# One qubit thetrahedral POVM\n",
    "M = 0.25 * (tf.eye(2, dtype=tf.complex128) + tf.tensordot(s, sigma, axes=1))\n",
    "\n",
    "# Many qubits POVM\n",
    "Mmq = M\n",
    "for _ in range(num_of_qubits - 1):\n",
    "    Mmq = kron(Mmq, M)"
   ]
  },
  {
   "cell_type": "markdown",
   "metadata": {},
   "source": [
    "#### Data set generation (measurement outcomes simulation)."
   ]
  },
  {
   "cell_type": "code",
   "execution_count": 93,
   "metadata": {},
   "outputs": [],
   "source": [
    "# random Kraus set\n",
    "V = tf.random.normal((2 ** (3 * num_of_qubits), 2 ** num_of_qubits, 2), dtype=tf.float64)\n",
    "V = qgo.manifolds.real_to_complex(V)\n",
    "V, _ = tf.linalg.qr(V)\n",
    "V = tf.reshape(V, (2 ** (2 * num_of_qubits), 2 ** num_of_qubits, 2 ** num_of_qubits))\n",
    "\n",
    "# Bell state\n",
    "bell_psi = tf.eye(2 ** num_of_qubits, dtype=tf.complex128)\n",
    "bell_rho = tf.tensordot(bell_psi, tf.math.conj(bell_psi), axes=0)\n",
    "\n",
    "# true Choi matrix\n",
    "choi_true = tf.einsum('qij,qkl,ajbl->aibk', V, tf.math.conj(V), bell_rho)\n",
    "choi_true = tf.reshape(choi_true, (2 ** (2 * num_of_qubits), 2 ** (2 * num_of_qubits)))\n",
    "\n",
    "# random initial dens. matrices\n",
    "psi_set = tf.random.normal((num_of_meas, 2 * num_of_qubits, 2), dtype=tf.float64)\n",
    "psi_set = qgo.manifolds.real_to_complex(psi_set)\n",
    "psi_set = psi_set / tf.linalg.norm(psi_set, axis=1)[:, tf.newaxis]\n",
    "rho_set = psi_set[..., tf.newaxis] * tf.math.conj(psi_set[:, tf.newaxis])\n",
    "\n",
    "# dens. matrices after aplication of a random channel\n",
    "out_rho = tf.einsum('kij,klm,qjm->qil', V, tf.math.conj(V), rho_set)\n",
    "\n",
    "# Measurements simulation\n",
    "P = tf.cast(tf.einsum('qjk,pkj->pq', Mmq, out_rho), dtype=tf.float64)\n",
    "eps = tf.random.uniform((num_of_meas,\n",
    "                         2 ** (2 * num_of_qubits)),\n",
    "                        dtype=tf.float64)\n",
    "eps = -tf.math.log(-tf.math.log(eps))\n",
    "ind_set = tf.math.argmax(eps + tf.math.log(P), axis=-1)\n",
    "\n",
    "# Data set (projectors came true)\n",
    "M_set = tf.gather_nd(Mmq, ind_set[:, tf.newaxis])\n",
    "\n",
    "\n",
    "true_llh = -tf.reduce_sum(tf.math.log(tf.linalg.trace(out_rho @ M_set)))"
   ]
  },
  {
   "cell_type": "markdown",
   "metadata": {},
   "source": [
    "#### Optimization loop maximizes the logarithmic likelihood function."
   ]
  },
  {
   "cell_type": "code",
   "execution_count": 94,
   "metadata": {},
   "outputs": [
    {
     "name": "stderr",
     "output_type": "stream",
     "text": [
      "100%|████████████████████████████████████████████████████████████████████████████████| 400/400 [02:52<00:00,  2.32it/s]\n"
     ]
    }
   ],
   "source": [
    "# Parameters of learning\n",
    "#=========================================#\n",
    "lr = 0.07  # learning rate\n",
    "num_of_iter = 400  # number of iterations\n",
    "#=========================================#\n",
    "\n",
    "# Initial choi matrix\n",
    "choi = tf.random.normal((2 ** (3 * num_of_qubits), 2 ** num_of_qubits, 2), dtype=tf.float64)\n",
    "choi = qgo.manifolds.real_to_complex(choi)\n",
    "choi, _ = tf.linalg.qr(choi)\n",
    "choi = tf.transpose(choi)\n",
    "choi = tf.reshape(choi, (2 ** (2 * num_of_qubits), 2 ** (2 * num_of_qubits)))\n",
    "choi = qgo.manifolds.complex_to_real(choi)\n",
    "choi = tf.Variable(choi)\n",
    "\n",
    "# optimizer initialization\n",
    "m = qgo.manifolds.ChoiMatrix() # S++ manifold\n",
    "opt = qgo.optimizers.RAdam(m, lr) # riemannian optimizer\n",
    "\n",
    "dist = []  # to be filled by trace distance vs iteration\n",
    "losses = []  # to be filled by loss vs iteration\n",
    "\n",
    "for _ in tqdm(range(num_of_iter)):\n",
    "    with tf.GradientTape() as tape:\n",
    "        choi_c = qgo.manifolds.real_to_complex(choi)\n",
    "        choi_c = tf.reshape(choi_c, (2 ** num_of_qubits,\n",
    "                                     2 ** num_of_qubits,\n",
    "                                     2 ** (2 * num_of_qubits)))\n",
    "        choi_c = tf.tensordot(choi_c, tf.math.conj(choi_c), [[2], [2]])\n",
    "        current_choi = tf.reshape(choi_c, (2 ** (2 * num_of_qubits), 2 ** (2 * num_of_qubits)))\n",
    "        choi_c = tf.transpose(choi_c, (1, 3, 0, 2))\n",
    "        choi_c = tf.reshape(choi_c, (2 ** (2 * num_of_qubits), 2 ** (2 * num_of_qubits)))\n",
    "        rho_set_resh = tf.reshape(rho_set, (-1, 2 ** (2 * num_of_qubits)))\n",
    "        rho_out_resh = tf.tensordot(choi_c, rho_set_resh, [[1], [1]])\n",
    "        rho_out_resh = tf.transpose(rho_out_resh)\n",
    "        rho_out = tf.reshape(rho_out_resh, (-1, 2 ** num_of_qubits, 2 ** num_of_qubits))\n",
    "        p = tf.abs(tf.linalg.trace(M_set @ rho_out))\n",
    "        loss = -tf.reduce_mean(tf.math.log(p))  # negatibe log likelihood\n",
    "    grad = tape.gradient(loss, choi)  # gradient\n",
    "    opt.apply_gradients(zip([grad], [choi]))  # optimization step\n",
    "    losses.append(loss)\n",
    "    dist.append(0.5 * tf.reduce_sum(tf.abs(tf.linalg.eigvalsh(current_choi - choi_true))))\n",
    "np.save('qubits=' + str(num_of_qubits) + '.npy', dist)"
   ]
  },
  {
   "cell_type": "markdown",
   "metadata": {},
   "source": [
    "#### Plotting trace distance vs number of iter"
   ]
  },
  {
   "cell_type": "code",
   "execution_count": 112,
   "metadata": {},
   "outputs": [
    {
     "data": {
      "image/png": "[encoded data removed]",
      "text/plain": [
       "<Figure size 432x288 with 1 Axes>"
      ]
     },
     "metadata": {
      "needs_background": "light"
     },
     "output_type": "display_data"
    }
   ],
   "source": [
    "plt.plot(np.load('qubits=1.npy') / 2, 'b')\n",
    "plt.plot(np.load('qubits=2.npy') / 4, 'r')\n",
    "plt.legend([r'$one \\ qubit$', r'$two \\ qubits$'])\n",
    "plt.yscale('log')\n",
    "plt.ylabel(r'$Trace \\ distance$')\n",
    "plt.xlabel(r'$iter$')\n",
    "plt.savefig('trace_distance_vs_iter.pdf')"
   ]
  },
  {
   "cell_type": "code",
   "execution_count": 101,
   "metadata": {},
   "outputs": [
    {
     "data": {
      "text/plain": [
       "[<matplotlib.lines.Line2D at 0x1a5a043c548>]"
      ]
     },
     "execution_count": 101,
     "metadata": {},
     "output_type": "execute_result"
    },
    {
     "data": {
      "image/png": "[encoded data removed]",
      "text/plain": [
       "<Figure size 432x288 with 1 Axes>"
      ]
     },
     "metadata": {
      "needs_background": "light"
     },
     "output_type": "display_data"
    }
   ],
   "source": [
    "plt.plot(losses)\n",
    "plt.plot([true_llh / 600000] * 400)"
   ]
  }
 ],
 "metadata": {
  "kernelspec": {
   "display_name": "Python 3",
   "language": "python",
   "name": "python3"
  },
  "language_info": {
   "codemirror_mode": {
    "name": "ipython",
    "version": 3
   },
   "file_extension": ".py",
   "mimetype": "text/x-python",
   "name": "python",
   "nbconvert_exporter": "python",
   "pygments_lexer": "ipython3",
   "version": "3.7.4"
  }
 },
 "nbformat": 4,
 "nbformat_minor": 2
}
