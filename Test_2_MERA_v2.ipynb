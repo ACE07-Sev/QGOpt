{
 "cells": [
  {
   "cell_type": "code",
   "execution_count": 1,
   "metadata": {},
   "outputs": [
    {
     "name": "stderr",
     "output_type": "stream",
     "text": [
      "C:\\Users\\HYPERPC\\Anaconda3\\lib\\importlib\\_bootstrap.py:219: RuntimeWarning: numpy.ufunc size changed, may indicate binary incompatibility. Expected 192 from C header, got 216 from PyObject\n",
      "  return f(*args, **kwds)\n",
      "C:\\Users\\HYPERPC\\Anaconda3\\lib\\importlib\\_bootstrap.py:219: RuntimeWarning: numpy.ufunc size changed, may indicate binary incompatibility. Expected 192 from C header, got 216 from PyObject\n",
      "  return f(*args, **kwds)\n"
     ]
    }
   ],
   "source": [
    "import tensorflow as tf\n",
    "import qriemannopt as qro\n",
    "import matplotlib.pyplot as plt"
   ]
  },
  {
   "cell_type": "code",
   "execution_count": 2,
   "metadata": {},
   "outputs": [],
   "source": [
    "U = tf.complex(tf.random.normal((4, 4)),\n",
    "              tf.random.normal((4, 4)))\n",
    "U, _ = tf.linalg.qr(U)\n",
    "Z = tf.complex(tf.random.normal((8, 8)),\n",
    "              tf.random.normal((8, 8)))\n",
    "Z, _ = tf.linalg.qr(Z)\n",
    "Z = Z[:, :4]\n",
    "\n",
    "# pauli matrices\n",
    "sigma = tf.constant([[[1j*0, 1 + 1j*0], [1 + 1j*0, 0*1j]],\n",
    "                    [[0*1j, -1j], [1j, 0*1j]],\n",
    "                    [[1 + 0*1j, 0*1j], [0*1j, -1 + 0*1j]]],dtype=tf.complex128)\n",
    "\n",
    "# hamiltonian\n",
    "h = -tf.einsum('ij,kl->ikjl', sigma[2], sigma[2]) +\\\n",
    "tf.einsum('ij,kl->ikjl', -h_x * sigma[0] / 2, tf.eye(2, dtype=tf.complex128)) +\\\n",
    "tf.einsum('ij,kl->ikjl', -tf.eye(2, dtype=tf.complex128), h_x * sigma[0] / 2)"
   ]
  },
  {
   "cell_type": "code",
   "execution_count": null,
   "metadata": {},
   "outputs": [],
   "source": [
    "@tf.function\n",
    "def renorm(U, Z, h):\n",
    "    \"\"\"the function renormalize local operation. As an input\n",
    "    it takes disentangler, isometry and local operator.\n",
    "    --------------------------------------------------------\n",
    "    U.shape = (chi ** 2, chi ** 2)\n",
    "    Z.shape = (chi ** 3, chi_new)\n",
    "    returns tensor of shape (chi_new, chi_new, chi_new, chi_new)\"\"\"\n",
    "    # U and Z reshaping\n",
    "    chi = tf.cast(tf.math.sqrt(tf.cast(U.shape[0], dtype=tf.float64)), dtype=tf.int32)\n",
    "    chi_new = Z.shape[-1]\n",
    "    U_resh = tf.reshape(U, (chi, chi, chi, chi))\n",
    "    Z_resh = tf.reshape(Z, (chi, chi, chi, chi_new))\n",
    "    # applying disentangler\n",
    "    uhu_up = tf.einsum('jmqr,ijkl,lmnp->iqrknp', tf.math.conj(U_resh), h, U_resh) ##\n",
    "    uhu_mid = tf.einsum('ijnm,ijkl,klqp->nmqp', tf.math.conj(U_resh), h, U_resh) ##\n",
    "    uhu_down = tf.einsum('minr,ijlk,mlqp->nrjqpk', tf.math.conj(U_resh), h, U_resh) ##\n",
    "    # applying isometries\n",
    "    z_up = tf.einsum('ijmn,ijkl->nmlk', tf.math.conj(Z_resh), Z_resh) ##\n",
    "    z_down = tf.einsum('ijmn,kjml->nilk', tf.math.conj(Z_resh), Z_resh) ##\n",
    "    aux_up = tf.einsum('qijp,ijklmn,qlmo->pkon', tf.math.conj(Z_resh), uhu_up, Z_resh) ##\n",
    "    h_up = tf.einsum('ijkl,pjql->ipkq', aux_up, z_down) ##\n",
    "    aux_down = tf.einsum('jkqp,ijklmn,mnqr->iplr', tf.math.conj(Z_resh), uhu_down, Z_resh) ##\n",
    "    h_down = tf.einsum('ijkl,jqlp->iqkp', z_up, aux_down) ##\n",
    "    # total renormalized hamiltonian\n",
    "    h_mid = tf.einsum('ijkl,jqlm,rqom->irko', z_up, uhu_mid, z_down)\n",
    "    return (1 / 3) * (h_up + h_mid + h_down)"
   ]
  }
 ],
 "metadata": {
  "kernelspec": {
   "display_name": "Python 3",
   "language": "python",
   "name": "python3"
  },
  "language_info": {
   "codemirror_mode": {
    "name": "ipython",
    "version": 3
   },
   "file_extension": ".py",
   "mimetype": "text/x-python",
   "name": "python",
   "nbconvert_exporter": "python",
   "pygments_lexer": "ipython3",
   "version": "3.7.4"
  }
 },
 "nbformat": 4,
 "nbformat_minor": 2
}
