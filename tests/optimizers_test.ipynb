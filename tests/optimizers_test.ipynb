{
 "cells": [
  {
   "cell_type": "code",
   "execution_count": 5,
   "metadata": {},
   "outputs": [
    {
     "data": {
      "text/plain": [
       "{'GD': <tf.Tensor: id=231111, shape=(), dtype=float64, numpy=2.8450585887185298e-08>,\n",
       " 'momentum_GD': <tf.Tensor: id=266346, shape=(), dtype=float64, numpy=7.105427357601002e-15>,\n",
       " 'Nesterov_momentum_GD': <tf.Tensor: id=302381, shape=(), dtype=float64, numpy=7.105427357601002e-15>,\n",
       " 'Adam': <tf.Tensor: id=347832, shape=(), dtype=float64, numpy=6.73736622047727e-11>,\n",
       " 'AmsGrad': <tf.Tensor: id=398692, shape=(), dtype=float64, numpy=1.7215029401995707e-10>}"
      ]
     },
     "execution_count": 5,
     "metadata": {},
     "output_type": "execute_result"
    }
   ],
   "source": [
    "import tensorflow as tf\n",
    "import QGOpt as qgo\n",
    "import math\n",
    "\n",
    "#---------------------------------------------------------------------------------#\n",
    "ham_dim = 20  # dimension of a hamiltonian\n",
    "renorm_ham_dim = 10  # dimension of a renormalized hamiltonian\n",
    "number_of_steps = tf.constant(200, dtype=tf.int32)  # number of optimization steps\n",
    "#---------------------------------------------------------------------------------#\n",
    "\n",
    "# hamiltonian generation\n",
    "herm = qgo.manifolds.HermitianMatrix()\n",
    "h = herm.random((ham_dim, ham_dim), dtype=tf.complex128)\n",
    "\n",
    "# complex Stiefel manifold\n",
    "stiefel = qgo.manifolds.StiefelManifold()\n",
    "\n",
    "# initial random isometric matrix\n",
    "q = stiefel.random((ham_dim, renorm_ham_dim), dtype=tf.complex128)\n",
    "q = qgo.manifolds.complex_to_real(q)\n",
    "q = tf.Variable(q)\n",
    "\n",
    "# optimizers\n",
    "opts = {'GD':qgo.optimizers.RSGD(stiefel, 0.05),\n",
    "        'momentum_GD':qgo.optimizers.RSGD(stiefel, 0.1, 0.9),\n",
    "        'Nesterov_momentum_GD':qgo.optimizers.RSGD(stiefel, 0.1, 0.9, use_nesterov=True),\n",
    "        'Adam':qgo.optimizers.RAdam(stiefel, 0.2),\n",
    "        'AmsGrad':qgo.optimizers.RAdam(stiefel, 0.2, ams=True)}\n",
    "\n",
    "# exact solution of the problem\n",
    "exact_solution = tf.math.real(tf.reduce_sum(tf.linalg.eigvalsh(h)[:renorm_ham_dim]))\n",
    "\n",
    "# optimization function\n",
    "def optimize(q, h, number_of_steps):\n",
    "    i = tf.constant(0, dtype=tf.int32)\n",
    "    loss = tf.constant(0, dtype=tf.float64)\n",
    "    def body(i, loss):\n",
    "        with tf.GradientTape() as tape:\n",
    "            qc = qgo.manifolds.real_to_complex(q)\n",
    "            loss = tf.math.real(tf.linalg.trace(tf.linalg.adjoint(qc) @ h @ qc))\n",
    "        grad = tape.gradient(loss, q)\n",
    "        opt.apply_gradients(zip([grad], [q]))\n",
    "        return i + 1, loss\n",
    "    cond = lambda i, loss: i < number_of_steps\n",
    "    _, loss = tf.while_loop(cond, body, [i, loss])\n",
    "    return loss\n",
    "\n",
    "# optimization loops\n",
    "err_dict = {}\n",
    "for key, opt in opts.items():\n",
    "    loss = optimize(q, h, number_of_steps)\n",
    "    err_dict[key] = tf.math.abs(loss - exact_solution)\n",
    "err_dict"
   ]
  }
 ],
 "metadata": {
  "colab": {
   "collapsed_sections": [],
   "name": "test_1_simple_renorm.ipynb",
   "provenance": []
  },
  "kernelspec": {
   "display_name": "Python 3",
   "language": "python",
   "name": "python3"
  },
  "language_info": {
   "codemirror_mode": {
    "name": "ipython",
    "version": 3
   },
   "file_extension": ".py",
   "mimetype": "text/x-python",
   "name": "python",
   "nbconvert_exporter": "python",
   "pygments_lexer": "ipython3",
   "version": "3.7.2"
  }
 },
 "nbformat": 4,
 "nbformat_minor": 1
}
