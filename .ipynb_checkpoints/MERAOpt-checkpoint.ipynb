{
 "cells": [
  {
   "cell_type": "code",
   "execution_count": null,
   "metadata": {},
   "outputs": [],
   "source": [
    "import tensorflow as tf\n",
    "import qriemannopt.manifold as m\n",
    "\n",
    "class MERAOpt(tf.optimizers.Optimizer):\n",
    "\n",
    "    def __init__(self,\n",
    "                 name=\"Fast\"):\n",
    "        \"\"\"Constructs a new MERA inspired optimizer.\n",
    "        Returns:\n",
    "                object of class MERAOpt\"\"\"\n",
    "        \n",
    "        super(MERAOpt, self).__init__(name)\n",
    "\n",
    "\n",
    "    def _create_slots(self, var_list):\n",
    "        # MERAOpt does not need slots\n",
    "        pass\n",
    "\n",
    "\n",
    "    def _resource_apply_dense(self, grad, var):\n",
    "\n",
    "        #Complex version of grad\n",
    "        complex_grad = m.real_to_complex(grad)\n",
    "        \n",
    "        # MERA like update\n",
    "        _, u, v = tf.linalg.svd(tf.transpose(tf.math.conj(complex_grad)))\n",
    "        var.assign(m.convert.complex_to_real(-v @ tf.transpose(tf.math.conj(u))))\n",
    "\n",
    "    def _resource_apply_sparse(self, grad, var):\n",
    "        raise NotImplementedError(\"Sparse gradient updates are not supported.\")\n",
    "    \n",
    "    def get_config(self):\n",
    "        config = super(MERAOpt, self).get_config()\n",
    "        config.update({\n",
    "        })\n",
    "        return config"
   ]
  }
 ],
 "metadata": {
  "kernelspec": {
   "display_name": "Python 3",
   "language": "python",
   "name": "python3"
  },
  "language_info": {
   "codemirror_mode": {
    "name": "ipython",
    "version": 3
   },
   "file_extension": ".py",
   "mimetype": "text/x-python",
   "name": "python",
   "nbconvert_exporter": "python",
   "pygments_lexer": "ipython3",
   "version": "3.7.4"
  }
 },
 "nbformat": 4,
 "nbformat_minor": 2
}
