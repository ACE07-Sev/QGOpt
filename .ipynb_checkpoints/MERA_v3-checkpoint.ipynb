{
 "cells": [
  {
   "cell_type": "code",
   "execution_count": 109,
   "metadata": {},
   "outputs": [],
   "source": [
    "import tensornetwork as tn\n",
    "import tensorflow as tf\n",
    "import qriemannopt as qro\n",
    "from MERAOpt import MERAOpt\n",
    "import matplotlib.pyplot as plt\n",
    "from tqdm import tqdm\n",
    "tn.set_default_backend(\"tensorflow\")"
   ]
  },
  {
   "cell_type": "code",
   "execution_count": 110,
   "metadata": {},
   "outputs": [],
   "source": [
    "@tf.function\n",
    "def mera_layer(H,\n",
    "               U,\n",
    "               U_conj,\n",
    "               Z_left,\n",
    "               Z_right,\n",
    "               Z_left_conj,\n",
    "               Z_right_conj):\n",
    "    \n",
    "    # U and Z reshaping\n",
    "    chi = tf.cast(tf.math.sqrt(tf.cast(U.shape[0], dtype=tf.float64)), dtype=tf.int32)\n",
    "    chi_new = Z_left.shape[-1]\n",
    "    \n",
    "    # tn nodes\n",
    "    h = tn.Node(tf.reshape(H, (chi, chi, chi, chi)))\n",
    "    u = tn.Node(tf.reshape(U, (chi, chi, chi, chi)))\n",
    "    u_conj = tn.Node(tf.reshape(U_conj, (chi, chi, chi, chi)))\n",
    "    z_left = tn.Node(tf.reshape(Z_left, (chi, chi, chi, chi_new)))\n",
    "    z_right = tn.Node(tf.reshape(Z_right, (chi, chi, chi, chi_new)))\n",
    "    z_left_conj = tn.Node(tf.reshape(Z_left_conj, (chi, chi, chi, chi_new)))\n",
    "    z_right_conj = tn.Node(tf.reshape(Z_right_conj, (chi, chi, chi, chi_new)))\n",
    "    \n",
    "    # standart for all part\n",
    "    z_left[0]^z_left_conj[0]\n",
    "    z_right[2]^z_right_conj[2]\n",
    "    u[2]^z_left[2]\n",
    "    u[3]^z_right[0]\n",
    "    u_conj[2]^z_left_conj[2]\n",
    "    u_conj[3]^z_right_conj[0]\n",
    "    \n",
    "    # first renormalization\n",
    "    z_left[1]^h[2]\n",
    "    z_left_conj[1]^h[0]\n",
    "    u[0]^h[3]\n",
    "    u_conj[0]^h[1]\n",
    "    u[1]^u_conj[1]\n",
    "    z_right[1]^z_right_conj[1]\n",
    "    nodes = tn.reachable(h)\n",
    "    renorm_first = tn.contractors.optimal(nodes, [z_left_conj[3],\n",
    "                                                  z_right_conj[3],\n",
    "                                                  z_left[3],\n",
    "                                                  z_right[3]])\n",
    "    \n",
    "    # standart for all part\n",
    "    z_left[0]^z_left_conj[0]\n",
    "    z_right[2]^z_right_conj[2]\n",
    "    u[2]^z_left[2]\n",
    "    u[3]^z_right[0]\n",
    "    u_conj[2]^z_left_conj[2]\n",
    "    u_conj[3]^z_right_conj[0]\n",
    "    \n",
    "    # second renormalization\n",
    "    z_left[1]^z_left_conj[1]\n",
    "    z_right[1]^z_right_conj[1]\n",
    "    u[0]^h[2]\n",
    "    u[1]^h[3]\n",
    "    u_conj[0]^h[0]\n",
    "    u_conj[1]^h[1]\n",
    "    nodes = tn.reachable(h)\n",
    "    renorm_second = tn.contractors.optimal(nodes, [z_left_conj[3],\n",
    "                                                  z_right_conj[3],\n",
    "                                                  z_left[3],\n",
    "                                                  z_right[3]])\n",
    "    \n",
    "    # standart for all part\n",
    "    z_left[0]^z_left_conj[0]\n",
    "    z_right[2]^z_right_conj[2]\n",
    "    u[2]^z_left[2]\n",
    "    u[3]^z_right[0]\n",
    "    u_conj[2]^z_left_conj[2]\n",
    "    u_conj[3]^z_right_conj[0]\n",
    "    \n",
    "    # third renormalization\n",
    "    z_left[1]^z_left_conj[1]\n",
    "    u[0]^u_conj[0]\n",
    "    u[1]^h[2]\n",
    "    u_conj[1]^h[0]\n",
    "    z_right[1]^h[3]\n",
    "    z_right_conj[1]^h[1]\n",
    "    nodes = tn.reachable(h)\n",
    "    renorm_third = tn.contractors.optimal(nodes, [z_left_conj[3],\n",
    "                                                  z_right_conj[3],\n",
    "                                                  z_left[3],\n",
    "                                                  z_right[3]])\n",
    "    \n",
    "    return (renorm_first.tensor + renorm_second.tensor + renorm_third.tensor) / 3\n",
    "\n",
    "@tf.function\n",
    "def z_gen(inp, out):\n",
    "    \n",
    "    Z = qro.manifold.real_to_complex(tf.random.normal((inp ** 3, inp ** 3, 2), dtype=tf.float64))\n",
    "    Z, _ = tf.linalg.qr(Z)\n",
    "    return Z[:, :out]\n",
    "\n",
    "\n",
    "@tf.function\n",
    "def u_gen(dim):\n",
    "    \n",
    "    U = tf.eye(dim ** 2, dtype=tf.complex128)\n",
    "    return U"
   ]
  },
  {
   "cell_type": "code",
   "execution_count": 111,
   "metadata": {},
   "outputs": [],
   "source": [
    "#===========================================#\n",
    "max_chi = 8 # max bond dim\n",
    "num_of_layers = 5 # number of layers of MERA\n",
    "h_x = 1. # transvers field\n",
    "#===========================================#\n",
    "\n",
    "# pauli matrices\n",
    "sigma = tf.constant([[[1j*0, 1 + 1j*0], [1 + 1j*0, 0*1j]],\n",
    "                    [[0*1j, -1j], [1j, 0*1j]],\n",
    "                    [[1 + 0*1j, 0*1j], [0*1j, -1 + 0*1j]]], dtype=tf.complex128)\n",
    "    \n",
    "# hamiltonian\n",
    "h = -tf.einsum('ij,kl->ikjl', sigma[0], sigma[0]) +\\\n",
    "tf.einsum('ij,kl->ikjl', -h_x * sigma[2], tf.eye(2, dtype=tf.complex128))\n",
    "\n",
    "# random unitary and isometyric matrices\n",
    "U = u_gen(2)\n",
    "Z = z_gen(2, max_chi)\n",
    "U_list = [u_gen(max_chi) for _ in range(num_of_layers - 1)]\n",
    "Z_list = [z_gen(max_chi, max_chi) for _ in range(num_of_layers - 1)]\n",
    "U_list = [U] + U_list\n",
    "Z_list = [Z] + Z_list\n",
    "psi = qro.manifold.real_to_complex(tf.random.normal((max_chi ** 2, 1, 2), dtype=tf.float64))\n",
    "psi, _ = tf.linalg.qr(psi)\n",
    "\n",
    "# real U, Z, psi\n",
    "U_list = [qro.manifold.complex_to_real(U_list[i]) for i in range(len(U_list))]\n",
    "Z_list = [qro.manifold.complex_to_real(Z_list[i]) for i in range(len(Z_list))]\n",
    "psi = qro.manifold.complex_to_real(psi)"
   ]
  },
  {
   "cell_type": "code",
   "execution_count": 119,
   "metadata": {},
   "outputs": [
    {
     "name": "stderr",
     "output_type": "stream",
     "text": [
      "100%|████████████████████████████████████████████████████████████████████████████████| 500/500 [01:06<00:00,  7.50it/s]\n"
     ]
    }
   ],
   "source": [
    "#========================#\n",
    "iters = 500 # number of iterations\n",
    "lr_i = 0.3\n",
    "lr_f = 0.3\n",
    "#========================#\n",
    "\n",
    "decay = (lr_f / lr_i) ** (1 / iters)\n",
    "\n",
    "# making hamiltonian negative defenite\n",
    "'''local_energy = 3 * tf.cast(tf.linalg.eigvalsh(tf.reshape(h, (4, 4)))[-1], dtype=tf.float64)\n",
    "h = h - tf.cast(local_energy, dtype=tf.complex128) * tf.reshape(tf.eye(4, dtype=tf.complex128), (2, 2, 2, 2))'''\n",
    "\n",
    "'''# optimizers\n",
    "m = qro.manifold.StiefelManifold() # Stiefel manifold\n",
    "opt = qro.optimizers.RAdam(m, lr_i)\n",
    "\n",
    "list_of_E = []\n",
    "varU = [tf.Variable(U_re) for U_re in U_list]\n",
    "varZ = [tf.Variable(Z_re) for Z_re in Z_list]\n",
    "varpsi = tf.Variable(psi)\n",
    "all_vars = varU + varZ + [varpsi]'''\n",
    "\n",
    "for j in tqdm(range(iters)):\n",
    "\n",
    "    # gradient calculation\n",
    "    with tf.GradientTape() as tape:\n",
    "\n",
    "        # complex matrices\n",
    "        varU_c = [qro.manifold.real_to_complex(varU[i]) for i in range(len(varU))]\n",
    "        varZ_c = [qro.manifold.real_to_complex(varZ[i]) for i in range(len(varZ))]\n",
    "        varpsi_c = qro.manifold.real_to_complex(varpsi)\n",
    "\n",
    "        h_renorm = h\n",
    "        # applying renormalization\n",
    "        for i in range(len(varU)):\n",
    "            h_renorm = mera_layer(h_renorm,\n",
    "                                  varU_c[i],\n",
    "                                  tf.math.conj(varU_c[i]),\n",
    "                                  varZ_c[i],\n",
    "                                  varZ_c[i],\n",
    "                                  tf.math.conj(varZ_c[i]),\n",
    "                                  tf.math.conj(varZ_c[i]))\n",
    "        # renormalizad hamiltonian\n",
    "        h_renorm = (h_renorm + tf.transpose(h_renorm, (1, 0, 3, 2))) / 2\n",
    "        h_renorm = tf.reshape(h_renorm, (max_chi * max_chi, max_chi * max_chi))\n",
    "        # energy\n",
    "        E = tf.cast((tf.transpose(tf.math.conj(varpsi_c)) @ h_renorm @ varpsi_c),\n",
    "                    dtype=tf.float64)[0, 0]\n",
    "        # adding curent value of energy\n",
    "        list_of_E.append(E)\n",
    "\n",
    "    # real gradients\n",
    "    grad = tape.gradient(E, all_vars)\n",
    "    opt.apply_gradients(zip(grad, all_vars))\n",
    "    #opt._set_hyper(\"learning_rate\", opt._get_hyper(\"learning_rate\") * decay)"
   ]
  },
  {
   "cell_type": "code",
   "execution_count": 120,
   "metadata": {},
   "outputs": [
    {
     "name": "stdout",
     "output_type": "stream",
     "text": [
      "tf.Tensor(-1.2732237794254602, shape=(), dtype=float64)\n",
      "-1.2732417615356748\n"
     ]
    },
    {
     "data": {
      "image/png": "[encoded data removed]",
      "text/plain": [
       "<Figure size 1080x504 with 1 Axes>"
      ]
     },
     "metadata": {
      "needs_background": "light"
     },
     "output_type": "display_data"
    },
    {
     "data": {
      "image/png": "[encoded data removed]",
      "text/plain": [
       "<Figure size 1080x504 with 1 Axes>"
      ]
     },
     "metadata": {
      "needs_background": "light"
     },
     "output_type": "display_data"
    }
   ],
   "source": [
    "import numpy as np\n",
    "from scipy import integrate\n",
    "# exact value of energy in critical point\n",
    "N = 2 * (3 ** num_of_layers)\n",
    "E0_exact_fin = -2 * (1 / np.sin(np.pi / (2 * N))) / N\n",
    "\n",
    "\n",
    "plt.figure(figsize=(15, 7))\n",
    "plt.plot(list_of_E, 'r')\n",
    "plt.plot([E0_exact_fin] * len(list_of_E))\n",
    "plt.figure(figsize=(15, 7))\n",
    "plt.yscale('log')\n",
    "plt.plot(tf.abs(list_of_E - tf.convert_to_tensor(([E0_exact_fin] * len(list_of_E)))), 'r')\n",
    "print(list_of_E[-1])\n",
    "print(E0_exact_fin)\n",
    "plt.savefig('MERAOpt_vs_Radam.pdf')"
   ]
  },
  {
   "cell_type": "code",
   "execution_count": 35,
   "metadata": {},
   "outputs": [
    {
     "data": {
      "text/plain": [
       "<tf.Tensor: id=6817187, shape=(), dtype=float64, numpy=-1.2714977425042409>"
      ]
     },
     "execution_count": 35,
     "metadata": {},
     "output_type": "execute_result"
    }
   ],
   "source": [
    "list_of_E[-1] * ((2 * (3 ** num_of_layers)) / (2 * (3 ** num_of_layers)))"
   ]
  },
  {
   "cell_type": "code",
   "execution_count": 42,
   "metadata": {},
   "outputs": [
    {
     "data": {
      "text/plain": [
       "<matplotlib.image.AxesImage at 0x20c0107e548>"
      ]
     },
     "execution_count": 42,
     "metadata": {},
     "output_type": "execute_result"
    },
    {
     "data": {
      "image/png": "[encoded data removed]",
      "text/plain": [
       "<Figure size 432x288 with 1 Axes>"
      ]
     },
     "metadata": {
      "needs_background": "light"
     },
     "output_type": "display_data"
    }
   ],
   "source": [
    "plt.imshow(tf.math.real(tf.reshape(result.tensor, (4, 4))))"
   ]
  },
  {
   "cell_type": "code",
   "execution_count": 64,
   "metadata": {},
   "outputs": [
    {
     "data": {
      "text/plain": [
       "<tf.Tensor: id=3811286, shape=(1, 1), dtype=complex128, numpy=array([[1.-3.24646631e-18j]])>"
      ]
     },
     "execution_count": 64,
     "metadata": {},
     "output_type": "execute_result"
    }
   ],
   "source": [
    "tf.linalg.adjoint(varpsi_c) @ varpsi_c"
   ]
  },
  {
   "cell_type": "code",
   "execution_count": 56,
   "metadata": {},
   "outputs": [
    {
     "data": {
      "text/plain": [
       "<tf.Tensor: id=681, shape=(), dtype=float64, numpy=-1.4142135623730947>"
      ]
     },
     "execution_count": 56,
     "metadata": {},
     "output_type": "execute_result"
    }
   ],
   "source": [
    "tf.cast(tf.linalg.eigvalsh(tf.reshape(h, (4, 4)))[0], dtype=tf.float64)"
   ]
  },
  {
   "cell_type": "code",
   "execution_count": 277,
   "metadata": {},
   "outputs": [
    {
     "data": {
      "text/plain": [
       "<tf.Variable 'RAdam/learning_rate:0' shape=() dtype=float32, numpy=0.1>"
      ]
     },
     "execution_count": 277,
     "metadata": {},
     "output_type": "execute_result"
    }
   ],
   "source": [
    "opt._get_hyper(\"learning_rate\")"
   ]
  },
  {
   "cell_type": "code",
   "execution_count": 62,
   "metadata": {},
   "outputs": [],
   "source": [
    "uu = z_gen(6, 6)"
   ]
  },
  {
   "cell_type": "code",
   "execution_count": 66,
   "metadata": {},
   "outputs": [],
   "source": [
    "uu = qro.manifold.real_to_complex(varZ[1])"
   ]
  },
  {
   "cell_type": "code",
   "execution_count": 70,
   "metadata": {},
   "outputs": [
    {
     "data": {
      "text/plain": [
       "<tf.Tensor: id=3811298, shape=(6, 6), dtype=complex128, numpy=\n",
       "array([[ 1.00000000e+00-1.07196265e-18j,  3.96328435e-16+9.85167078e-17j,\n",
       "         1.62976457e-18+9.70785947e-17j, -3.76659354e-16-7.93744051e-17j,\n",
       "         2.57725998e-16-1.06529497e-16j,  5.10474472e-16+8.58958248e-17j],\n",
       "       [ 3.96328435e-16-1.00873998e-16j,  1.00000000e+00-1.74252077e-18j,\n",
       "        -5.63749617e-16-1.66699808e-17j, -1.71879566e-16-2.43675715e-16j,\n",
       "         1.28663069e-16+2.40978605e-16j, -4.15158665e-16-5.72365675e-18j],\n",
       "       [ 1.62976457e-18-8.89430817e-17j, -5.63749617e-16+1.92311438e-17j,\n",
       "         1.00000000e+00+2.50458505e-18j,  7.45219590e-17+6.08508839e-17j,\n",
       "         2.23061290e-17+3.25967511e-17j, -5.50876418e-17-2.61028482e-16j],\n",
       "       [-3.76659354e-16+7.29198465e-17j, -1.71879566e-16+2.41912116e-16j,\n",
       "         7.45219590e-17-7.59157208e-17j,  1.00000000e+00+2.05385262e-18j,\n",
       "        -2.23312584e-16+2.08677556e-16j,  3.91769146e-16+2.68429662e-16j],\n",
       "       [ 2.57725998e-16+1.06442304e-16j,  1.28663069e-16-2.31312252e-16j,\n",
       "         2.23061290e-17-2.08379817e-17j, -2.23312584e-16-2.04483825e-16j,\n",
       "         1.00000000e+00+3.70789994e-18j,  1.19377988e-16-9.01226556e-17j],\n",
       "       [ 5.10474472e-16-7.06190967e-17j, -4.15158665e-16-5.16272448e-18j,\n",
       "        -5.50876418e-17+2.46910079e-16j,  3.91769146e-16-2.50163355e-16j,\n",
       "         1.19377988e-16+8.66902143e-17j,  1.00000000e+00+2.04425512e-18j]])>"
      ]
     },
     "execution_count": 70,
     "metadata": {},
     "output_type": "execute_result"
    }
   ],
   "source": [
    "tf.transpose(tf.math.conj(uu)) @ uu"
   ]
  },
  {
   "cell_type": "code",
   "execution_count": 100,
   "metadata": {},
   "outputs": [
    {
     "data": {
      "text/plain": [
       "<tf.Tensor: id=13281368, shape=(), dtype=float64, numpy=4.773959005888173e-14>"
      ]
     },
     "execution_count": 100,
     "metadata": {},
     "output_type": "execute_result"
    }
   ],
   "source": [
    "E"
   ]
  },
  {
   "cell_type": "code",
   "execution_count": 51,
   "metadata": {},
   "outputs": [],
   "source": [
    "uu = qro.manifold.real_to_complex(varZ[0])"
   ]
  },
  {
   "cell_type": "code",
   "execution_count": 52,
   "metadata": {},
   "outputs": [
    {
     "data": {
      "text/plain": [
       "<tf.Tensor: id=10599133, shape=(8, 8), dtype=complex128, numpy=\n",
       "array([[ 1.00000000e+00-1.08961390e-17j,  3.55020005e-16-1.44353686e-15j,\n",
       "         4.49749777e-16-1.85978775e-15j,  3.58126771e-16-1.16339505e-15j,\n",
       "        -1.11117946e-15+6.69627053e-16j, -6.56521882e-17-8.68873751e-16j,\n",
       "        -2.98014883e-17-1.38570855e-15j,  1.92437393e-16-1.31532633e-15j],\n",
       "       [ 3.55020005e-16+1.41114536e-15j,  1.00000000e+00-2.64922000e-18j,\n",
       "         6.82728112e-16+8.29722215e-19j,  8.91627880e-17+2.75221235e-17j,\n",
       "         3.93800691e-16-8.88257319e-16j, -2.14563192e-16-3.70129422e-16j,\n",
       "         4.71005012e-16-2.14043787e-16j,  5.75686117e-16+2.71759805e-17j],\n",
       "       [ 4.49749777e-16+1.86381486e-15j,  6.82728112e-16+9.52709469e-18j,\n",
       "         1.00000000e+00+1.64662940e-18j, -7.73317343e-16+4.20173405e-16j,\n",
       "        -1.60380823e-16+5.89367312e-16j, -6.89794586e-16-4.51790546e-16j,\n",
       "        -5.13753260e-16+3.47740765e-17j, -7.38736062e-16+2.28490139e-16j],\n",
       "       [ 3.58126771e-16+1.18900545e-15j,  8.91627880e-17-3.09607228e-17j,\n",
       "        -7.73317343e-16-3.75638741e-16j,  1.00000000e+00-1.15279146e-17j,\n",
       "        -1.65773239e-16-3.09990606e-16j, -2.87463112e-16+1.07252713e-16j,\n",
       "        -6.48741883e-16-2.45460012e-16j,  7.22626958e-16-7.94566661e-16j],\n",
       "       [-1.11117946e-15-6.30332472e-16j,  3.93800691e-16+8.61055691e-16j,\n",
       "        -1.60380823e-16-6.02876889e-16j, -1.65773239e-16+2.54966243e-16j,\n",
       "         1.00000000e+00-3.93965173e-18j,  2.92030550e-16-1.55594212e-15j,\n",
       "         6.91240430e-16+5.96645369e-17j, -6.73793342e-16-1.07451149e-15j],\n",
       "       [-6.56521882e-17+8.42004856e-16j, -2.14563192e-16+3.26088186e-16j,\n",
       "        -6.89794586e-16+4.52086354e-16j, -2.87463112e-16-1.23636120e-16j,\n",
       "         2.92030550e-16+1.57684006e-15j,  1.00000000e+00+3.81008389e-19j,\n",
       "        -4.53496265e-16-4.88439852e-16j,  7.37530841e-16-7.23906261e-18j],\n",
       "       [-2.98014883e-17+1.38540389e-15j,  4.71005012e-16+2.09859456e-16j,\n",
       "        -5.13753260e-16-4.99986617e-17j, -6.48741883e-16+2.21239342e-16j,\n",
       "         6.91240430e-16-6.65240173e-18j, -4.53496265e-16+4.88033334e-16j,\n",
       "         1.00000000e+00+1.09760607e-17j,  1.06659800e-15+9.04496435e-16j],\n",
       "       [ 1.92437393e-16+1.32634292e-15j,  5.75686117e-16-2.69083612e-17j,\n",
       "        -7.38736062e-16-2.35019698e-16j,  7.22626958e-16+7.80406824e-16j,\n",
       "        -6.73793342e-16+1.05949446e-15j,  7.37530841e-16+7.78194610e-18j,\n",
       "         1.06659800e-15-9.33743421e-16j,  1.00000000e+00+9.52093722e-19j]])>"
      ]
     },
     "execution_count": 52,
     "metadata": {},
     "output_type": "execute_result"
    }
   ],
   "source": [
    "tf.transpose(tf.math.conj(uu)) @ uu"
   ]
  },
  {
   "cell_type": "code",
   "execution_count": 39,
   "metadata": {},
   "outputs": [],
   "source": [
    "test = tf.Variable(qro.manifold.real_to_complex(tf.random.uniform((90, 3, 2), dtype=tf.float64)))"
   ]
  },
  {
   "cell_type": "code",
   "execution_count": 40,
   "metadata": {},
   "outputs": [
    {
     "data": {
      "text/plain": [
       "<tf.Variable 'Variable:0' shape=(90, 3) dtype=complex128, numpy=\n",
       "array([[0.3564078 +0.29371301j, 0.30304522+0.94636057j,\n",
       "        0.70540978+0.25284123j],\n",
       "       [0.32928069+0.06571905j, 0.00533283+0.51523618j,\n",
       "        0.90821711+0.3544367j ],\n",
       "       [0.4877937 +0.23451013j, 0.78902453+0.33149053j,\n",
       "        0.32019163+0.28913061j],\n",
       "       [0.7311989 +0.64339621j, 0.09127563+0.48935399j,\n",
       "        0.14342663+0.97433062j],\n",
       "       [0.9296472 +0.79821899j, 0.05114315+0.25564923j,\n",
       "        0.5016446 +0.44079255j],\n",
       "       [0.27897221+0.60653959j, 0.74559858+0.79887385j,\n",
       "        0.60137575+0.81345225j],\n",
       "       [0.49102755+0.81464244j, 0.91979676+0.43409442j,\n",
       "        0.99897974+0.15268521j],\n",
       "       [0.41979282+0.78388308j, 0.74496977+0.21873646j,\n",
       "        0.17804994+0.57461482j],\n",
       "       [0.68777651+0.42992189j, 0.02102355+0.18453498j,\n",
       "        0.31590651+0.02225175j],\n",
       "       [0.00568088+0.60095242j, 0.01029205+0.9576547j ,\n",
       "        0.81549495+0.49281783j],\n",
       "       [0.78087084+0.80435166j, 0.66702991+0.2152065j ,\n",
       "        0.3034924 +0.87486425j],\n",
       "       [0.02998689+0.53624396j, 0.97261922+0.54215645j,\n",
       "        0.38101221+0.14034659j],\n",
       "       [0.7529409 +0.70382261j, 0.98205069+0.95891924j,\n",
       "        0.4880661 +0.91256252j],\n",
       "       [0.9520647 +0.7596783j , 0.12645578+0.2532812j ,\n",
       "        0.48915692+0.56846602j],\n",
       "       [0.77640242+0.53140157j, 0.22342513+0.56090595j,\n",
       "        0.2292661 +0.96128371j],\n",
       "       [0.59269364+0.44548378j, 0.62997454+0.75623061j,\n",
       "        0.96691058+0.1870509j ],\n",
       "       [0.58276302+0.70474837j, 0.15096498+0.45559557j,\n",
       "        0.08657159+0.96510351j],\n",
       "       [0.90403965+0.76844021j, 0.06257029+0.94337436j,\n",
       "        0.23784886+0.32751102j],\n",
       "       [0.05292333+0.54342692j, 0.8081424 +0.07832319j,\n",
       "        0.44731317+0.37035095j],\n",
       "       [0.41782031+0.68233151j, 0.63133854+0.91294488j,\n",
       "        0.16069535+0.78951981j],\n",
       "       [0.13827321+0.85323868j, 0.01092719+0.79504198j,\n",
       "        0.67712678+0.95912941j],\n",
       "       [0.94226043+0.99892875j, 0.34187252+0.11240808j,\n",
       "        0.96396588+0.65388757j],\n",
       "       [0.65368213+0.2951797j , 0.36494965+0.69100047j,\n",
       "        0.36285913+0.54641233j],\n",
       "       [0.15753062+0.54323154j, 0.23051483+0.05602784j,\n",
       "        0.14740911+0.27730116j],\n",
       "       [0.79202258+0.05488707j, 0.32978774+0.57773846j,\n",
       "        0.46020028+0.75807001j],\n",
       "       [0.33304875+0.71422311j, 0.30241523+0.34674671j,\n",
       "        0.2903337 +0.88378276j],\n",
       "       [0.91786937+0.36725831j, 0.98773834+0.93030801j,\n",
       "        0.98469209+0.74888427j],\n",
       "       [0.02603222+0.69004641j, 0.25793483+0.4615517j ,\n",
       "        0.1020539 +0.21727671j],\n",
       "       [0.49183297+0.41599286j, 0.49288389+0.02071151j,\n",
       "        0.83002164+0.25004386j],\n",
       "       [0.77210764+0.95946516j, 0.49251514+0.22733912j,\n",
       "        0.4356873 +0.63700561j],\n",
       "       [0.84008241+0.31818375j, 0.1066844 +0.69288312j,\n",
       "        0.52367977+0.15678571j],\n",
       "       [0.99849074+0.7189233j , 0.091196  +0.17489268j,\n",
       "        0.54247686+0.16017631j],\n",
       "       [0.38485819+0.19161568j, 0.92140389+0.73347651j,\n",
       "        0.62565303+0.71734602j],\n",
       "       [0.99215771+0.11453182j, 0.05444825+0.05724983j,\n",
       "        0.57795545+0.70740045j],\n",
       "       [0.45740773+0.40879058j, 0.70241031+0.72569866j,\n",
       "        0.54148283+0.21425052j],\n",
       "       [0.50987932+0.50968629j, 0.38691591+0.19271091j,\n",
       "        0.22634407+0.58601837j],\n",
       "       [0.22770221+0.4982738j , 0.4077595 +0.50164875j,\n",
       "        0.31988882+0.25852721j],\n",
       "       [0.68147655+0.15733674j, 0.42669565+0.89480782j,\n",
       "        0.51887863+0.60207357j],\n",
       "       [0.54905194+0.60535j   , 0.50490235+0.22230838j,\n",
       "        0.53708442+0.76250904j],\n",
       "       [0.54860474+0.51353257j, 0.90115884+0.92985697j,\n",
       "        0.88704097+0.45531478j],\n",
       "       [0.70836018+0.69213859j, 0.04942854+0.08514253j,\n",
       "        0.42001407+0.69385449j],\n",
       "       [0.29308994+0.26418964j, 0.47594361+0.66808403j,\n",
       "        0.79694364+0.94383883j],\n",
       "       [0.12102302+0.14372667j, 0.0913563 +0.93272981j,\n",
       "        0.78068747+0.32068879j],\n",
       "       [0.32692801+0.33195218j, 0.88028058+0.72555683j,\n",
       "        0.19399864+0.46626712j],\n",
       "       [0.22219786+0.03653068j, 0.14228203+0.06813789j,\n",
       "        0.10859797+0.61162794j],\n",
       "       [0.33422674+0.80679609j, 0.33215977+0.01500922j,\n",
       "        0.79173829+0.67949477j],\n",
       "       [0.16000245+0.49481878j, 0.21371394+0.93887513j,\n",
       "        0.35719171+0.39099271j],\n",
       "       [0.40216574+0.99743085j, 0.54545927+0.35551764j,\n",
       "        0.73831466+0.21535611j],\n",
       "       [0.62881948+0.86363672j, 0.47358678+0.65810969j,\n",
       "        0.87920206+0.03406731j],\n",
       "       [0.52228217+0.31004071j, 0.51852683+0.36837885j,\n",
       "        0.87840029+0.11605156j],\n",
       "       [0.43163324+0.44302974j, 0.75389076+0.94199975j,\n",
       "        0.9782461 +0.14537263j],\n",
       "       [0.11450382+0.58082582j, 0.74600012+0.95699419j,\n",
       "        0.63711948+0.70620961j],\n",
       "       [0.92116232+0.21799346j, 0.0054537 +0.11500282j,\n",
       "        0.99086249+0.94046709j],\n",
       "       [0.64993073+0.27970746j, 0.82101327+0.33206826j,\n",
       "        0.1328266 +0.63553033j],\n",
       "       [0.85337206+0.61953873j, 0.02307401+0.40555973j,\n",
       "        0.26048797+0.40276581j],\n",
       "       [0.06803339+0.98915875j, 0.03294733+0.75454944j,\n",
       "        0.98321817+0.12382119j],\n",
       "       [0.35584247+0.30787364j, 0.33892001+0.31677892j,\n",
       "        0.86309105+0.11420099j],\n",
       "       [0.55469481+0.19379483j, 0.29215592+0.25130425j,\n",
       "        0.94813716+0.82906196j],\n",
       "       [0.14225894+0.05415308j, 0.81796702+0.03896932j,\n",
       "        0.4679024 +0.8311962j ],\n",
       "       [0.16688294+0.85058665j, 0.84230255+0.69962266j,\n",
       "        0.29916189+0.77386294j],\n",
       "       [0.49670657+0.59506338j, 0.45264942+0.80495719j,\n",
       "        0.65512859+0.63656859j],\n",
       "       [0.0526915 +0.05088373j, 0.08237647+0.83231597j,\n",
       "        0.11721606+0.71562569j],\n",
       "       [0.1629029 +0.78374751j, 0.12319616+0.5453207j ,\n",
       "        0.55876788+0.0888205j ],\n",
       "       [0.56227639+0.58767709j, 0.29549203+0.54813272j,\n",
       "        0.43110787+0.74084342j],\n",
       "       [0.70424116+0.34636968j, 0.86137164+0.56243749j,\n",
       "        0.95216831+0.48875912j],\n",
       "       [0.75192908+0.17703067j, 0.03205821+0.12860598j,\n",
       "        0.00564183+0.16011515j],\n",
       "       [0.6309063 +0.02311829j, 0.84532725+0.19248102j,\n",
       "        0.52729034+0.97596135j],\n",
       "       [0.9213654 +0.82145749j, 0.29224488+0.71894614j,\n",
       "        0.15076193+0.3664367j ],\n",
       "       [0.12475009+0.46516994j, 0.62170434+0.03518447j,\n",
       "        0.17425727+0.17283881j],\n",
       "       [0.7632946 +0.81295995j, 0.67177434+0.5242168j ,\n",
       "        0.34456142+0.54854182j],\n",
       "       [0.63739888+0.70528218j, 0.38985377+0.32444402j,\n",
       "        0.88093588+0.95660943j],\n",
       "       [0.24497164+0.10805223j, 0.03433285+0.70211999j,\n",
       "        0.55365038+0.17333249j],\n",
       "       [0.71217094+0.59435282j, 0.51263691+0.15115032j,\n",
       "        0.73218208+0.67974091j],\n",
       "       [0.81450952+0.75618316j, 0.36826183+0.52329937j,\n",
       "        0.47429647+0.42353741j],\n",
       "       [0.4608079 +0.61537126j, 0.9572784 +0.90844119j,\n",
       "        0.98487876+0.23502293j],\n",
       "       [0.04164492+0.57802257j, 0.26233533+0.89459384j,\n",
       "        0.2107198 +0.47188017j],\n",
       "       [0.01527473+0.15820929j, 0.40100666+0.06758069j,\n",
       "        0.98299467+0.4363702j ],\n",
       "       [0.40870704+0.10568299j, 0.18355115+0.23044764j,\n",
       "        0.65010117+0.80325465j],\n",
       "       [0.95934644+0.41335165j, 0.75385125+0.33625078j,\n",
       "        0.65850523+0.9195272j ],\n",
       "       [0.90538008+0.79075853j, 0.67871495+0.42640336j,\n",
       "        0.21994536+0.05413394j],\n",
       "       [0.34431198+0.38986597j, 0.54322274+0.07894819j,\n",
       "        0.64385842+0.34625922j],\n",
       "       [0.31662494+0.0629483j , 0.29463043+0.24554879j,\n",
       "        0.72595355+0.11930099j],\n",
       "       [0.59038749+0.26393706j, 0.43797412+0.79664964j,\n",
       "        0.90742217+0.57663324j],\n",
       "       [0.27184476+0.1306369j , 0.64657379+0.45788934j,\n",
       "        0.6835533 +0.19987334j],\n",
       "       [0.53235091+0.48938255j, 0.23747625+0.62885557j,\n",
       "        0.87370811+0.77029552j],\n",
       "       [0.70118035+0.45095602j, 0.09930482+0.72820737j,\n",
       "        0.93422255+0.84270151j],\n",
       "       [0.84233357+0.11552183j, 0.22900275+0.67022366j,\n",
       "        0.58439736+0.8294579j ],\n",
       "       [0.97534468+0.77768586j, 0.4407286 +0.55711479j,\n",
       "        0.35572971+0.43984108j],\n",
       "       [0.11871801+0.81910593j, 0.62300078+0.98911958j,\n",
       "        0.9185323 +0.49730915j],\n",
       "       [0.92535644+0.52249784j, 0.08265525+0.29560002j,\n",
       "        0.36528468+0.2166892j ]])>"
      ]
     },
     "execution_count": 40,
     "metadata": {},
     "output_type": "execute_result"
    }
   ],
   "source": [
    "test"
   ]
  },
  {
   "cell_type": "code",
   "execution_count": 18,
   "metadata": {},
   "outputs": [
    {
     "data": {
      "text/plain": [
       "5"
      ]
     },
     "execution_count": 18,
     "metadata": {},
     "output_type": "execute_result"
    }
   ],
   "source": [
    "len(varU)"
   ]
  },
  {
   "cell_type": "code",
   "execution_count": 36,
   "metadata": {},
   "outputs": [],
   "source": [
    "m = np.arange(1, 4 * (3 ** num_of_layers), 2)\n",
    "e = -np.sum(((1 - h_x) ** 2 + 4 * h_x * (np.sin(m * np.pi / (2 * 2 * (3 ** num_of_layers))) ** 2)) ** (1 / 2)) / (2 * (3 ** num_of_layers))"
   ]
  },
  {
   "cell_type": "code",
   "execution_count": 38,
   "metadata": {},
   "outputs": [
    {
     "data": {
      "text/plain": [
       "-1.2732417615356748"
      ]
     },
     "execution_count": 38,
     "metadata": {},
     "output_type": "execute_result"
    }
   ],
   "source": [
    "e"
   ]
  },
  {
   "cell_type": "code",
   "execution_count": 85,
   "metadata": {},
   "outputs": [],
   "source": [
    "h = -tf.einsum('ij,kl->ikjl', sigma[0], sigma[0]) +\\\n",
    "tf.einsum('ij,kl->ikjl', -h_x * sigma[2], tf.eye(2, dtype=tf.complex128))\n",
    "Id = tf.eye(2 ** 4, dtype=tf.complex128)\n",
    "Id = tf.reshape(Id, (2,) * 8)\n",
    "hh = tf.tensordot(h, Id, axes=0)\n",
    "hh = tf.transpose(hh, (0, 1, 4, 5, 6, 7, 2, 3, 8, 9, 10, 11))\n",
    "H = hh\n",
    "for _ in range(5):\n",
    "    hh = tf.transpose(hh, (5, 0, 1, 2, 3, 4, 11, 6, 7, 8, 9, 10))\n",
    "    H = H + hh\n",
    "H = tf.reshape(H, (2 ** 6, 2 ** 6))"
   ]
  },
  {
   "cell_type": "code",
   "execution_count": 91,
   "metadata": {},
   "outputs": [
    {
     "data": {
      "text/plain": [
       "<tf.Tensor: id=11401977, shape=(), dtype=complex128, numpy=(-4.440892098500626e-16+0j)>"
      ]
     },
     "execution_count": 91,
     "metadata": {},
     "output_type": "execute_result"
    }
   ],
   "source": [
    "tf.linalg.eigvalsh(H)[0] / 6 + 1.2879011017187578"
   ]
  },
  {
   "cell_type": "code",
   "execution_count": 81,
   "metadata": {},
   "outputs": [
    {
     "data": {
      "text/plain": [
       "<tf.Tensor: id=11401728, shape=(), dtype=complex128, numpy=0j>"
      ]
     },
     "execution_count": 81,
     "metadata": {},
     "output_type": "execute_result"
    }
   ],
   "source": [
    "tf.linalg.norm(hh - tf.transpose(tf.math.conj(hh)))"
   ]
  },
  {
   "cell_type": "code",
   "execution_count": 90,
   "metadata": {},
   "outputs": [
    {
     "data": {
      "text/plain": [
       "-1.2879011017187578"
      ]
     },
     "execution_count": 90,
     "metadata": {},
     "output_type": "execute_result"
    }
   ],
   "source": [
    "-1.2879011017187578"
   ]
  },
  {
   "cell_type": "code",
   "execution_count": 118,
   "metadata": {},
   "outputs": [],
   "source": [
    "opt._set_hyper(\"learning_rate\", 0.05)"
   ]
  },
  {
   "cell_type": "code",
   "execution_count": null,
   "metadata": {},
   "outputs": [],
   "source": []
  }
 ],
 "metadata": {
  "kernelspec": {
   "display_name": "Python 3",
   "language": "python",
   "name": "python3"
  },
  "language_info": {
   "codemirror_mode": {
    "name": "ipython",
    "version": 3
   },
   "file_extension": ".py",
   "mimetype": "text/x-python",
   "name": "python",
   "nbconvert_exporter": "python",
   "pygments_lexer": "ipython3",
   "version": "3.7.4"
  }
 },
 "nbformat": 4,
 "nbformat_minor": 2
}
