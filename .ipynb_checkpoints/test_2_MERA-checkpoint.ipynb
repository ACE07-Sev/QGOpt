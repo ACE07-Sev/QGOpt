{
 "cells": [
  {
   "cell_type": "code",
   "execution_count": 7,
   "metadata": {},
   "outputs": [],
   "source": [
    "import tensorflow as tf\n",
    "import matplotlib.pyplot as plt\n",
    "import numpy as np\n",
    "from scipy import integrate\n",
    "import warnings\n",
    "from tqdm import tqdm\n",
    "import qriemannopt as qro\n",
    "from MERAOpt import MERAOpt"
   ]
  },
  {
   "cell_type": "code",
   "execution_count": 8,
   "metadata": {},
   "outputs": [],
   "source": [
    "@tf.function\n",
    "def renorm(U, U_adj, Z, Z_adj, h):\n",
    "    \"\"\"the function renormalize local operation. As an input\n",
    "    it takes disentangler, isometry and local operator.\n",
    "    --------------------------------------------------------\n",
    "    U.shape = (chi ** 2, chi ** 2)\n",
    "    Z.shape = (chi ** 3, chi_new)\n",
    "    returns tensor of shape (chi_new, chi_new, chi_new, chi_new)\"\"\"\n",
    "    \n",
    "    # U and Z reshaping\n",
    "    chi = tf.cast(tf.math.sqrt(tf.cast(U.shape[0], dtype=tf.float64)), dtype=tf.int32)\n",
    "    chi_new = Z.shape[-1]\n",
    "    U_resh = tf.reshape(U, (chi, chi, chi, chi))\n",
    "    Z_resh = tf.reshape(Z, (chi, chi, chi, chi_new))\n",
    "    U_resh_adj = tf.reshape(U_adj, (chi, chi, chi, chi))\n",
    "    Z_resh_adj = tf.reshape(Z_adj, (chi, chi, chi, chi_new))\n",
    "    \n",
    "    # applying disentangler\n",
    "    uhu_up = tf.einsum('jmqr,ijkl,lmnp->iqrknp', U_resh_adj, h, U_resh)\n",
    "    uhu_mid = tf.einsum('ijnm,ijkl,klqp->nmqp', U_resh_adj, h, U_resh)\n",
    "    uhu_down = tf.einsum('minr,ijlk,mlqp->nrjqpk', U_resh_adj, h, U_resh)\n",
    "    \n",
    "    # applying isometries\n",
    "    z_up = tf.einsum('ijmn,ijkl->nmlk', Z_resh_adj, Z_resh)\n",
    "    z_down = tf.einsum('ijmn,kjml->nilk', Z_resh_adj, Z_resh)\n",
    "    aux_up = tf.einsum('qijp,ijklmn,qlmo->pkon', Z_resh_adj, uhu_up, Z_resh)\n",
    "    h_up = tf.einsum('ijkl,pjql->ipkq', aux_up, z_down)\n",
    "    aux_down = tf.einsum('jkqp,ijklmn,mnqr->iplr', Z_resh_adj, uhu_down, Z_resh)\n",
    "    h_down = tf.einsum('ijkl,jqlp->iqkp', z_up, aux_down)\n",
    "    \n",
    "    # total renormalized hamiltonian\n",
    "    h_mid = tf.einsum('ijkl,jqlm,rqom->irko', z_up, uhu_mid, z_down)\n",
    "    return (1 / 3) * (h_up + h_mid + h_down)\n",
    "\n",
    "\n",
    "@tf.function\n",
    "def z_gen(inp, out):\n",
    "    \"\"\"the function generates random isometry.\n",
    "    As an input it takes input dimension of input\n",
    "    and output dimension\n",
    "    ---------------------------------------------\n",
    "    inp -- int number\n",
    "    out -- int number\n",
    "    returns tensor of shape (inp ** 3, out)\"\"\"\n",
    "    \n",
    "    Z = tf.cast(tf.random.normal((inp ** 3, inp ** 3)), dtype=tf.complex128) +\\\n",
    "    1j * tf.cast(tf.random.normal((inp ** 3, inp ** 3)), dtype=tf.complex128)\n",
    "    Z, _ = tf.linalg.qr(Z)\n",
    "    Z = Z[:, :out]\n",
    "    return Z\n",
    "\n",
    "\n",
    "@tf.function\n",
    "def u_gen(dim):\n",
    "    \"\"\"the function generates random unitary\n",
    "    matrix. As an input it takes dimension of\n",
    "    one index.\n",
    "    ----------------------------------------\n",
    "    dim - int number\n",
    "    returns tensor of shape (dim ** 2, dim ** 2)\"\"\"\n",
    "    \n",
    "    U = tf.cast(tf.random.normal((dim ** 2, dim ** 2)), dtype=tf.complex128) +\\\n",
    "    1j * tf.cast(tf.random.normal((dim ** 2, dim ** 2)), dtype=tf.complex128)\n",
    "    U, _ = tf.linalg.qr(U)\n",
    "    return U"
   ]
  },
  {
   "cell_type": "code",
   "execution_count": 9,
   "metadata": {},
   "outputs": [],
   "source": [
    "# pauli matrices\n",
    "sigma = tf.constant([[[1j*0, 1 + 1j*0], [1 + 1j*0, 0*1j]],\n",
    "                    [[0*1j, -1j], [1j, 0*1j]],\n",
    "                    [[1 + 0*1j, 0*1j], [0*1j, -1 + 0*1j]]],dtype=tf.complex128)\n",
    "\n",
    "#=========================================#\n",
    "# parameters\n",
    "max_chi = 8 # maximal value of chi\n",
    "num_of_layers = 5 # number of MERA layers\n",
    "h_x = 1. # transvers magnetic field\n",
    "#=========================================#\n",
    "\n",
    "# random unitary and isometyric matrices\n",
    "U = u_gen(2)\n",
    "Z = z_gen(2, max_chi)\n",
    "list_of_U = [u_gen(max_chi) for _ in range(num_of_layers - 1)]\n",
    "list_of_Z = [z_gen(max_chi, max_chi) for _ in range(num_of_layers - 1)]\n",
    "list_of_U = [U] + list_of_U\n",
    "list_of_Z = [Z] + list_of_Z\n",
    "psi = tf.cast(tf.random.normal((max_chi ** 2, 1)), dtype=tf.complex128) +\\\n",
    "                    1j * tf.cast(tf.random.normal((max_chi ** 2, 1)), dtype=tf.complex128)\n",
    "psi = psi / (tf.math.sqrt(tf.linalg.adjoint(psi) @ psi)[0, 0])\n",
    "\n",
    "# real in values of U, Z, psi\n",
    "list_of_U_re_in = [qro.manifold.complex_to_real(list_of_U[i]) for i in range(len(list_of_U))]\n",
    "list_of_Z_re_in = [qro.manifold.complex_to_real(list_of_Z[i]) for i in range(len(list_of_Z))]\n",
    "psi_re_in = qro.manifold.complex_to_real(psi)"
   ]
  },
  {
   "cell_type": "code",
   "execution_count": 10,
   "metadata": {},
   "outputs": [
    {
     "name": "stdout",
     "output_type": "stream",
     "text": [
      "E_exact = fin= -1.273449008363905\n",
      "E_exact = -1.2732395447351623\n"
     ]
    }
   ],
   "source": [
    "# exact value of energy in critical point\n",
    "N = 2 * (num_of_layers ** 2)\n",
    "E0_exact_fin = -2 * (1 / np.sin(np.pi / (2 * N))) / N\n",
    "print(\"E_exact = fin=\", E0_exact_fin)\n",
    "\n",
    "g = h_x\n",
    "f = lambda k,g : -2*np.sqrt(1+g**2-2*g*np.cos(k))/np.pi/2.\n",
    "E0_exact = integrate.quad(f, 0, np.pi, args=(g,))[0]\n",
    "print(\"E_exact =\", E0_exact)"
   ]
  },
  {
   "cell_type": "code",
   "execution_count": 11,
   "metadata": {},
   "outputs": [
    {
     "name": "stderr",
     "output_type": "stream",
     "text": [
      "  0%|▏                                                                               | 10/4000 [00:05<32:56,  2.02it/s]"
     ]
    },
    {
     "name": "stdout",
     "output_type": "stream",
     "text": [
      "WARNING:tensorflow:5 out of the last 5 calls to <function StiefelManifold.retraction at 0x00000250185FC678> triggered tf.function retracing. Tracing is expensive and the excessive number of tracings is likely due to passing python objects instead of tensors. Also, tf.function has experimental_relax_shapes=True option that relaxes argument shapes that can avoid unnecessary retracing. Please refer to https://www.tensorflow.org/beta/tutorials/eager/tf_function#python_or_tensor_args and https://www.tensorflow.org/api_docs/python/tf/function for more details.\n",
      "WARNING:tensorflow:5 out of the last 5 calls to <function StiefelManifold.proj at 0x00000250185FE0D8> triggered tf.function retracing. Tracing is expensive and the excessive number of tracings is likely due to passing python objects instead of tensors. Also, tf.function has experimental_relax_shapes=True option that relaxes argument shapes that can avoid unnecessary retracing. Please refer to https://www.tensorflow.org/beta/tutorials/eager/tf_function#python_or_tensor_args and https://www.tensorflow.org/api_docs/python/tf/function for more details.\n"
     ]
    },
    {
     "name": "stderr",
     "output_type": "stream",
     "text": [
      "100%|██████████████████████████████████████████████████████████████████████████████| 4000/4000 [28:40<00:00,  2.32it/s]\n",
      "100%|██████████████████████████████████████████████████████████████████████████████| 4000/4000 [27:44<00:00,  2.40it/s]\n"
     ]
    }
   ],
   "source": [
    "num_of_iter_per_layer = 7\n",
    "num_of_iter = 4000\n",
    "in_lr = 0.05\n",
    "f_lr = 0.0005\n",
    "decay_coeff = (f_lr / in_lr) ** (1 / num_of_iter)\n",
    "# hamiltonian\n",
    "h = -tf.einsum('ij,kl->ikjl', sigma[2], sigma[2]) +\\\n",
    "tf.einsum('ij,kl->ikjl', -h_x * sigma[0] / 2, tf.eye(2, dtype=tf.complex128)) +\\\n",
    "tf.einsum('ij,kl->ikjl', -tf.eye(2, dtype=tf.complex128), h_x * sigma[0] / 2)\n",
    "local_energy = tf.cast(tf.linalg.eigvalsh(tf.reshape(h, (4, 4)))[-1], dtype=tf.float64)\n",
    "h = h - tf.cast(local_energy, dtype=tf.complex128) * tf.reshape(tf.eye(4, dtype=tf.complex128), (2, 2, 2, 2))\n",
    "m = qro.manifold.StiefelManifold()\n",
    "\n",
    "# optimizers\n",
    "opts = {'RAdam': qro.optimizers.RAdam(m, in_lr),\n",
    "       'MERAOpt': MERAOpt()}\n",
    "E_vs_iter = {}\n",
    "for key, opt in opts.items():\n",
    "    list_of_E = []\n",
    "    list_of_U_re = [tf.Variable(U_re) for U_re in list_of_U_re_in]\n",
    "    list_of_Z_re = [tf.Variable(Z_re) for Z_re in list_of_Z_re_in]\n",
    "    psi_re = tf.Variable(psi_re_in)\n",
    "\n",
    "    all_vars = []\n",
    "    for i in range(len(list_of_U_re)):\n",
    "        all_vars.append(list_of_U_re[i])\n",
    "        all_vars.append(list_of_Z_re[i])\n",
    "    all_vars.append(psi_re)\n",
    "    num_of_vars = len(all_vars)\n",
    "\n",
    "    indecies = [i % num_of_vars for i in range(num_of_iter)]\n",
    "    for idx in tqdm(indecies):\n",
    "        for j in range(num_of_iter_per_layer):\n",
    "\n",
    "            # gradient calculation\n",
    "            with tf.GradientTape() as tape:\n",
    "\n",
    "                # complex matrices\n",
    "                list_of_U = [qro.manifold.real_to_complex(list_of_U_re[i]) for i in range(len(list_of_U_re))]\n",
    "                list_of_Z = [qro.manifold.real_to_complex(list_of_Z_re[i]) for i in range(len(list_of_Z_re))]\n",
    "                psi = qro.manifold.real_to_complex(psi_re)\n",
    "\n",
    "                h_renorm = h\n",
    "                # applying renormalization\n",
    "                for i in range(len(list_of_U)):\n",
    "                    h_renorm = renorm(list_of_U[i],\n",
    "                                      tf.math.conj(list_of_U[i]),\n",
    "                                      list_of_Z[i],\n",
    "                                      tf.math.conj(list_of_Z[i]),\n",
    "                                      h_renorm)\n",
    "                # renormalizad hamiltonian\n",
    "                h_renorm = tf.reshape(h_renorm, (max_chi * max_chi, max_chi * max_chi))\n",
    "                # energy\n",
    "                E = tf.cast((tf.linalg.adjoint(psi) @ h_renorm @ psi),\n",
    "                            dtype=tf.float64)[0, 0]\n",
    "                # adding curent value of energy\n",
    "                list_of_E.append(E + local_energy)\n",
    "\n",
    "            # real gradients\n",
    "            grad = tape.gradient(E, all_vars[idx])\n",
    "            opt.apply_gradients(zip([grad], [all_vars[idx]]))\n",
    "        if key=='RAdam':\n",
    "            opt._get_hyper('learning_rate').assign(opt._get_hyper('learning_rate') * decay_coeff)\n",
    "    E_vs_iter[key] = list_of_E"
   ]
  },
  {
   "cell_type": "code",
   "execution_count": 12,
   "metadata": {},
   "outputs": [
    {
     "name": "stdout",
     "output_type": "stream",
     "text": [
      "tf.Tensor(-1.260744568462973, shape=(), dtype=float64)\n",
      "tf.Tensor(-1.2657752701791734, shape=(), dtype=float64)\n",
      "-1.273449008363905\n"
     ]
    },
    {
     "data": {
      "image/png": "[encoded data removed]",
      "text/plain": [
       "<Figure size 1080x504 with 1 Axes>"
      ]
     },
     "metadata": {
      "needs_background": "light"
     },
     "output_type": "display_data"
    },
    {
     "data": {
      "image/png": "[encoded data removed]",
      "text/plain": [
       "<Figure size 1080x504 with 1 Axes>"
      ]
     },
     "metadata": {
      "needs_background": "light"
     },
     "output_type": "display_data"
    }
   ],
   "source": [
    "keys = list(opts.keys())\n",
    "plt.figure(figsize=(15, 7))\n",
    "plt.plot(E_vs_iter[keys[0]], 'r')\n",
    "plt.plot(E_vs_iter[keys[1]], 'b')\n",
    "plt.plot([E0_exact_fin] * len(E_vs_iter[keys[0]]))\n",
    "plt.figure(figsize=(15, 7))\n",
    "plt.yscale('log')\n",
    "plt.plot(tf.math.abs(E_vs_iter[keys[0]] - tf.convert_to_tensor(([E0_exact_fin] * len(E_vs_iter[keys[0]])))), 'r')\n",
    "plt.plot(tf.math.abs(E_vs_iter[keys[1]] - tf.convert_to_tensor(([E0_exact_fin] * len(E_vs_iter[keys[1]])))), 'b')\n",
    "print(E_vs_iter[keys[0]][-1])\n",
    "print(E_vs_iter[keys[1]][-1])\n",
    "print(E0_exact_fin)\n",
    "plt.savefig('MERAOpt_vs_Radam.pdf')"
   ]
  },
  {
   "cell_type": "code",
   "execution_count": 27,
   "metadata": {},
   "outputs": [
    {
     "data": {
      "text/plain": [
       "11"
      ]
     },
     "execution_count": 27,
     "metadata": {},
     "output_type": "execute_result"
    }
   ],
   "source": [
    "len(all_vars)"
   ]
  },
  {
   "cell_type": "code",
   "execution_count": 81,
   "metadata": {},
   "outputs": [],
   "source": [
    "opt = qro.optimizers.RAdam(m, 0.01)"
   ]
  },
  {
   "cell_type": "code",
   "execution_count": 82,
   "metadata": {},
   "outputs": [
    {
     "data": {
      "text/plain": [
       "<tf.Variable 'learning_rate:0' shape=() dtype=float32, numpy=0.01>"
      ]
     },
     "execution_count": 82,
     "metadata": {},
     "output_type": "execute_result"
    }
   ],
   "source": [
    "opt._get_hyper('learning_rate')"
   ]
  },
  {
   "cell_type": "code",
   "execution_count": null,
   "metadata": {},
   "outputs": [],
   "source": []
  }
 ],
 "metadata": {
  "kernelspec": {
   "display_name": "Python 3",
   "language": "python",
   "name": "python3"
  },
  "language_info": {
   "codemirror_mode": {
    "name": "ipython",
    "version": 3
   },
   "file_extension": ".py",
   "mimetype": "text/x-python",
   "name": "python",
   "nbconvert_exporter": "python",
   "pygments_lexer": "ipython3",
   "version": "3.7.4"
  }
 },
 "nbformat": 4,
 "nbformat_minor": 2
}
