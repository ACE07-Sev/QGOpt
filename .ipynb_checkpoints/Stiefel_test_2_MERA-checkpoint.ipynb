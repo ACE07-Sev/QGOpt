{
 "cells": [
  {
   "cell_type": "code",
   "execution_count": 1,
   "metadata": {},
   "outputs": [],
   "source": [
    "import numpy as np\n",
    "from scipy import integrate\n",
    "import tensornetwork as tn\n",
    "import tensorflow as tf\n",
    "import qriemannopt as qro\n",
    "from MERAOpt import MERAOpt\n",
    "import matplotlib.pyplot as plt\n",
    "from tqdm import tqdm\n",
    "tn.set_default_backend(\"tensorflow\")"
   ]
  },
  {
   "cell_type": "markdown",
   "metadata": {},
   "source": [
    "### Auxiliary functions (Mera layer, generators for disentanglers and isometries)"
   ]
  },
  {
   "cell_type": "code",
   "execution_count": 2,
   "metadata": {},
   "outputs": [],
   "source": [
    "@tf.function\n",
    "def mera_layer(H,\n",
    "               U,\n",
    "               U_conj,\n",
    "               Z_left,\n",
    "               Z_right,\n",
    "               Z_left_conj,\n",
    "               Z_right_conj):\n",
    "    \"\"\"\n",
    "    Returns two-side hamiltonian after renormalization.\n",
    "    Args:\n",
    "        H: complex valued tf tensor of shape (chi ** 2, chi ** 2), two-side hamiltonian\n",
    "        U: complex valued tf tensor of shape (chi ** 2, chi ** 2), disentangler\n",
    "        U_conj: complex valued tf tensor of shape (chi ** 2, chi ** 2), conjugated disentangler\n",
    "        Z_left: complex valued tf tensor of shape (chi ** 3, new_chi), left isometry\n",
    "        Z_right: complex valued tf tensor of shape (chi ** 3, new_chi), right isometry\n",
    "        Z_left_conj: complex valued tf tensor of shape (chi ** 3, new_chi), left conjugated isometry\n",
    "        Z_right_conj: complex valued tf tensor of shape (chi ** 3, new_chi), right conjugated isometry\n",
    "    Returns: \n",
    "        tf tensor of shape (new_chi ** 2, new_chi ** 2), renormalized two side hamiltonian\n",
    "    \"\"\"\n",
    "    \n",
    "    # chi and new_chi\n",
    "    chi = tf.cast(tf.math.sqrt(tf.cast(U.shape[0], dtype=tf.float64)), dtype=tf.int32)\n",
    "    chi_new = Z_left.shape[-1]\n",
    "    \n",
    "    # tn nodes\n",
    "    h = tn.Node(tf.reshape(H, (chi, chi, chi, chi)))\n",
    "    u = tn.Node(tf.reshape(U, (chi, chi, chi, chi)))\n",
    "    u_conj = tn.Node(tf.reshape(U_conj, (chi, chi, chi, chi)))\n",
    "    z_left = tn.Node(tf.reshape(Z_left, (chi, chi, chi, chi_new)))\n",
    "    z_right = tn.Node(tf.reshape(Z_right, (chi, chi, chi, chi_new)))\n",
    "    z_left_conj = tn.Node(tf.reshape(Z_left_conj, (chi, chi, chi, chi_new)))\n",
    "    z_right_conj = tn.Node(tf.reshape(Z_right_conj, (chi, chi, chi, chi_new)))\n",
    "    \n",
    "    # standard for all parts environment\n",
    "    z_left[0]^z_left_conj[0]\n",
    "    z_right[2]^z_right_conj[2]\n",
    "    u[2]^z_left[2]\n",
    "    u[3]^z_right[0]\n",
    "    u_conj[2]^z_left_conj[2]\n",
    "    u_conj[3]^z_right_conj[0]\n",
    "    \n",
    "    # first renormalization\n",
    "    z_left[1]^h[2]\n",
    "    z_left_conj[1]^h[0]\n",
    "    u[0]^h[3]\n",
    "    u_conj[0]^h[1]\n",
    "    u[1]^u_conj[1]\n",
    "    z_right[1]^z_right_conj[1]\n",
    "    nodes = tn.reachable(h)\n",
    "    renorm_first = tn.contractors.optimal(nodes, [z_left_conj[3],\n",
    "                                                  z_right_conj[3],\n",
    "                                                  z_left[3],\n",
    "                                                  z_right[3]])\n",
    "    \n",
    "    # standard for all parts environment\n",
    "    z_left[0]^z_left_conj[0]\n",
    "    z_right[2]^z_right_conj[2]\n",
    "    u[2]^z_left[2]\n",
    "    u[3]^z_right[0]\n",
    "    u_conj[2]^z_left_conj[2]\n",
    "    u_conj[3]^z_right_conj[0]\n",
    "    \n",
    "    # second renormalization\n",
    "    z_left[1]^z_left_conj[1]\n",
    "    z_right[1]^z_right_conj[1]\n",
    "    u[0]^h[2]\n",
    "    u[1]^h[3]\n",
    "    u_conj[0]^h[0]\n",
    "    u_conj[1]^h[1]\n",
    "    nodes = tn.reachable(h)\n",
    "    renorm_second = tn.contractors.optimal(nodes, [z_left_conj[3],\n",
    "                                                  z_right_conj[3],\n",
    "                                                  z_left[3],\n",
    "                                                  z_right[3]])\n",
    "    \n",
    "    # standard for all parts environment\n",
    "    z_left[0]^z_left_conj[0]\n",
    "    z_right[2]^z_right_conj[2]\n",
    "    u[2]^z_left[2]\n",
    "    u[3]^z_right[0]\n",
    "    u_conj[2]^z_left_conj[2]\n",
    "    u_conj[3]^z_right_conj[0]\n",
    "    \n",
    "    # third renormalization\n",
    "    z_left[1]^z_left_conj[1]\n",
    "    u[0]^u_conj[0]\n",
    "    u[1]^h[2]\n",
    "    u_conj[1]^h[0]\n",
    "    z_right[1]^h[3]\n",
    "    z_right_conj[1]^h[1]\n",
    "    nodes = tn.reachable(h)\n",
    "    renorm_third = tn.contractors.optimal(nodes, [z_left_conj[3],\n",
    "                                                  z_right_conj[3],\n",
    "                                                  z_left[3],\n",
    "                                                  z_right[3]])\n",
    "    \n",
    "    return (renorm_first.tensor + renorm_second.tensor + renorm_third.tensor) / 3\n",
    "\n",
    "\n",
    "@tf.function\n",
    "def z_gen(chi, new_chi):\n",
    "    \"\"\"\n",
    "    Returns random isometry.\n",
    "    Args:\n",
    "        chi: int number, input chi\n",
    "        new_chi: int number, output chi\n",
    "    Returns:\n",
    "        complex valued tf tensor of shape (chi ** 3, new_chi)\n",
    "    \"\"\"\n",
    "    \n",
    "    Z = qro.manifold.real_to_complex(tf.random.normal((chi ** 3,  new_chi, 2), dtype=tf.float64))\n",
    "    Z, _ = tf.linalg.qr(Z)\n",
    "    return Z\n",
    "\n",
    "\n",
    "@tf.function\n",
    "def u_gen(chi):\n",
    "    \"\"\"\n",
    "    Returns identical matrix (initial disentangler)\n",
    "    Args:\n",
    "        chi: int number, chi\n",
    "    Returns:\n",
    "        complex valued tf tensor of shape (chi ** 2, chi ** 2)\n",
    "    \"\"\"\n",
    "    \n",
    "    U = tf.eye(chi ** 2, dtype=tf.complex128)\n",
    "    return U"
   ]
  },
  {
   "cell_type": "markdown",
   "metadata": {},
   "source": [
    "### Parameters of MERA and Hamiltonian"
   ]
  },
  {
   "cell_type": "code",
   "execution_count": 3,
   "metadata": {},
   "outputs": [
    {
     "name": "stdout",
     "output_type": "stream",
     "text": [
      "WARNING:tensorflow:5 out of the last 11 calls to <function complex_to_real at 0x00000289EAFE60D8> triggered tf.function retracing. Tracing is expensive and the excessive number of tracings is likely due to passing python objects instead of tensors. Also, tf.function has experimental_relax_shapes=True option that relaxes argument shapes that can avoid unnecessary retracing. Please refer to https://www.tensorflow.org/tutorials/customization/performance#python_or_tensor_args and https://www.tensorflow.org/api_docs/python/tf/function for more details.\n"
     ]
    }
   ],
   "source": [
    "#===========================================#\n",
    "max_chi = 4 # max bond dim\n",
    "num_of_layers = 5 # number of layers of MERA\n",
    "h_x = 1. # transvers field\n",
    "#===========================================#\n",
    "\n",
    "# pauli matrices\n",
    "sigma = tf.constant([[[1j*0, 1 + 1j*0], [1 + 1j*0, 0*1j]],\n",
    "                    [[0*1j, -1j], [1j, 0*1j]],\n",
    "                    [[1 + 0*1j, 0*1j], [0*1j, -1 + 0*1j]]], dtype=tf.complex128)\n",
    "    \n",
    "# hamiltonian\n",
    "h = -tf.einsum('ij,kl->ikjl', sigma[0], sigma[0]) +\\\n",
    "tf.einsum('ij,kl->ikjl', -h_x * sigma[2], tf.eye(2, dtype=tf.complex128))\n",
    "\n",
    "# initial disentanglers, isometries, psi vector\n",
    "U = u_gen(2)\n",
    "Z = z_gen(2, max_chi)\n",
    "U_list = [u_gen(max_chi) for _ in range(num_of_layers - 1)]\n",
    "Z_list = [z_gen(max_chi, max_chi) for _ in range(num_of_layers - 1)]\n",
    "U_list = [U] + U_list\n",
    "Z_list = [Z] + Z_list\n",
    "psi = qro.manifold.real_to_complex(tf.random.normal((max_chi ** 2, 1, 2), dtype=tf.float64))\n",
    "psi, _ = tf.linalg.qr(psi)\n",
    "\n",
    "# converting U, Z, psi to float64 (necessary for optimizer)\n",
    "U_list = [qro.manifold.complex_to_real(U_list[i]) for i in range(len(U_list))]\n",
    "Z_list = [qro.manifold.complex_to_real(Z_list[i]) for i in range(len(Z_list))]\n",
    "psi = qro.manifold.complex_to_real(psi)"
   ]
  },
  {
   "cell_type": "markdown",
   "metadata": {},
   "source": [
    "### Optimization"
   ]
  },
  {
   "cell_type": "code",
   "execution_count": 4,
   "metadata": {},
   "outputs": [
    {
     "name": "stderr",
     "output_type": "stream",
     "text": [
      "\r",
      "  0%|                                                                                         | 0/3000 [00:00<?, ?it/s]"
     ]
    },
    {
     "name": "stdout",
     "output_type": "stream",
     "text": [
      "WARNING:tensorflow:5 out of the last 5 calls to <function real_to_complex at 0x00000289EAFE6318> triggered tf.function retracing. Tracing is expensive and the excessive number of tracings is likely due to passing python objects instead of tensors. Also, tf.function has experimental_relax_shapes=True option that relaxes argument shapes that can avoid unnecessary retracing. Please refer to https://www.tensorflow.org/tutorials/customization/performance#python_or_tensor_args and https://www.tensorflow.org/api_docs/python/tf/function for more details.\n",
      "WARNING:tensorflow:6 out of the last 9 calls to <function real_to_complex at 0x00000289EAFE6318> triggered tf.function retracing. Tracing is expensive and the excessive number of tracings is likely due to passing python objects instead of tensors. Also, tf.function has experimental_relax_shapes=True option that relaxes argument shapes that can avoid unnecessary retracing. Please refer to https://www.tensorflow.org/tutorials/customization/performance#python_or_tensor_args and https://www.tensorflow.org/api_docs/python/tf/function for more details.\n",
      "WARNING:tensorflow:7 out of the last 10 calls to <function real_to_complex at 0x00000289EAFE6318> triggered tf.function retracing. Tracing is expensive and the excessive number of tracings is likely due to passing python objects instead of tensors. Also, tf.function has experimental_relax_shapes=True option that relaxes argument shapes that can avoid unnecessary retracing. Please refer to https://www.tensorflow.org/tutorials/customization/performance#python_or_tensor_args and https://www.tensorflow.org/api_docs/python/tf/function for more details.\n",
      "WARNING:tensorflow:5 out of the last 11 calls to <function real_to_complex at 0x00000289EAFE6318> triggered tf.function retracing. Tracing is expensive and the excessive number of tracings is likely due to passing python objects instead of tensors. Also, tf.function has experimental_relax_shapes=True option that relaxes argument shapes that can avoid unnecessary retracing. Please refer to https://www.tensorflow.org/tutorials/customization/performance#python_or_tensor_args and https://www.tensorflow.org/api_docs/python/tf/function for more details.\n",
      "WARNING:tensorflow:5 out of the last 11 calls to <function real_to_complex at 0x00000289EAFE6318> triggered tf.function retracing. Tracing is expensive and the excessive number of tracings is likely due to passing python objects instead of tensors. Also, tf.function has experimental_relax_shapes=True option that relaxes argument shapes that can avoid unnecessary retracing. Please refer to https://www.tensorflow.org/tutorials/customization/performance#python_or_tensor_args and https://www.tensorflow.org/api_docs/python/tf/function for more details.\n",
      "WARNING:tensorflow:6 out of the last 12 calls to <function real_to_complex at 0x00000289EAFE6318> triggered tf.function retracing. Tracing is expensive and the excessive number of tracings is likely due to passing python objects instead of tensors. Also, tf.function has experimental_relax_shapes=True option that relaxes argument shapes that can avoid unnecessary retracing. Please refer to https://www.tensorflow.org/tutorials/customization/performance#python_or_tensor_args and https://www.tensorflow.org/api_docs/python/tf/function for more details.\n",
      "WARNING:tensorflow:7 out of the last 13 calls to <function real_to_complex at 0x00000289EAFE6318> triggered tf.function retracing. Tracing is expensive and the excessive number of tracings is likely due to passing python objects instead of tensors. Also, tf.function has experimental_relax_shapes=True option that relaxes argument shapes that can avoid unnecessary retracing. Please refer to https://www.tensorflow.org/tutorials/customization/performance#python_or_tensor_args and https://www.tensorflow.org/api_docs/python/tf/function for more details.\n",
      "WARNING:tensorflow:5 out of the last 11 calls to <function complex_to_real at 0x00000289EAFE60D8> triggered tf.function retracing. Tracing is expensive and the excessive number of tracings is likely due to passing python objects instead of tensors. Also, tf.function has experimental_relax_shapes=True option that relaxes argument shapes that can avoid unnecessary retracing. Please refer to https://www.tensorflow.org/tutorials/customization/performance#python_or_tensor_args and https://www.tensorflow.org/api_docs/python/tf/function for more details.\n",
      "WARNING:tensorflow:6 out of the last 12 calls to <function complex_to_real at 0x00000289EAFE60D8> triggered tf.function retracing. Tracing is expensive and the excessive number of tracings is likely due to passing python objects instead of tensors. Also, tf.function has experimental_relax_shapes=True option that relaxes argument shapes that can avoid unnecessary retracing. Please refer to https://www.tensorflow.org/tutorials/customization/performance#python_or_tensor_args and https://www.tensorflow.org/api_docs/python/tf/function for more details.\n",
      "WARNING:tensorflow:6 out of the last 11 calls to <function real_to_complex at 0x00000289EAFE6318> triggered tf.function retracing. Tracing is expensive and the excessive number of tracings is likely due to passing python objects instead of tensors. Also, tf.function has experimental_relax_shapes=True option that relaxes argument shapes that can avoid unnecessary retracing. Please refer to https://www.tensorflow.org/tutorials/customization/performance#python_or_tensor_args and https://www.tensorflow.org/api_docs/python/tf/function for more details.\n",
      "WARNING:tensorflow:7 out of the last 12 calls to <function real_to_complex at 0x00000289EAFE6318> triggered tf.function retracing. Tracing is expensive and the excessive number of tracings is likely due to passing python objects instead of tensors. Also, tf.function has experimental_relax_shapes=True option that relaxes argument shapes that can avoid unnecessary retracing. Please refer to https://www.tensorflow.org/tutorials/customization/performance#python_or_tensor_args and https://www.tensorflow.org/api_docs/python/tf/function for more details.\n",
      "WARNING:tensorflow:6 out of the last 11 calls to <function complex_to_real at 0x00000289EAFE60D8> triggered tf.function retracing. Tracing is expensive and the excessive number of tracings is likely due to passing python objects instead of tensors. Also, tf.function has experimental_relax_shapes=True option that relaxes argument shapes that can avoid unnecessary retracing. Please refer to https://www.tensorflow.org/tutorials/customization/performance#python_or_tensor_args and https://www.tensorflow.org/api_docs/python/tf/function for more details.\n",
      "WARNING:tensorflow:5 out of the last 26 calls to <function real_to_complex at 0x00000289EAFE6318> triggered tf.function retracing. Tracing is expensive and the excessive number of tracings is likely due to passing python objects instead of tensors. Also, tf.function has experimental_relax_shapes=True option that relaxes argument shapes that can avoid unnecessary retracing. Please refer to https://www.tensorflow.org/tutorials/customization/performance#python_or_tensor_args and https://www.tensorflow.org/api_docs/python/tf/function for more details.\n"
     ]
    },
    {
     "name": "stderr",
     "output_type": "stream",
     "text": [
      "100%|██████████████████████████████████████████████████████████████████████████████| 3000/3000 [04:33<00:00, 10.95it/s]\n"
     ]
    }
   ],
   "source": [
    "#==================================#\n",
    "iters = 3000 # number of iterations\n",
    "lr_i = 0.3 # initial learning rate\n",
    "lr_f = 0.1 # final learning rate\n",
    "#==================================#\n",
    "\n",
    "# learning rate decay coefficient\n",
    "decay = (lr_f / lr_i) ** (1 / iters)\n",
    "\n",
    "# optimizer\n",
    "m = qro.manifold.StiefelManifold() # Stiefel manifold\n",
    "opt = qro.optimizers.RAdam(m, lr_i, ams=True)\n",
    "\n",
    "\n",
    "E_list = [] # will be filled by energy per iter\n",
    "varU = [tf.Variable(U_re) for U_re in U_list] # disentanglers vars\n",
    "varZ = [tf.Variable(Z_re) for Z_re in Z_list] # isometries vars\n",
    "varpsi = tf.Variable(psi) # pis var\n",
    "all_vars = varU + varZ + [varpsi] # all variables in one list\n",
    "\n",
    "for j in tqdm(range(iters)):\n",
    "\n",
    "    # gradient calculation\n",
    "    with tf.GradientTape() as tape:\n",
    "\n",
    "        # from real to complex\n",
    "        varU_c = [qro.manifold.real_to_complex(varU[i]) for i in range(len(varU))]\n",
    "        varZ_c = [qro.manifold.real_to_complex(varZ[i]) for i in range(len(varZ))]\n",
    "        varpsi_c = qro.manifold.real_to_complex(varpsi)\n",
    "\n",
    "        h_renorm = h\n",
    "        \n",
    "        # applying renormalization\n",
    "        for i in range(len(varU)):\n",
    "            h_renorm = mera_layer(h_renorm,\n",
    "                                  varU_c[i],\n",
    "                                  tf.math.conj(varU_c[i]),\n",
    "                                  varZ_c[i],\n",
    "                                  varZ_c[i],\n",
    "                                  tf.math.conj(varZ_c[i]),\n",
    "                                  tf.math.conj(varZ_c[i]))\n",
    "            \n",
    "        # renormalizad hamiltonian\n",
    "        h_renorm = (h_renorm + tf.transpose(h_renorm, (1, 0, 3, 2))) / 2\n",
    "        h_renorm = tf.reshape(h_renorm, (max_chi * max_chi, max_chi * max_chi))\n",
    "        \n",
    "        # energy\n",
    "        E = tf.cast((tf.transpose(tf.math.conj(varpsi_c)) @ h_renorm @ varpsi_c),\n",
    "                    dtype=tf.float64)[0, 0]\n",
    "        \n",
    "        # filling E_list\n",
    "        E_list.append(E)\n",
    "\n",
    "    # gradients\n",
    "    grad = tape.gradient(E, all_vars)\n",
    "    \n",
    "    # optimization step\n",
    "    opt.apply_gradients(zip(grad, all_vars))\n",
    "    \n",
    "    # learning rate update\n",
    "    opt._set_hyper(\"learning_rate\", opt._get_hyper(\"learning_rate\") * decay)"
   ]
  },
  {
   "cell_type": "markdown",
   "metadata": {},
   "source": [
    "### Comparison with the exact energy"
   ]
  },
  {
   "cell_type": "code",
   "execution_count": 6,
   "metadata": {
    "scrolled": true
   },
   "outputs": [
    {
     "name": "stdout",
     "output_type": "stream",
     "text": [
      "MERA energy: -1.2731157879684813\n",
      "Exact energy: -1.2732417615356748\n"
     ]
    },
    {
     "data": {
      "image/png": "[encoded data removed]",
      "text/plain": [
       "<Figure size 432x288 with 1 Axes>"
      ]
     },
     "metadata": {
      "needs_background": "light"
     },
     "output_type": "display_data"
    }
   ],
   "source": [
    "# exact value of energy in critical point\n",
    "N = 2 * (3 ** num_of_layers) # number of spins\n",
    "E0_exact_fin = -2 * (1 / np.sin(np.pi / (2 * N))) / N # exact energy\n",
    "\n",
    "plt.yscale('log')\n",
    "plt.xlabel('iter')\n",
    "plt.ylabel('err')\n",
    "plt.plot(E_list - tf.convert_to_tensor(([E0_exact_fin] * len(E_list))), 'b')\n",
    "print(\"MERA energy:\", E_list[-1].numpy())\n",
    "print(\"Exact energy:\", E0_exact_fin)\n",
    "plt.savefig('MERAOpt_vs_Radam.pdf')"
   ]
  }
 ],
 "metadata": {
  "kernelspec": {
   "display_name": "Python 3",
   "language": "python",
   "name": "python3"
  },
  "language_info": {
   "codemirror_mode": {
    "name": "ipython",
    "version": 3
   },
   "file_extension": ".py",
   "mimetype": "text/x-python",
   "name": "python",
   "nbconvert_exporter": "python",
   "pygments_lexer": "ipython3",
   "version": "3.7.4"
  }
 },
 "nbformat": 4,
 "nbformat_minor": 2
}
