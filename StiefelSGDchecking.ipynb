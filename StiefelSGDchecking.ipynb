{
 "cells": [
  {
   "cell_type": "code",
   "execution_count": 6,
   "metadata": {},
   "outputs": [],
   "source": [
    "import tensorflow as tf\n",
    "import qriemannopt as qro\n",
    "import matplotlib.pyplot as plt"
   ]
  },
  {
   "cell_type": "code",
   "execution_count": 7,
   "metadata": {},
   "outputs": [],
   "source": [
    "# isometric variable\n",
    "q = tf.complex(tf.random.normal((1, 10, 3), dtype=tf.float64),\n",
    "               tf.random.normal((1, 10, 3), dtype=tf.float64))\n",
    "q, _ = tf.linalg.qr(q)\n",
    "q = tf.Variable(tf.concat([tf.math.real(q)[..., tf.newaxis],\n",
    "                           tf.math.imag(q)[..., tf.newaxis]], axis=-1))\n",
    "\n",
    "# hamiltonian\n",
    "H = tf.complex(tf.random.normal((10, 10), dtype=tf.float64),\n",
    "               tf.random.normal((10, 10), dtype=tf.float64))\n",
    "H = 0.5 * (H + tf.linalg.adjoint(H))\n",
    "\n",
    "# min of loss function\n",
    "min_value = tf.cast(tf.reduce_sum(tf.linalg.eigvalsh(H)[:3]),\n",
    "                   dtype=tf.float64)\n",
    "\n",
    "# riemannian optimizaer\n",
    "opt = qro.StiefelSGD()"
   ]
  },
  {
   "cell_type": "code",
   "execution_count": 8,
   "metadata": {},
   "outputs": [],
   "source": [
    "# training loop\n",
    "losses = []\n",
    "for _ in range(1000):\n",
    "    with tf.GradientTape() as tape:\n",
    "        Z = tf.complex(q[..., 0], q[..., 1])[0]\n",
    "        loss = tf.cast(tf.linalg.trace(tf.linalg.adjoint(Z) @ H @ Z),\n",
    "                      dtype=tf.float64)\n",
    "        losses.append(loss - min_value)\n",
    "    grad = tape.gradient(loss, q)\n",
    "    opt.apply_gradients(zip([grad], [q]))"
   ]
  },
  {
   "cell_type": "code",
   "execution_count": 9,
   "metadata": {},
   "outputs": [
    {
     "data": {
      "text/plain": [
       "Text(0, 0.5, 'err')"
      ]
     },
     "execution_count": 9,
     "metadata": {},
     "output_type": "execute_result"
    },
    {
     "data": {
      "image/png": "[encoded data removed]",
      "text/plain": [
       "<Figure size 432x288 with 1 Axes>"
      ]
     },
     "metadata": {
      "needs_background": "light"
     },
     "output_type": "display_data"
    }
   ],
   "source": [
    "plt.plot(losses)\n",
    "plt.yscale('log')\n",
    "plt.xlabel('iter')\n",
    "plt.ylabel('err')"
   ]
  }
 ],
 "metadata": {
  "kernelspec": {
   "display_name": "Python 3",
   "language": "python",
   "name": "python3"
  },
  "language_info": {
   "codemirror_mode": {
    "name": "ipython",
    "version": 3
   },
   "file_extension": ".py",
   "mimetype": "text/x-python",
   "name": "python",
   "nbconvert_exporter": "python",
   "pygments_lexer": "ipython3",
   "version": "3.7.4"
  }
 },
 "nbformat": 4,
 "nbformat_minor": 2
}
