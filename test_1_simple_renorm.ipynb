{
  "nbformat": 4,
  "nbformat_minor": 0,
  "metadata": {
    "colab": {
      "name": "test_1_simple_renorm.ipynb",
      "provenance": [],
      "collapsed_sections": []
    },
    "kernelspec": {
      "name": "python3",
      "display_name": "Python 3"
    }
  },
  "cells": [
    {
      "cell_type": "code",
      "metadata": {
        "id": "U96H2QAQSI-V",
        "colab_type": "code",
        "colab": {}
      },
      "source": [
        "import tensorflow as tf\n",
        "import matplotlib.pyplot as plt"
      ],
      "execution_count": 0,
      "outputs": []
    },
    {
      "cell_type": "code",
      "metadata": {
        "id": "inyJ5DmvSMT2",
        "colab_type": "code",
        "colab": {}
      },
      "source": [
        "ham_dim = 10 # dimension of hamiltonian\n",
        "renorm_ham_dim = 3 # dimension of renormalized hamiltonian\n",
        "\n",
        "# hamiltonian\n",
        "H = tf.complex(tf.random.normal((ham_dim, ham_dim), dtype=tf.float64),\n",
        "               tf.random.normal((ham_dim, ham_dim), dtype=tf.float64))\n",
        "H = 0.5 * (H + tf.linalg.adjoint(H))\n",
        "\n",
        "# isometric matrix\n",
        "q_in = tf.complex(tf.random.normal((ham_dim, renorm_ham_dim), dtype=tf.float64),\n",
        "               tf.random.normal((ham_dim, renorm_ham_dim), dtype=tf.float64))\n",
        "q_in, _ = tf.linalg.qr(q_in)\n",
        "q_in = complex_to_real(q_in)\n",
        "\n",
        "# min of loss function\n",
        "min_value = tf.cast(tf.reduce_sum(tf.linalg.eigvalsh(H)[:renorm_ham_dim]),\n",
        "                   dtype=tf.float64)\n",
        "\n",
        "# riemannian optimizaers\n",
        "opts = [StiefelSGD(0.03), StiefelSGD(0.03, 0.9)]"
      ],
      "execution_count": 0,
      "outputs": []
    },
    {
      "cell_type": "code",
      "metadata": {
        "id": "ozekmGU-Sg9s",
        "colab_type": "code",
        "colab": {}
      },
      "source": [
        "list_of_losses = []\n",
        "# loop over optimizers\n",
        "for opt in opts:\n",
        "    # training loop\n",
        "    losses = []\n",
        "    q = tf.Variable(q_in)\n",
        "    for _ in range(500):\n",
        "        with tf.GradientTape() as tape:\n",
        "            Z = tf.complex(q[..., 0], q[..., 1])\n",
        "            loss = tf.cast(tf.linalg.trace((tf.linalg.adjoint(Z) @ H @ Z)),\n",
        "                        dtype=tf.float64)\n",
        "            losses.append(loss - min_value)\n",
        "        grad = tape.gradient(loss, q)\n",
        "        opt.apply_gradients(zip([grad], [q]))\n",
        "    list_of_losses.append(losses)"
      ],
      "execution_count": 0,
      "outputs": []
    },
    {
      "cell_type": "code",
      "metadata": {
        "id": "lyIBUZ9WSuWu",
        "colab_type": "code",
        "colab": {}
      },
      "source": [
        "# learning curves\n",
        "plt.plot(list_of_losses[0], 'r')\n",
        "plt.plot(list_of_losses[1], 'b')\n",
        "plt.yscale('log')\n",
        "plt.xlabel('iter')\n",
        "plt.ylabel('err')"
      ],
      "execution_count": 0,
      "outputs": []
    }
  ]
}